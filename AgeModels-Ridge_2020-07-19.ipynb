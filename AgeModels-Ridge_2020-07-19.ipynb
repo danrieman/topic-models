{
 "cells": [
  {
   "cell_type": "code",
   "execution_count": 100,
   "metadata": {},
   "outputs": [],
   "source": [
    "import pandas as pd\n",
    "import seaborn\n",
    "from pathlib import Path\n",
    "from typing import Dict\n",
    "from pymodels.main import (\n",
    "    UserLevelExperiment as UserExperiment,\n",
    "    UserLevelTrainOnFacebookExperiment as FacebookExperiment,\n",
    "    UserLevelTrainOnTwitterExperiment as TwitterExperiment\n",
    ")"
   ]
  },
  {
   "cell_type": "code",
   "execution_count": 2,
   "metadata": {},
   "outputs": [],
   "source": [
    "data_dir = Path(\"r/localdata/features\")\n",
    "target = \"age\""
   ]
  },
  {
   "cell_type": "markdown",
   "metadata": {},
   "source": [
    "# Age Models (Run with Ridge)"
   ]
  },
  {
   "cell_type": "markdown",
   "metadata": {},
   "source": [
    "## Train on Facebook, Evaluate on Twitter and Facebook"
   ]
  },
  {
   "cell_type": "markdown",
   "metadata": {},
   "source": [
    "### k = 10"
   ]
  },
  {
   "cell_type": "markdown",
   "metadata": {},
   "source": [
    "- Corr\n",
    "  - Performance: {'Train': {'r2': -0.020509359968337915, 'pearsonr': 0.20792825383536473},\n",
    " 'Test': {'r2': {'Twitter': -0.00624060951775518,\n",
    "   'Facebook': -0.022898303512171037},\n",
    "  'pearsonr': {'Twitter': -0.025956130706527095,\n",
    "   'Facebook': -0.13188499929714112}}}\n",
    "  - Params: {'model__C': 0.16758333333333333, 'pca__n_components': 0.97}\n",
    "- STM\n",
    "  - Performance: {'Train': {'r2': -0.012043123249023013, 'pearsonr': 0.20955162439053882},\n",
    " 'Test': {'r2': {'Twitter': -0.017825498991552058,\n",
    "   'Facebook': -0.024097626474778533},\n",
    "  'pearsonr': {'Twitter': -0.06826351001901398,\n",
    "   'Facebook': -0.028625806427064335}}\n",
    "  - Params: {'model__C': 0.33416666666666667, 'pca__n_components': 0.9}"
   ]
  },
  {
   "cell_type": "markdown",
   "metadata": {},
   "source": [
    "#### Without STM domain variable"
   ]
  },
  {
   "cell_type": "code",
   "execution_count": 3,
   "metadata": {},
   "outputs": [],
   "source": [
    "fb_10_corr = FacebookExperiment(target, 10, False, data_dir)"
   ]
  },
  {
   "cell_type": "code",
   "execution_count": 4,
   "metadata": {},
   "outputs": [],
   "source": [
    "fb_10_corr.run()"
   ]
  },
  {
   "cell_type": "code",
   "execution_count": 5,
   "metadata": {},
   "outputs": [
    {
     "data": {
      "text/plain": [
       "{'model__alpha': 1.0, 'pca__n_components': 0.9299999999999999}"
      ]
     },
     "execution_count": 5,
     "metadata": {},
     "output_type": "execute_result"
    }
   ],
   "source": [
    "fb_10_corr.model.best_params_"
   ]
  },
  {
   "cell_type": "code",
   "execution_count": 6,
   "metadata": {},
   "outputs": [
    {
     "data": {
      "text/plain": [
       "{'Train': {'r2': 0.038743776542076946, 'pearsonr': 0.1968351997981782},\n",
       " 'Test': {'r2': {'Twitter': -1.388789210237575,\n",
       "   'Facebook': -0.03431329695941909},\n",
       "  'pearsonr': {'Twitter': -0.041823056223090405,\n",
       "   'Facebook': 0.03181962860406365}}}"
      ]
     },
     "execution_count": 6,
     "metadata": {},
     "output_type": "execute_result"
    }
   ],
   "source": [
    "fb_10_corr.metrics"
   ]
  },
  {
   "cell_type": "markdown",
   "metadata": {},
   "source": [
    "#### With STM domain variable"
   ]
  },
  {
   "cell_type": "code",
   "execution_count": 7,
   "metadata": {},
   "outputs": [],
   "source": [
    "fb_10_stm = FacebookExperiment(target, 10, True, data_dir)"
   ]
  },
  {
   "cell_type": "code",
   "execution_count": 8,
   "metadata": {},
   "outputs": [],
   "source": [
    "fb_10_stm.run()"
   ]
  },
  {
   "cell_type": "code",
   "execution_count": 9,
   "metadata": {},
   "outputs": [
    {
     "data": {
      "text/plain": [
       "{'model__alpha': 1968.4194472866113, 'pca__n_components': 0.95}"
      ]
     },
     "execution_count": 9,
     "metadata": {},
     "output_type": "execute_result"
    }
   ],
   "source": [
    "fb_10_stm.model.best_params_"
   ]
  },
  {
   "cell_type": "code",
   "execution_count": 10,
   "metadata": {},
   "outputs": [
    {
     "data": {
      "text/plain": [
       "{'Train': {'r2': 0.01688383504597868, 'pearsonr': 0.17465339070047747},\n",
       " 'Test': {'r2': {'Twitter': -0.020334765771845564,\n",
       "   'Facebook': 0.004773007382729011},\n",
       "  'pearsonr': {'Twitter': -0.049512849465391265,\n",
       "   'Facebook': 0.08905045943643412}}}"
      ]
     },
     "execution_count": 10,
     "metadata": {},
     "output_type": "execute_result"
    }
   ],
   "source": [
    "fb_10_stm.metrics"
   ]
  },
  {
   "cell_type": "markdown",
   "metadata": {},
   "source": [
    "### k = 25"
   ]
  },
  {
   "cell_type": "markdown",
   "metadata": {},
   "source": [
    "- Corr\n",
    "  - Performance: {'model__C': 0.250875, 'pca__n_components': 0.99}\n",
    "  - Params: {'Train': {'r2': -0.015038882137403009, 'pearsonr': 0.2378154471622497},\n",
    " 'Test': {'r2': {'Twitter': -0.0051883139480035645,\n",
    "   'Facebook': -0.013777291481907428},\n",
    "  'pearsonr': {'Twitter': -0.002017493482167343,\n",
    "   'Facebook': 0.08279237974077389}}}\n",
    "- STM\n",
    "  - Performance: {'Train': {'r2': -0.01812390768975547, 'pearsonr': 0.24411568550129317},\n",
    " 'Test': {'r2': {'Twitter': -0.008878072185080965,\n",
    "   'Facebook': -0.017087491453463333},\n",
    "  'pearsonr': {'Twitter': -0.0024182369251352018,\n",
    "   'Facebook': 0.06134847026583073}}}\n",
    "  - Params: {'model__C': 0.250875, 'pca__n_components': 0.99}"
   ]
  },
  {
   "cell_type": "markdown",
   "metadata": {},
   "source": [
    "#### Without STM domain variable"
   ]
  },
  {
   "cell_type": "code",
   "execution_count": 11,
   "metadata": {},
   "outputs": [],
   "source": [
    "fb_25_corr = FacebookExperiment(target, 25, False, data_dir)"
   ]
  },
  {
   "cell_type": "code",
   "execution_count": 12,
   "metadata": {},
   "outputs": [],
   "source": [
    "fb_25_corr.run()"
   ]
  },
  {
   "cell_type": "code",
   "execution_count": 13,
   "metadata": {},
   "outputs": [
    {
     "data": {
      "text/plain": [
       "{'model__alpha': 58.170913293743574, 'pca__n_components': 0.99}"
      ]
     },
     "execution_count": 13,
     "metadata": {},
     "output_type": "execute_result"
    }
   ],
   "source": [
    "fb_25_corr.model.best_params_"
   ]
  },
  {
   "cell_type": "code",
   "execution_count": 14,
   "metadata": {},
   "outputs": [
    {
     "data": {
      "text/plain": [
       "{'Train': {'r2': 0.08744263063644242, 'pearsonr': 0.29942400846748085},\n",
       " 'Test': {'r2': {'Twitter': -1.464853539848364,\n",
       "   'Facebook': -0.0083930565092325},\n",
       "  'pearsonr': {'Twitter': -0.05827247903785933,\n",
       "   'Facebook': 0.11846934119101518}}}"
      ]
     },
     "execution_count": 14,
     "metadata": {},
     "output_type": "execute_result"
    }
   ],
   "source": [
    "fb_25_corr.metrics"
   ]
  },
  {
   "cell_type": "markdown",
   "metadata": {},
   "source": [
    "#### With STM domain variable"
   ]
  },
  {
   "cell_type": "code",
   "execution_count": 15,
   "metadata": {},
   "outputs": [],
   "source": [
    "fb_25_stm = FacebookExperiment(target, 25, True, data_dir)"
   ]
  },
  {
   "cell_type": "code",
   "execution_count": 16,
   "metadata": {},
   "outputs": [],
   "source": [
    "fb_25_stm.run()"
   ]
  },
  {
   "cell_type": "code",
   "execution_count": 17,
   "metadata": {},
   "outputs": [
    {
     "data": {
      "text/plain": [
       "{'model__alpha': 873.3261623828429, 'pca__n_components': 0.7}"
      ]
     },
     "execution_count": 17,
     "metadata": {},
     "output_type": "execute_result"
    }
   ],
   "source": [
    "fb_25_stm.model.best_params_"
   ]
  },
  {
   "cell_type": "code",
   "execution_count": 18,
   "metadata": {},
   "outputs": [
    {
     "data": {
      "text/plain": [
       "{'Train': {'r2': 0.03848445618396712, 'pearsonr': 0.2093872347850936},\n",
       " 'Test': {'r2': {'Twitter': -0.142347660496142,\n",
       "   'Facebook': 0.02354101695290811},\n",
       "  'pearsonr': {'Twitter': -0.07845570804425218,\n",
       "   'Facebook': 0.16370079440999769}}}"
      ]
     },
     "execution_count": 18,
     "metadata": {},
     "output_type": "execute_result"
    }
   ],
   "source": [
    "fb_25_stm.metrics"
   ]
  },
  {
   "cell_type": "markdown",
   "metadata": {},
   "source": [
    "### k = 50"
   ]
  },
  {
   "cell_type": "markdown",
   "metadata": {},
   "source": [
    "- Corr\n",
    "  - Performance: {'Train': {'r2': -0.008699505094473592, 'pearsonr': 0.2875449976227594},\n",
    " 'Test': {'r2': {'Twitter': -0.005853692646829334,\n",
    "   'Facebook': -0.016433900184997796},\n",
    "  'pearsonr': {'Twitter': 0.0012248557697188273,\n",
    "   'Facebook': 0.046612135646218855}}}\n",
    "  - Params: {'model__C': 0.33416666666666667, 'pca__n_components': 0.99}\n",
    "- STM\n",
    "  - Performance: {'Train': {'r2': -6.670313823287088e-05, 'pearsonr': 0.3074908201642724},\n",
    " 'Test': {'r2': {'Twitter': -0.0035769840204382675,\n",
    "   'Facebook': -0.02064938651884729},\n",
    "  'pearsonr': {'Twitter': 0.032397540588781845,\n",
    "   'Facebook': 0.001249997186422068}}}\n",
    "  - Params: {'model__C': 0.4174583333333333, 'pca__n_components': 0.99}"
   ]
  },
  {
   "cell_type": "markdown",
   "metadata": {},
   "source": [
    "#### Without STM domain variable"
   ]
  },
  {
   "cell_type": "code",
   "execution_count": 19,
   "metadata": {},
   "outputs": [],
   "source": [
    "fb_50_corr = FacebookExperiment(target, 50, False, data_dir)"
   ]
  },
  {
   "cell_type": "code",
   "execution_count": 20,
   "metadata": {},
   "outputs": [],
   "source": [
    "fb_50_corr.run()"
   ]
  },
  {
   "cell_type": "code",
   "execution_count": 21,
   "metadata": {},
   "outputs": [
    {
     "data": {
      "text/plain": [
       "{'model__alpha': 58.170913293743574, 'pca__n_components': 0.98}"
      ]
     },
     "execution_count": 21,
     "metadata": {},
     "output_type": "execute_result"
    }
   ],
   "source": [
    "fb_50_corr.model.best_params_"
   ]
  },
  {
   "cell_type": "code",
   "execution_count": 22,
   "metadata": {},
   "outputs": [
    {
     "data": {
      "text/plain": [
       "{'Train': {'r2': 0.12161696540917455, 'pearsonr': 0.35272172173409316},\n",
       " 'Test': {'r2': {'Twitter': -2.5602056676738036,\n",
       "   'Facebook': -0.050608822257654396},\n",
       "  'pearsonr': {'Twitter': 0.0012185277120288565,\n",
       "   'Facebook': 0.06882457679916376}}}"
      ]
     },
     "execution_count": 22,
     "metadata": {},
     "output_type": "execute_result"
    }
   ],
   "source": [
    "fb_50_corr.metrics"
   ]
  },
  {
   "cell_type": "markdown",
   "metadata": {},
   "source": [
    "#### With STM domain variable"
   ]
  },
  {
   "cell_type": "code",
   "execution_count": 23,
   "metadata": {},
   "outputs": [],
   "source": [
    "fb_50_stm = FacebookExperiment(target, 50, True, data_dir)"
   ]
  },
  {
   "cell_type": "code",
   "execution_count": 24,
   "metadata": {},
   "outputs": [],
   "source": [
    "fb_50_stm.run()"
   ]
  },
  {
   "cell_type": "code",
   "execution_count": 25,
   "metadata": {},
   "outputs": [
    {
     "data": {
      "text/plain": [
       "{'model__alpha': 100.0, 'pca__n_components': 0.98}"
      ]
     },
     "execution_count": 25,
     "metadata": {},
     "output_type": "execute_result"
    }
   ],
   "source": [
    "fb_50_stm.model.best_params_"
   ]
  },
  {
   "cell_type": "code",
   "execution_count": 26,
   "metadata": {},
   "outputs": [
    {
     "data": {
      "text/plain": [
       "{'Train': {'r2': 0.12252301422228484, 'pearsonr': 0.35859417197446175},\n",
       " 'Test': {'r2': {'Twitter': -0.5500223756597331,\n",
       "   'Facebook': -0.04674542962326145},\n",
       "  'pearsonr': {'Twitter': 0.012216473457126946,\n",
       "   'Facebook': 0.08005147572552374}}}"
      ]
     },
     "execution_count": 26,
     "metadata": {},
     "output_type": "execute_result"
    }
   ],
   "source": [
    "fb_50_stm.metrics"
   ]
  },
  {
   "cell_type": "markdown",
   "metadata": {},
   "source": [
    "### k = 100"
   ]
  },
  {
   "cell_type": "markdown",
   "metadata": {},
   "source": [
    "- Corr\n",
    "  - Performance: {'Train': {'r2': -0.010953546852350504, 'pearsonr': 0.26980914471144635},\n",
    " 'Test': {'r2': {'Twitter': -0.0028211651431762075,\n",
    "   'Facebook': -0.015578101262989863},\n",
    "  'pearsonr': {'Twitter': 0.031841072183878424,\n",
    "   'Facebook': 0.07833658759436626}}}\n",
    "  - Params: {'model__C': 0.33416666666666667, 'pca__n_components': 0.98}\n",
    "- STM\n",
    "  - Performance: {'Train': {'r2': -0.016461518881317527, 'pearsonr': 0.24544687238043034},\n",
    " 'Test': {'r2': {'Twitter': -0.0035838806176184956,\n",
    "   'Facebook': -0.01774951624230181},\n",
    "  'pearsonr': {'Twitter': 0.044599384724370916,\n",
    "   'Facebook': 0.07188955307112582}}}\n",
    "  - Params: {'model__C': 0.250875, 'pca__n_components': 0.98}"
   ]
  },
  {
   "cell_type": "markdown",
   "metadata": {},
   "source": [
    "#### Without STM domain variable"
   ]
  },
  {
   "cell_type": "code",
   "execution_count": 27,
   "metadata": {},
   "outputs": [],
   "source": [
    "fb_100_corr = FacebookExperiment(target, 100, False, data_dir)"
   ]
  },
  {
   "cell_type": "code",
   "execution_count": 28,
   "metadata": {},
   "outputs": [],
   "source": [
    "fb_100_corr.run()"
   ]
  },
  {
   "cell_type": "code",
   "execution_count": 29,
   "metadata": {},
   "outputs": [
    {
     "data": {
      "text/plain": [
       "{'model__alpha': 4436.6873309786115, 'pca__n_components': 0.7}"
      ]
     },
     "execution_count": 29,
     "metadata": {},
     "output_type": "execute_result"
    }
   ],
   "source": [
    "fb_100_corr.model.best_params_"
   ]
  },
  {
   "cell_type": "code",
   "execution_count": 30,
   "metadata": {},
   "outputs": [
    {
     "data": {
      "text/plain": [
       "{'Train': {'r2': 0.029284177182257065, 'pearsonr': 0.1927742287024265},\n",
       " 'Test': {'r2': {'Twitter': -0.10623178995066573,\n",
       "   'Facebook': 0.014784012038257854},\n",
       "  'pearsonr': {'Twitter': -0.07258710109848007,\n",
       "   'Facebook': 0.13924860979247677}}}"
      ]
     },
     "execution_count": 30,
     "metadata": {},
     "output_type": "execute_result"
    }
   ],
   "source": [
    "fb_100_corr.metrics"
   ]
  },
  {
   "cell_type": "markdown",
   "metadata": {},
   "source": [
    "#### With STM domain variable"
   ]
  },
  {
   "cell_type": "code",
   "execution_count": 31,
   "metadata": {},
   "outputs": [],
   "source": [
    "fb_100_stm = FacebookExperiment(target, 100, True, data_dir)"
   ]
  },
  {
   "cell_type": "code",
   "execution_count": 32,
   "metadata": {},
   "outputs": [],
   "source": [
    "fb_100_stm.run()"
   ]
  },
  {
   "cell_type": "code",
   "execution_count": 33,
   "metadata": {},
   "outputs": [
    {
     "data": {
      "text/plain": [
       "{'model__alpha': 10000.0, 'pca__n_components': 0.78}"
      ]
     },
     "execution_count": 33,
     "metadata": {},
     "output_type": "execute_result"
    }
   ],
   "source": [
    "fb_100_stm.model.best_params_"
   ]
  },
  {
   "cell_type": "code",
   "execution_count": 34,
   "metadata": {},
   "outputs": [
    {
     "data": {
      "text/plain": [
       "{'Train': {'r2': 0.022255904455860342, 'pearsonr': 0.18913296963359608},\n",
       " 'Test': {'r2': {'Twitter': -0.028523112134221096,\n",
       "   'Facebook': 0.008482542510855784},\n",
       "  'pearsonr': {'Twitter': -0.03276010677739507,\n",
       "   'Facebook': 0.11647054973593848}}}"
      ]
     },
     "execution_count": 34,
     "metadata": {},
     "output_type": "execute_result"
    }
   ],
   "source": [
    "fb_100_stm.metrics"
   ]
  },
  {
   "cell_type": "markdown",
   "metadata": {},
   "source": [
    "## Train on Twitter, Evaluate on Facebook and Twitter"
   ]
  },
  {
   "cell_type": "markdown",
   "metadata": {},
   "source": [
    "### k = 10"
   ]
  },
  {
   "cell_type": "markdown",
   "metadata": {},
   "source": [
    "- Corr\n",
    "  - Performance: {'Train': {'r2': -0.020311827603975097, 'pearsonr': 0.11084000707789751},\n",
    " 'Test': {'r2': {'Twitter': -0.014537961020894441,\n",
    "   'Facebook': -0.03454446121724497},\n",
    "  'pearsonr': {'Twitter': -0.07019654911339894,\n",
    "   'Facebook': -0.06768814333433802}}}\n",
    "  - Params: {'model__C': 0.250875, 'pca__n_components': 0.91}\n",
    "- STM\n",
    "  - Performance: {'Train': {'r2': -0.025983519604036998, 'pearsonr': 0.10608855655110119},\n",
    " 'Test': {'r2': {'Twitter': -0.010135535707957555,\n",
    "   'Facebook': -0.01760633496216224},\n",
    "  'pearsonr': {'Twitter': -0.05518076957185575,\n",
    "   'Facebook': 0.08915334879728395}}}\n",
    "  - Params: {'model__C': 0.16758333333333333, 'pca__n_components': 0.8300000000000001}"
   ]
  },
  {
   "cell_type": "markdown",
   "metadata": {},
   "source": [
    "#### Without STM domain variable"
   ]
  },
  {
   "cell_type": "code",
   "execution_count": 35,
   "metadata": {},
   "outputs": [],
   "source": [
    "tw_10_corr = TwitterExperiment(target, 10, False, data_dir)"
   ]
  },
  {
   "cell_type": "code",
   "execution_count": 36,
   "metadata": {},
   "outputs": [],
   "source": [
    "tw_10_corr.run()"
   ]
  },
  {
   "cell_type": "code",
   "execution_count": 37,
   "metadata": {},
   "outputs": [
    {
     "data": {
      "text/plain": [
       "{'model__alpha': 1.0, 'pca__n_components': 0.78}"
      ]
     },
     "execution_count": 37,
     "metadata": {},
     "output_type": "execute_result"
    }
   ],
   "source": [
    "tw_10_corr.model.best_params_"
   ]
  },
  {
   "cell_type": "code",
   "execution_count": 38,
   "metadata": {},
   "outputs": [
    {
     "data": {
      "text/plain": [
       "{'Train': {'r2': 0.0028649782299190463, 'pearsonr': 0.053525537368509304},\n",
       " 'Test': {'r2': {'Twitter': -0.0187431483929148,\n",
       "   'Facebook': -0.005776155098275337},\n",
       "  'pearsonr': {'Twitter': -0.04923153994374686,\n",
       "   'Facebook': -0.06152427883845271}}}"
      ]
     },
     "execution_count": 38,
     "metadata": {},
     "output_type": "execute_result"
    }
   ],
   "source": [
    "tw_10_corr.metrics"
   ]
  },
  {
   "cell_type": "markdown",
   "metadata": {},
   "source": [
    "#### With STM domain variable"
   ]
  },
  {
   "cell_type": "code",
   "execution_count": 39,
   "metadata": {},
   "outputs": [],
   "source": [
    "tw_10_stm = TwitterExperiment(target, 10, True, data_dir)"
   ]
  },
  {
   "cell_type": "code",
   "execution_count": 40,
   "metadata": {},
   "outputs": [],
   "source": [
    "tw_10_stm.run()"
   ]
  },
  {
   "cell_type": "code",
   "execution_count": 41,
   "metadata": {},
   "outputs": [
    {
     "data": {
      "text/plain": [
       "{'model__alpha': 1.0, 'pca__n_components': 0.83}"
      ]
     },
     "execution_count": 41,
     "metadata": {},
     "output_type": "execute_result"
    }
   ],
   "source": [
    "tw_10_stm.model.best_params_"
   ]
  },
  {
   "cell_type": "code",
   "execution_count": 42,
   "metadata": {},
   "outputs": [
    {
     "data": {
      "text/plain": [
       "{'Train': {'r2': 0.010184379830936896, 'pearsonr': 0.10091789217218711},\n",
       " 'Test': {'r2': {'Twitter': -0.009918215793095486,\n",
       "   'Facebook': 0.0005853399068910248},\n",
       "  'pearsonr': {'Twitter': 0.026035846265430068,\n",
       "   'Facebook': 0.03145494134149941}}}"
      ]
     },
     "execution_count": 42,
     "metadata": {},
     "output_type": "execute_result"
    }
   ],
   "source": [
    "tw_10_stm.metrics"
   ]
  },
  {
   "cell_type": "markdown",
   "metadata": {},
   "source": [
    "### k = 25"
   ]
  },
  {
   "cell_type": "markdown",
   "metadata": {},
   "source": [
    "- Corr\n",
    "  - Performance: {'Train': {'r2': -0.006886492136684463, 'pearsonr': 0.2198222360924653},\n",
    " 'Test': {'r2': {'Twitter': -0.012615583739504777,\n",
    "   'Facebook': -0.03518999177043569},\n",
    "  'pearsonr': {'Twitter': -0.04961987342220239,\n",
    "   'Facebook': -0.013609861693709178}}}\n",
    "  - Params: {'model__C': 0.4174583333333333, 'pca__n_components': 0.95}\n",
    "- STM\n",
    "  - Performance: {'Train': {'r2': -0.016961405536398466, 'pearsonr': 0.19349765196043872},\n",
    " 'Test': {'r2': {'Twitter': -0.007934905951827442,\n",
    "   'Facebook': -0.022177410206771775},\n",
    "  'pearsonr': {'Twitter': -0.026794081410094386,\n",
    "   'Facebook': 0.06791035231226784}}}\n",
    "  - Params: {'model__C': 0.250875, 'pca__n_components': 0.96}"
   ]
  },
  {
   "cell_type": "markdown",
   "metadata": {},
   "source": [
    "#### Without STM domain variable"
   ]
  },
  {
   "cell_type": "code",
   "execution_count": 43,
   "metadata": {},
   "outputs": [],
   "source": [
    "tw_25_corr = TwitterExperiment(target, 25, False, data_dir)"
   ]
  },
  {
   "cell_type": "code",
   "execution_count": 44,
   "metadata": {},
   "outputs": [],
   "source": [
    "tw_25_corr.run()"
   ]
  },
  {
   "cell_type": "code",
   "execution_count": 45,
   "metadata": {},
   "outputs": [
    {
     "data": {
      "text/plain": [
       "{'model__alpha': 7626.9858590234435, 'pca__n_components': 0.71}"
      ]
     },
     "execution_count": 45,
     "metadata": {},
     "output_type": "execute_result"
    }
   ],
   "source": [
    "tw_25_corr.model.best_params_"
   ]
  },
  {
   "cell_type": "code",
   "execution_count": 46,
   "metadata": {},
   "outputs": [
    {
     "data": {
      "text/plain": [
       "{'Train': {'r2': 0.003786490164395917, 'pearsonr': 0.10792162320905889},\n",
       " 'Test': {'r2': {'Twitter': -0.010380871252721802,\n",
       "   'Facebook': 4.300092792286492e-05},\n",
       "  'pearsonr': {'Twitter': -0.02817092290829599,\n",
       "   'Facebook': 0.01599181859624912}}}"
      ]
     },
     "execution_count": 46,
     "metadata": {},
     "output_type": "execute_result"
    }
   ],
   "source": [
    "tw_25_corr.metrics"
   ]
  },
  {
   "cell_type": "markdown",
   "metadata": {},
   "source": [
    "#### With STM domain variable"
   ]
  },
  {
   "cell_type": "code",
   "execution_count": 47,
   "metadata": {},
   "outputs": [],
   "source": [
    "tw_25_stm = TwitterExperiment(target, 25, True, data_dir)"
   ]
  },
  {
   "cell_type": "code",
   "execution_count": 48,
   "metadata": {},
   "outputs": [],
   "source": [
    "tw_25_stm.run()"
   ]
  },
  {
   "cell_type": "code",
   "execution_count": 49,
   "metadata": {},
   "outputs": [
    {
     "data": {
      "text/plain": [
       "{'model__alpha': 10000.0, 'pca__n_components': 0.71}"
      ]
     },
     "execution_count": 49,
     "metadata": {},
     "output_type": "execute_result"
    }
   ],
   "source": [
    "tw_25_stm.model.best_params_"
   ]
  },
  {
   "cell_type": "code",
   "execution_count": 50,
   "metadata": {},
   "outputs": [
    {
     "data": {
      "text/plain": [
       "{'Train': {'r2': 0.002871613883730806, 'pearsonr': 0.10277786657716557},\n",
       " 'Test': {'r2': {'Twitter': -0.01028964861395143,\n",
       "   'Facebook': -0.0004512773923563973},\n",
       "  'pearsonr': {'Twitter': -0.02685509377063247,\n",
       "   'Facebook': 0.010112251017320963}}}"
      ]
     },
     "execution_count": 50,
     "metadata": {},
     "output_type": "execute_result"
    }
   ],
   "source": [
    "tw_25_stm.metrics"
   ]
  },
  {
   "cell_type": "markdown",
   "metadata": {},
   "source": [
    "### k = 50"
   ]
  },
  {
   "cell_type": "markdown",
   "metadata": {},
   "source": [
    "- Corr\n",
    "  - Performance: {'Train': {'r2': 0.036530359902591236, 'pearsonr': 0.2894383078550872},\n",
    " 'Test': {'r2': {'Twitter': -0.039413995419642855,\n",
    "   'Facebook': -0.02755128942630103},\n",
    "  'pearsonr': {'Twitter': -0.09617617464584405,\n",
    "   'Facebook': 0.0746671707872082}}}\n",
    "  - Params: {'model__C': 1.4169583333333333, 'pca__n_components': 0.88}\n",
    "- STM\n",
    "  - Performance: {'Train': {'r2': 0.04517301433514631, 'pearsonr': 0.32161519986692866},\n",
    " 'Test': {'r2': {'Twitter': -0.02337344133637953,\n",
    "   'Facebook': -0.03006806279648444},\n",
    "  'pearsonr': {'Twitter': -0.03677408749305999,\n",
    "   'Facebook': 0.09514192890194356}}}\n",
    "  - Params: {'model__C': 1.6668333333333332, 'pca__n_components': 0.8400000000000001}"
   ]
  },
  {
   "cell_type": "markdown",
   "metadata": {},
   "source": [
    "#### Without STM domain variable"
   ]
  },
  {
   "cell_type": "code",
   "execution_count": 51,
   "metadata": {},
   "outputs": [],
   "source": [
    "tw_50_corr = TwitterExperiment(target, 50, False, data_dir)"
   ]
  },
  {
   "cell_type": "code",
   "execution_count": 52,
   "metadata": {},
   "outputs": [],
   "source": [
    "tw_50_corr.run()"
   ]
  },
  {
   "cell_type": "code",
   "execution_count": 53,
   "metadata": {},
   "outputs": [
    {
     "data": {
      "text/plain": [
       "{'model__alpha': 1.0, 'pca__n_components': 0.9}"
      ]
     },
     "execution_count": 53,
     "metadata": {},
     "output_type": "execute_result"
    }
   ],
   "source": [
    "tw_50_corr.model.best_params_"
   ]
  },
  {
   "cell_type": "code",
   "execution_count": 54,
   "metadata": {},
   "outputs": [
    {
     "data": {
      "text/plain": [
       "{'Train': {'r2': 0.05234862110810423, 'pearsonr': 0.2287987981843438},\n",
       " 'Test': {'r2': {'Twitter': -0.06596216182758008,\n",
       "   'Facebook': -0.030553211009665793},\n",
       "  'pearsonr': {'Twitter': 0.013242035769395463,\n",
       "   'Facebook': -0.04400493846702935}}}"
      ]
     },
     "execution_count": 54,
     "metadata": {},
     "output_type": "execute_result"
    }
   ],
   "source": [
    "tw_50_corr.metrics"
   ]
  },
  {
   "cell_type": "markdown",
   "metadata": {},
   "source": [
    "#### With STM domain variable"
   ]
  },
  {
   "cell_type": "code",
   "execution_count": 55,
   "metadata": {},
   "outputs": [],
   "source": [
    "tw_50_stm = TwitterExperiment(target, 50, True, data_dir)"
   ]
  },
  {
   "cell_type": "code",
   "execution_count": 56,
   "metadata": {},
   "outputs": [],
   "source": [
    "tw_50_stm.run()"
   ]
  },
  {
   "cell_type": "code",
   "execution_count": 57,
   "metadata": {},
   "outputs": [
    {
     "data": {
      "text/plain": [
       "{'model__alpha': 1.0, 'pca__n_components': 0.88}"
      ]
     },
     "execution_count": 57,
     "metadata": {},
     "output_type": "execute_result"
    }
   ],
   "source": [
    "tw_50_stm.model.best_params_"
   ]
  },
  {
   "cell_type": "code",
   "execution_count": 58,
   "metadata": {},
   "outputs": [
    {
     "data": {
      "text/plain": [
       "{'Train': {'r2': 0.05463762769803193, 'pearsonr': 0.23374741292164447},\n",
       " 'Test': {'r2': {'Twitter': -0.045766509615692286,\n",
       "   'Facebook': -0.03145594818092756},\n",
       "  'pearsonr': {'Twitter': -0.005277146895064602,\n",
       "   'Facebook': -0.017850130919576233}}}"
      ]
     },
     "execution_count": 58,
     "metadata": {},
     "output_type": "execute_result"
    }
   ],
   "source": [
    "tw_50_stm.metrics"
   ]
  },
  {
   "cell_type": "markdown",
   "metadata": {},
   "source": [
    "### k = 100"
   ]
  },
  {
   "cell_type": "markdown",
   "metadata": {},
   "source": [
    "- Corr\n",
    "  - Performance: {'Train': {'r2': -0.009806586434092823, 'pearsonr': 0.24902467135168996},\n",
    " 'Test': {'r2': {'Twitter': -0.014390482390052028,\n",
    "   'Facebook': -0.03168050174015247},\n",
    "  'pearsonr': {'Twitter': -0.058549640718124504,\n",
    "   'Facebook': -0.011704438958258564}}}\n",
    "  - Params: {'model__C': 0.33416666666666667, 'pca__n_components': 0.98}\n",
    "- STM\n",
    "  - Performance: {'Train': {'r2': -0.006814361493288512, 'pearsonr': 0.2609723057044281},\n",
    " 'Test': {'r2': {'Twitter': -0.015277806939267613,\n",
    "   'Facebook': -0.023426226295517605},\n",
    "  'pearsonr': {'Twitter': -0.06536921309105378,\n",
    "   'Facebook': 0.06693492700514664}}}\n",
    "  - Params: {'model__C': 0.4174583333333333, 'pca__n_components': 0.99}"
   ]
  },
  {
   "cell_type": "markdown",
   "metadata": {},
   "source": [
    "#### Without STM domain variable"
   ]
  },
  {
   "cell_type": "code",
   "execution_count": 59,
   "metadata": {},
   "outputs": [],
   "source": [
    "tw_100_corr = TwitterExperiment(target, 100, False, data_dir)"
   ]
  },
  {
   "cell_type": "code",
   "execution_count": 60,
   "metadata": {},
   "outputs": [],
   "source": [
    "tw_100_corr.run()"
   ]
  },
  {
   "cell_type": "code",
   "execution_count": 61,
   "metadata": {},
   "outputs": [
    {
     "data": {
      "text/plain": [
       "{'model__alpha': 1.0, 'pca__n_components': 0.9299999999999999}"
      ]
     },
     "execution_count": 61,
     "metadata": {},
     "output_type": "execute_result"
    }
   ],
   "source": [
    "tw_100_corr.model.best_params_"
   ]
  },
  {
   "cell_type": "code",
   "execution_count": 62,
   "metadata": {},
   "outputs": [
    {
     "data": {
      "text/plain": [
       "{'Train': {'r2': 0.08234067898159014, 'pearsonr': 0.2869512369102729},\n",
       " 'Test': {'r2': {'Twitter': -0.09680723825859272,\n",
       "   'Facebook': -0.029898975334558875},\n",
       "  'pearsonr': {'Twitter': -0.027352393511689315,\n",
       "   'Facebook': -0.03414089538175781}}}"
      ]
     },
     "execution_count": 62,
     "metadata": {},
     "output_type": "execute_result"
    }
   ],
   "source": [
    "tw_100_corr.metrics"
   ]
  },
  {
   "cell_type": "markdown",
   "metadata": {},
   "source": [
    "#### With STM domain variable"
   ]
  },
  {
   "cell_type": "code",
   "execution_count": 63,
   "metadata": {},
   "outputs": [],
   "source": [
    "tw_100_stm = TwitterExperiment(target, 100, True, data_dir)"
   ]
  },
  {
   "cell_type": "code",
   "execution_count": 64,
   "metadata": {},
   "outputs": [],
   "source": [
    "tw_100_stm.run()"
   ]
  },
  {
   "cell_type": "code",
   "execution_count": 65,
   "metadata": {},
   "outputs": [
    {
     "data": {
      "text/plain": [
       "{'model__alpha': 1.0, 'pca__n_components': 0.99}"
      ]
     },
     "execution_count": 65,
     "metadata": {},
     "output_type": "execute_result"
    }
   ],
   "source": [
    "tw_100_stm.model.best_params_"
   ]
  },
  {
   "cell_type": "code",
   "execution_count": 66,
   "metadata": {},
   "outputs": [
    {
     "data": {
      "text/plain": [
       "{'Train': {'r2': 0.16466051263374415, 'pearsonr': 0.4057909521453831},\n",
       " 'Test': {'r2': {'Twitter': -0.2032532103489746,\n",
       "   'Facebook': -0.05481311340857564},\n",
       "  'pearsonr': {'Twitter': -0.12136560669589025,\n",
       "   'Facebook': 0.02570512308486145}}}"
      ]
     },
     "execution_count": 66,
     "metadata": {},
     "output_type": "execute_result"
    }
   ],
   "source": [
    "tw_100_stm.metrics"
   ]
  },
  {
   "cell_type": "markdown",
   "metadata": {},
   "source": [
    "## All data"
   ]
  },
  {
   "cell_type": "markdown",
   "metadata": {},
   "source": [
    "### k = 10"
   ]
  },
  {
   "cell_type": "markdown",
   "metadata": {},
   "source": [
    "- Corr\n",
    "  - Performance: {'Train': {'r2': -0.009651142793050127, 'pearsonr': 0.2078382311027242},\n",
    " 'Test': {'r2': -0.000504962091057104, 'pearsonr': 0.09410815066994926}}\n",
    "  - Params: {'model__C': 0.50075, 'pca__n_components': 0.8}\n",
    "- STM\n",
    "  - Performance: {'Train': {'r2': -0.023347274528687345, 'pearsonr': 0.158100356330535},\n",
    " 'Test': {'r2': -0.006969302900482033, 'pearsonr': 0.06960707085372558}}\n",
    "  - Params: {'model__C': 0.250875, 'pca__n_components': 0.8300000000000001}"
   ]
  },
  {
   "cell_type": "markdown",
   "metadata": {},
   "source": [
    "#### Without STM domain variable"
   ]
  },
  {
   "cell_type": "code",
   "execution_count": 67,
   "metadata": {},
   "outputs": [],
   "source": [
    "corr_10 = UserExperiment(target, 10, False, data_dir)"
   ]
  },
  {
   "cell_type": "code",
   "execution_count": 68,
   "metadata": {},
   "outputs": [],
   "source": [
    "corr_10.run()"
   ]
  },
  {
   "cell_type": "code",
   "execution_count": 69,
   "metadata": {},
   "outputs": [
    {
     "data": {
      "text/plain": [
       "{'model__alpha': 1.0, 'pca__n_components': 0.96}"
      ]
     },
     "execution_count": 69,
     "metadata": {},
     "output_type": "execute_result"
    }
   ],
   "source": [
    "corr_10.model.best_params_"
   ]
  },
  {
   "cell_type": "code",
   "execution_count": 70,
   "metadata": {},
   "outputs": [
    {
     "data": {
      "text/plain": [
       "{'Train': {'r2': 0.01564361737540454, 'pearsonr': 0.12507471294068445},\n",
       " 'Test': {'r2': -0.012901185548534366, 'pearsonr': 0.03836556847684532}}"
      ]
     },
     "execution_count": 70,
     "metadata": {},
     "output_type": "execute_result"
    }
   ],
   "source": [
    "corr_10.metrics"
   ]
  },
  {
   "cell_type": "markdown",
   "metadata": {},
   "source": [
    "#### With STM domain variable"
   ]
  },
  {
   "cell_type": "code",
   "execution_count": 71,
   "metadata": {},
   "outputs": [],
   "source": [
    "stm_10 = UserExperiment(target, 10, True, data_dir)"
   ]
  },
  {
   "cell_type": "code",
   "execution_count": 72,
   "metadata": {},
   "outputs": [],
   "source": [
    "stm_10.run()"
   ]
  },
  {
   "cell_type": "code",
   "execution_count": 73,
   "metadata": {},
   "outputs": [
    {
     "data": {
      "text/plain": [
       "{'model__alpha': 1.0, 'pca__n_components': 0.83}"
      ]
     },
     "execution_count": 73,
     "metadata": {},
     "output_type": "execute_result"
    }
   ],
   "source": [
    "stm_10.model.best_params_"
   ]
  },
  {
   "cell_type": "code",
   "execution_count": 74,
   "metadata": {},
   "outputs": [
    {
     "data": {
      "text/plain": [
       "{'Train': {'r2': 0.016313045899261525, 'pearsonr': 0.12772280112932258},\n",
       " 'Test': {'r2': -0.0063140583569831765, 'pearsonr': 0.0488060610239241}}"
      ]
     },
     "execution_count": 74,
     "metadata": {},
     "output_type": "execute_result"
    }
   ],
   "source": [
    "stm_10.metrics"
   ]
  },
  {
   "cell_type": "markdown",
   "metadata": {},
   "source": [
    "### k = 25"
   ]
  },
  {
   "cell_type": "markdown",
   "metadata": {},
   "source": [
    "- Corr\n",
    "  - Performance: {'Train': {'r2': -0.01671390893188729, 'pearsonr': 0.19035075545398045},\n",
    " 'Test': {'r2': 0.0001551814273611507, 'pearsonr': 0.10239898068006434}}\n",
    "  - Params: {'model__C': 0.250875, 'pca__n_components': 0.8}\n",
    "- STM\n",
    "  - Performance: {'Train': {'r2': -0.015098668922398417, 'pearsonr': 0.21118047493536712},\n",
    " 'Test': {'r2': 0.00013254617416635917, 'pearsonr': 0.09207265299557829}}\n",
    "  - Params: {'model__C': 0.33416666666666667, 'pca__n_components': 0.8200000000000001}"
   ]
  },
  {
   "cell_type": "markdown",
   "metadata": {},
   "source": [
    "#### Without STM domain variable"
   ]
  },
  {
   "cell_type": "code",
   "execution_count": 75,
   "metadata": {},
   "outputs": [],
   "source": [
    "corr_25 = UserExperiment(target, 25, False, data_dir)"
   ]
  },
  {
   "cell_type": "code",
   "execution_count": 76,
   "metadata": {},
   "outputs": [],
   "source": [
    "corr_25.run()"
   ]
  },
  {
   "cell_type": "code",
   "execution_count": 77,
   "metadata": {},
   "outputs": [
    {
     "data": {
      "text/plain": [
       "{'model__alpha': 4436.6873309786115, 'pca__n_components': 0.76}"
      ]
     },
     "execution_count": 77,
     "metadata": {},
     "output_type": "execute_result"
    }
   ],
   "source": [
    "corr_25.model.best_params_"
   ]
  },
  {
   "cell_type": "code",
   "execution_count": 78,
   "metadata": {},
   "outputs": [
    {
     "data": {
      "text/plain": [
       "{'Train': {'r2': 0.005176588683685424, 'pearsonr': 0.1015620950277002},\n",
       " 'Test': {'r2': -0.008562189459902836, 'pearsonr': 0.014714746931135177}}"
      ]
     },
     "execution_count": 78,
     "metadata": {},
     "output_type": "execute_result"
    }
   ],
   "source": [
    "corr_25.metrics"
   ]
  },
  {
   "cell_type": "markdown",
   "metadata": {},
   "source": [
    "#### With STM domain variable"
   ]
  },
  {
   "cell_type": "code",
   "execution_count": 79,
   "metadata": {},
   "outputs": [],
   "source": [
    "stm_25 = UserExperiment(target, 25, True, data_dir)"
   ]
  },
  {
   "cell_type": "code",
   "execution_count": 80,
   "metadata": {},
   "outputs": [],
   "source": [
    "stm_25.run()"
   ]
  },
  {
   "cell_type": "code",
   "execution_count": 81,
   "metadata": {},
   "outputs": [
    {
     "data": {
      "text/plain": [
       "{'model__alpha': 10000.0, 'pca__n_components': 0.8099999999999999}"
      ]
     },
     "execution_count": 81,
     "metadata": {},
     "output_type": "execute_result"
    }
   ],
   "source": [
    "stm_25.model.best_params_"
   ]
  },
  {
   "cell_type": "code",
   "execution_count": 82,
   "metadata": {},
   "outputs": [
    {
     "data": {
      "text/plain": [
       "{'Train': {'r2': 0.0021812185445488907, 'pearsonr': 0.09689283683565397},\n",
       " 'Test': {'r2': -0.008494386610568228, 'pearsonr': 0.02453512273365744}}"
      ]
     },
     "execution_count": 82,
     "metadata": {},
     "output_type": "execute_result"
    }
   ],
   "source": [
    "stm_25.metrics"
   ]
  },
  {
   "cell_type": "markdown",
   "metadata": {},
   "source": [
    "### k = 50"
   ]
  },
  {
   "cell_type": "markdown",
   "metadata": {},
   "source": [
    "- Corr\n",
    "  - Performance: {'Train': {'r2': -0.005389442122489374, 'pearsonr': 0.2167688013123233},\n",
    " 'Test': {'r2': -0.0021603791400743866, 'pearsonr': 0.061433308915817664}}\n",
    "  - Params: {'model__C': 0.4174583333333333, 'pca__n_components': 0.8}\n",
    "- STM\n",
    "  - Performance: {'Train': {'r2': -0.006103905420166811, 'pearsonr': 0.2547478153659075},\n",
    " 'Test': {'r2': -0.003258415225402933, 'pearsonr': 0.06019683469348957}}\n",
    "  - Params: {'model__C': 0.4174583333333333, 'pca__n_components': 0.86}"
   ]
  },
  {
   "cell_type": "markdown",
   "metadata": {},
   "source": [
    "#### Without STM domain variable"
   ]
  },
  {
   "cell_type": "code",
   "execution_count": 83,
   "metadata": {},
   "outputs": [],
   "source": [
    "corr_50 = UserExperiment(target, 50, False, data_dir)"
   ]
  },
  {
   "cell_type": "code",
   "execution_count": 84,
   "metadata": {},
   "outputs": [],
   "source": [
    "corr_50.run()"
   ]
  },
  {
   "cell_type": "code",
   "execution_count": 85,
   "metadata": {},
   "outputs": [
    {
     "data": {
      "text/plain": [
       "{'model__alpha': 1501.3107289081727, 'pca__n_components': 0.73}"
      ]
     },
     "execution_count": 85,
     "metadata": {},
     "output_type": "execute_result"
    }
   ],
   "source": [
    "corr_50.model.best_params_"
   ]
  },
  {
   "cell_type": "code",
   "execution_count": 86,
   "metadata": {},
   "outputs": [
    {
     "data": {
      "text/plain": [
       "{'Train': {'r2': 0.01904310259000863, 'pearsonr': 0.1634476576821648},\n",
       " 'Test': {'r2': -0.006320538527092356, 'pearsonr': 0.05331205972206522}}"
      ]
     },
     "execution_count": 86,
     "metadata": {},
     "output_type": "execute_result"
    }
   ],
   "source": [
    "corr_50.metrics"
   ]
  },
  {
   "cell_type": "markdown",
   "metadata": {},
   "source": [
    "#### With STM domain variable"
   ]
  },
  {
   "cell_type": "code",
   "execution_count": 87,
   "metadata": {},
   "outputs": [],
   "source": [
    "stm_50 = UserExperiment(target, 50, True, data_dir)"
   ]
  },
  {
   "cell_type": "code",
   "execution_count": 88,
   "metadata": {},
   "outputs": [],
   "source": [
    "stm_50.run()"
   ]
  },
  {
   "cell_type": "code",
   "execution_count": 89,
   "metadata": {},
   "outputs": [
    {
     "data": {
      "text/plain": [
       "{'model__alpha': 1.3111339374215643, 'pca__n_components': 0.7}"
      ]
     },
     "execution_count": 89,
     "metadata": {},
     "output_type": "execute_result"
    }
   ],
   "source": [
    "stm_50.model.best_params_"
   ]
  },
  {
   "cell_type": "code",
   "execution_count": 90,
   "metadata": {},
   "outputs": [
    {
     "data": {
      "text/plain": [
       "{'Train': {'r2': 0.03077383171651893, 'pearsonr': 0.1754249478826213},\n",
       " 'Test': {'r2': -0.015696811048327097, 'pearsonr': 0.040420565909684715}}"
      ]
     },
     "execution_count": 90,
     "metadata": {},
     "output_type": "execute_result"
    }
   ],
   "source": [
    "stm_50.metrics"
   ]
  },
  {
   "cell_type": "markdown",
   "metadata": {},
   "source": [
    "### k = 100"
   ]
  },
  {
   "cell_type": "markdown",
   "metadata": {},
   "source": [
    "- Corr\n",
    "  - Performance: {'Train': {'r2': -0.005053682691107175, 'pearsonr': 0.264993296124742},\n",
    " 'Test': {'r2': -0.007441637769392884, 'pearsonr': 0.03917949015062845}}\n",
    "  - Params: {'model__C': 0.50075, 'pca__n_components': 0.89}\n",
    "- STM\n",
    "  - Performance: {'Train': {'r2': -0.009580375494304905, 'pearsonr': 0.25585495537773206},\n",
    " 'Test': {'r2': -0.009485977657718747, 'pearsonr': 0.01871318182848522}}\n",
    "  - Params: {'model__C': 0.4174583333333333, 'pca__n_components': 0.8}"
   ]
  },
  {
   "cell_type": "markdown",
   "metadata": {},
   "source": [
    "#### Without STM domain variable"
   ]
  },
  {
   "cell_type": "code",
   "execution_count": 91,
   "metadata": {},
   "outputs": [],
   "source": [
    "corr_100 = UserExperiment(target, 100, False, data_dir)"
   ]
  },
  {
   "cell_type": "code",
   "execution_count": 92,
   "metadata": {},
   "outputs": [],
   "source": [
    "corr_100.run()"
   ]
  },
  {
   "cell_type": "code",
   "execution_count": 93,
   "metadata": {},
   "outputs": [
    {
     "data": {
      "text/plain": [
       "{'model__alpha': 1.0, 'pca__n_components': 0.98}"
      ]
     },
     "execution_count": 93,
     "metadata": {},
     "output_type": "execute_result"
    }
   ],
   "source": [
    "corr_100.model.best_params_"
   ]
  },
  {
   "cell_type": "code",
   "execution_count": 94,
   "metadata": {},
   "outputs": [
    {
     "data": {
      "text/plain": [
       "{'Train': {'r2': 0.13026881903412713, 'pearsonr': 0.36093091024768353},\n",
       " 'Test': {'r2': -0.0375025112021532, 'pearsonr': 0.07451907504259767}}"
      ]
     },
     "execution_count": 94,
     "metadata": {},
     "output_type": "execute_result"
    }
   ],
   "source": [
    "corr_100.metrics"
   ]
  },
  {
   "cell_type": "markdown",
   "metadata": {},
   "source": [
    "#### With STM domain variable"
   ]
  },
  {
   "cell_type": "code",
   "execution_count": 95,
   "metadata": {},
   "outputs": [],
   "source": [
    "stm_100 = UserExperiment(target, 100, True, data_dir)"
   ]
  },
  {
   "cell_type": "code",
   "execution_count": 96,
   "metadata": {},
   "outputs": [],
   "source": [
    "stm_100.run()"
   ]
  },
  {
   "cell_type": "code",
   "execution_count": 97,
   "metadata": {},
   "outputs": [
    {
     "data": {
      "text/plain": [
       "{'model__alpha': 1.0, 'pca__n_components': 0.97}"
      ]
     },
     "execution_count": 97,
     "metadata": {},
     "output_type": "execute_result"
    }
   ],
   "source": [
    "stm_100.model.best_params_"
   ]
  },
  {
   "cell_type": "code",
   "execution_count": 98,
   "metadata": {},
   "outputs": [
    {
     "data": {
      "text/plain": [
       "{'Train': {'r2': 0.13272148972352282, 'pearsonr': 0.36431204756886787},\n",
       " 'Test': {'r2': -0.01854621234751863, 'pearsonr': 0.0764292306514716}}"
      ]
     },
     "execution_count": 98,
     "metadata": {},
     "output_type": "execute_result"
    }
   ],
   "source": [
    "stm_100.metrics"
   ]
  },
  {
   "cell_type": "markdown",
   "metadata": {},
   "source": [
    "# Plots"
   ]
  },
  {
   "cell_type": "markdown",
   "metadata": {},
   "source": [
    "### Plot UserExperiment results"
   ]
  },
  {
   "cell_type": "code",
   "execution_count": 101,
   "metadata": {},
   "outputs": [],
   "source": [
    "df_stm = pd.concat({\n",
    "    10: pd.DataFrame(stm_10.metrics),\n",
    "    25: pd.DataFrame(stm_25.metrics),\n",
    "    50: pd.DataFrame(stm_50.metrics),\n",
    "    100: pd.DataFrame(stm_100.metrics)\n",
    "})\n",
    "df_corr = pd.concat({\n",
    "    10: pd.DataFrame(corr_10.metrics),\n",
    "    25: pd.DataFrame(corr_25.metrics),\n",
    "    50: pd.DataFrame(corr_50.metrics),\n",
    "    100: pd.DataFrame(corr_100.metrics)    \n",
    "})\n",
    "df_user = pd.concat({'with_domain': df_stm, 'without_domain': df_corr})"
   ]
  },
  {
   "cell_type": "code",
   "execution_count": 155,
   "metadata": {
    "scrolled": true
   },
   "outputs": [
    {
     "data": {
      "text/html": [
       "<div>\n",
       "<style scoped>\n",
       "    .dataframe tbody tr th:only-of-type {\n",
       "        vertical-align: middle;\n",
       "    }\n",
       "\n",
       "    .dataframe tbody tr th {\n",
       "        vertical-align: top;\n",
       "    }\n",
       "\n",
       "    .dataframe thead th {\n",
       "        text-align: right;\n",
       "    }\n",
       "</style>\n",
       "<table border=\"1\" class=\"dataframe\">\n",
       "  <thead>\n",
       "    <tr style=\"text-align: right;\">\n",
       "      <th></th>\n",
       "      <th>STM</th>\n",
       "      <th>K</th>\n",
       "      <th>Metric</th>\n",
       "      <th>Train</th>\n",
       "      <th>Test</th>\n",
       "    </tr>\n",
       "  </thead>\n",
       "  <tbody>\n",
       "    <tr>\n",
       "      <th>0</th>\n",
       "      <td>with_domain</td>\n",
       "      <td>10</td>\n",
       "      <td>r2</td>\n",
       "      <td>0.016313</td>\n",
       "      <td>-0.006314</td>\n",
       "    </tr>\n",
       "    <tr>\n",
       "      <th>1</th>\n",
       "      <td>with_domain</td>\n",
       "      <td>10</td>\n",
       "      <td>pearsonr</td>\n",
       "      <td>0.127723</td>\n",
       "      <td>0.048806</td>\n",
       "    </tr>\n",
       "    <tr>\n",
       "      <th>2</th>\n",
       "      <td>with_domain</td>\n",
       "      <td>25</td>\n",
       "      <td>r2</td>\n",
       "      <td>0.002181</td>\n",
       "      <td>-0.008494</td>\n",
       "    </tr>\n",
       "    <tr>\n",
       "      <th>3</th>\n",
       "      <td>with_domain</td>\n",
       "      <td>25</td>\n",
       "      <td>pearsonr</td>\n",
       "      <td>0.096893</td>\n",
       "      <td>0.024535</td>\n",
       "    </tr>\n",
       "    <tr>\n",
       "      <th>4</th>\n",
       "      <td>with_domain</td>\n",
       "      <td>50</td>\n",
       "      <td>r2</td>\n",
       "      <td>0.030774</td>\n",
       "      <td>-0.015697</td>\n",
       "    </tr>\n",
       "    <tr>\n",
       "      <th>5</th>\n",
       "      <td>with_domain</td>\n",
       "      <td>50</td>\n",
       "      <td>pearsonr</td>\n",
       "      <td>0.175425</td>\n",
       "      <td>0.040421</td>\n",
       "    </tr>\n",
       "    <tr>\n",
       "      <th>6</th>\n",
       "      <td>with_domain</td>\n",
       "      <td>100</td>\n",
       "      <td>r2</td>\n",
       "      <td>0.132721</td>\n",
       "      <td>-0.018546</td>\n",
       "    </tr>\n",
       "    <tr>\n",
       "      <th>7</th>\n",
       "      <td>with_domain</td>\n",
       "      <td>100</td>\n",
       "      <td>pearsonr</td>\n",
       "      <td>0.364312</td>\n",
       "      <td>0.076429</td>\n",
       "    </tr>\n",
       "    <tr>\n",
       "      <th>8</th>\n",
       "      <td>without_domain</td>\n",
       "      <td>10</td>\n",
       "      <td>r2</td>\n",
       "      <td>0.015644</td>\n",
       "      <td>-0.012901</td>\n",
       "    </tr>\n",
       "    <tr>\n",
       "      <th>9</th>\n",
       "      <td>without_domain</td>\n",
       "      <td>10</td>\n",
       "      <td>pearsonr</td>\n",
       "      <td>0.125075</td>\n",
       "      <td>0.038366</td>\n",
       "    </tr>\n",
       "    <tr>\n",
       "      <th>10</th>\n",
       "      <td>without_domain</td>\n",
       "      <td>25</td>\n",
       "      <td>r2</td>\n",
       "      <td>0.005177</td>\n",
       "      <td>-0.008562</td>\n",
       "    </tr>\n",
       "    <tr>\n",
       "      <th>11</th>\n",
       "      <td>without_domain</td>\n",
       "      <td>25</td>\n",
       "      <td>pearsonr</td>\n",
       "      <td>0.101562</td>\n",
       "      <td>0.014715</td>\n",
       "    </tr>\n",
       "    <tr>\n",
       "      <th>12</th>\n",
       "      <td>without_domain</td>\n",
       "      <td>50</td>\n",
       "      <td>r2</td>\n",
       "      <td>0.019043</td>\n",
       "      <td>-0.006321</td>\n",
       "    </tr>\n",
       "    <tr>\n",
       "      <th>13</th>\n",
       "      <td>without_domain</td>\n",
       "      <td>50</td>\n",
       "      <td>pearsonr</td>\n",
       "      <td>0.163448</td>\n",
       "      <td>0.053312</td>\n",
       "    </tr>\n",
       "    <tr>\n",
       "      <th>14</th>\n",
       "      <td>without_domain</td>\n",
       "      <td>100</td>\n",
       "      <td>r2</td>\n",
       "      <td>0.130269</td>\n",
       "      <td>-0.037503</td>\n",
       "    </tr>\n",
       "    <tr>\n",
       "      <th>15</th>\n",
       "      <td>without_domain</td>\n",
       "      <td>100</td>\n",
       "      <td>pearsonr</td>\n",
       "      <td>0.360931</td>\n",
       "      <td>0.074519</td>\n",
       "    </tr>\n",
       "  </tbody>\n",
       "</table>\n",
       "</div>"
      ],
      "text/plain": [
       "               STM    K    Metric     Train      Test\n",
       "0      with_domain   10        r2  0.016313 -0.006314\n",
       "1      with_domain   10  pearsonr  0.127723  0.048806\n",
       "2      with_domain   25        r2  0.002181 -0.008494\n",
       "3      with_domain   25  pearsonr  0.096893  0.024535\n",
       "4      with_domain   50        r2  0.030774 -0.015697\n",
       "5      with_domain   50  pearsonr  0.175425  0.040421\n",
       "6      with_domain  100        r2  0.132721 -0.018546\n",
       "7      with_domain  100  pearsonr  0.364312  0.076429\n",
       "8   without_domain   10        r2  0.015644 -0.012901\n",
       "9   without_domain   10  pearsonr  0.125075  0.038366\n",
       "10  without_domain   25        r2  0.005177 -0.008562\n",
       "11  without_domain   25  pearsonr  0.101562  0.014715\n",
       "12  without_domain   50        r2  0.019043 -0.006321\n",
       "13  without_domain   50  pearsonr  0.163448  0.053312\n",
       "14  without_domain  100        r2  0.130269 -0.037503\n",
       "15  without_domain  100  pearsonr  0.360931  0.074519"
      ]
     },
     "execution_count": 155,
     "metadata": {},
     "output_type": "execute_result"
    }
   ],
   "source": [
    "df_user_plt = (\n",
    "    df_user.reset_index(drop=False)\n",
    "    .rename(columns={'level_0': 'STM', 'level_1': 'K', 'level_2': 'Metric'})\n",
    ")\n",
    "df_user_plt"
   ]
  },
  {
   "cell_type": "code",
   "execution_count": 156,
   "metadata": {},
   "outputs": [
    {
     "data": {
      "text/plain": [
       "<AxesSubplot:xlabel='K'>"
      ]
     },
     "execution_count": 156,
     "metadata": {},
     "output_type": "execute_result"
    },
    {
     "data": {
      "image/png": "[encoded data removed]",
      "text/plain": [
       "<Figure size 432x288 with 1 Axes>"
      ]
     },
     "metadata": {
      "needs_background": "light"
     },
     "output_type": "display_data"
    }
   ],
   "source": [
    "df_user_plt.query(\"Metric=='pearsonr'\").pivot(values=[\"Test\", \"Train\"], index=\"K\", columns=\"STM\").plot()"
   ]
  },
  {
   "cell_type": "code",
   "execution_count": 157,
   "metadata": {},
   "outputs": [
    {
     "data": {
      "text/plain": [
       "<AxesSubplot:xlabel='K'>"
      ]
     },
     "execution_count": 157,
     "metadata": {},
     "output_type": "execute_result"
    },
    {
     "data": {
      "image/png": "[encoded data removed]",
      "text/plain": [
       "<Figure size 432x288 with 1 Axes>"
      ]
     },
     "metadata": {
      "needs_background": "light"
     },
     "output_type": "display_data"
    }
   ],
   "source": [
    "df_user_plt.query(\"Metric=='r2'\").pivot(values=[\"Test\", \"Train\"], index=\"K\", columns=\"STM\").plot()"
   ]
  },
  {
   "cell_type": "markdown",
   "metadata": {},
   "source": [
    "### Plot FacebookExperiment results"
   ]
  },
  {
   "cell_type": "code",
   "execution_count": 146,
   "metadata": {},
   "outputs": [],
   "source": [
    "def unpack_nested_metrics(metrics: Dict) -> Dict:\n",
    "    out = {\n",
    "        \"Train\": metrics[\"Train\"],\n",
    "        \"Test_Facebook\": {k: metrics[\"Test\"][k][\"Facebook\"] for k in metrics[\"Test\"].keys()},\n",
    "        \"Test_Twitter\": {k: metrics[\"Test\"][k][\"Twitter\"] for k in metrics[\"Test\"].keys()},\n",
    "    }\n",
    "    return out"
   ]
  },
  {
   "cell_type": "code",
   "execution_count": 150,
   "metadata": {},
   "outputs": [],
   "source": [
    "df_fb_stm = pd.concat({\n",
    "    10: pd.DataFrame(unpack_nested_metrics(fb_10_stm.metrics)),\n",
    "    25: pd.DataFrame(unpack_nested_metrics(fb_25_stm.metrics)),\n",
    "    50: pd.DataFrame(unpack_nested_metrics(fb_50_stm.metrics)),\n",
    "    100: pd.DataFrame(unpack_nested_metrics(fb_100_stm.metrics)),\n",
    "})\n",
    "df_fb_corr = pd.concat({\n",
    "    10: pd.DataFrame(unpack_nested_metrics(fb_10_corr.metrics)),\n",
    "    25: pd.DataFrame(unpack_nested_metrics(fb_25_corr.metrics)),\n",
    "    50: pd.DataFrame(unpack_nested_metrics(fb_50_corr.metrics)),\n",
    "    100: pd.DataFrame(unpack_nested_metrics(fb_100_corr.metrics)),\n",
    "})\n",
    "df_fb_user = pd.concat({\"with_domain\": df_fb_stm, \"without_domain\": df_fb_corr})"
   ]
  },
  {
   "cell_type": "code",
   "execution_count": 154,
   "metadata": {},
   "outputs": [
    {
     "data": {
      "text/html": [
       "<div>\n",
       "<style scoped>\n",
       "    .dataframe tbody tr th:only-of-type {\n",
       "        vertical-align: middle;\n",
       "    }\n",
       "\n",
       "    .dataframe tbody tr th {\n",
       "        vertical-align: top;\n",
       "    }\n",
       "\n",
       "    .dataframe thead th {\n",
       "        text-align: right;\n",
       "    }\n",
       "</style>\n",
       "<table border=\"1\" class=\"dataframe\">\n",
       "  <thead>\n",
       "    <tr style=\"text-align: right;\">\n",
       "      <th></th>\n",
       "      <th>STM</th>\n",
       "      <th>K</th>\n",
       "      <th>Metric</th>\n",
       "      <th>Train</th>\n",
       "      <th>Test_Facebook</th>\n",
       "      <th>Test_Twitter</th>\n",
       "    </tr>\n",
       "  </thead>\n",
       "  <tbody>\n",
       "    <tr>\n",
       "      <th>0</th>\n",
       "      <td>with_domain</td>\n",
       "      <td>10</td>\n",
       "      <td>r2</td>\n",
       "      <td>0.016884</td>\n",
       "      <td>0.004773</td>\n",
       "      <td>-0.020335</td>\n",
       "    </tr>\n",
       "    <tr>\n",
       "      <th>1</th>\n",
       "      <td>with_domain</td>\n",
       "      <td>10</td>\n",
       "      <td>pearsonr</td>\n",
       "      <td>0.174653</td>\n",
       "      <td>0.089050</td>\n",
       "      <td>-0.049513</td>\n",
       "    </tr>\n",
       "    <tr>\n",
       "      <th>2</th>\n",
       "      <td>with_domain</td>\n",
       "      <td>25</td>\n",
       "      <td>r2</td>\n",
       "      <td>0.038484</td>\n",
       "      <td>0.023541</td>\n",
       "      <td>-0.142348</td>\n",
       "    </tr>\n",
       "    <tr>\n",
       "      <th>3</th>\n",
       "      <td>with_domain</td>\n",
       "      <td>25</td>\n",
       "      <td>pearsonr</td>\n",
       "      <td>0.209387</td>\n",
       "      <td>0.163701</td>\n",
       "      <td>-0.078456</td>\n",
       "    </tr>\n",
       "    <tr>\n",
       "      <th>4</th>\n",
       "      <td>with_domain</td>\n",
       "      <td>50</td>\n",
       "      <td>r2</td>\n",
       "      <td>0.122523</td>\n",
       "      <td>-0.046745</td>\n",
       "      <td>-0.550022</td>\n",
       "    </tr>\n",
       "    <tr>\n",
       "      <th>5</th>\n",
       "      <td>with_domain</td>\n",
       "      <td>50</td>\n",
       "      <td>pearsonr</td>\n",
       "      <td>0.358594</td>\n",
       "      <td>0.080051</td>\n",
       "      <td>0.012216</td>\n",
       "    </tr>\n",
       "    <tr>\n",
       "      <th>6</th>\n",
       "      <td>with_domain</td>\n",
       "      <td>100</td>\n",
       "      <td>r2</td>\n",
       "      <td>0.022256</td>\n",
       "      <td>0.008483</td>\n",
       "      <td>-0.028523</td>\n",
       "    </tr>\n",
       "    <tr>\n",
       "      <th>7</th>\n",
       "      <td>with_domain</td>\n",
       "      <td>100</td>\n",
       "      <td>pearsonr</td>\n",
       "      <td>0.189133</td>\n",
       "      <td>0.116471</td>\n",
       "      <td>-0.032760</td>\n",
       "    </tr>\n",
       "    <tr>\n",
       "      <th>8</th>\n",
       "      <td>without_domain</td>\n",
       "      <td>10</td>\n",
       "      <td>r2</td>\n",
       "      <td>0.038744</td>\n",
       "      <td>-0.034313</td>\n",
       "      <td>-1.388789</td>\n",
       "    </tr>\n",
       "    <tr>\n",
       "      <th>9</th>\n",
       "      <td>without_domain</td>\n",
       "      <td>10</td>\n",
       "      <td>pearsonr</td>\n",
       "      <td>0.196835</td>\n",
       "      <td>0.031820</td>\n",
       "      <td>-0.041823</td>\n",
       "    </tr>\n",
       "    <tr>\n",
       "      <th>10</th>\n",
       "      <td>without_domain</td>\n",
       "      <td>25</td>\n",
       "      <td>r2</td>\n",
       "      <td>0.087443</td>\n",
       "      <td>-0.008393</td>\n",
       "      <td>-1.464854</td>\n",
       "    </tr>\n",
       "    <tr>\n",
       "      <th>11</th>\n",
       "      <td>without_domain</td>\n",
       "      <td>25</td>\n",
       "      <td>pearsonr</td>\n",
       "      <td>0.299424</td>\n",
       "      <td>0.118469</td>\n",
       "      <td>-0.058272</td>\n",
       "    </tr>\n",
       "    <tr>\n",
       "      <th>12</th>\n",
       "      <td>without_domain</td>\n",
       "      <td>50</td>\n",
       "      <td>r2</td>\n",
       "      <td>0.121617</td>\n",
       "      <td>-0.050609</td>\n",
       "      <td>-2.560206</td>\n",
       "    </tr>\n",
       "    <tr>\n",
       "      <th>13</th>\n",
       "      <td>without_domain</td>\n",
       "      <td>50</td>\n",
       "      <td>pearsonr</td>\n",
       "      <td>0.352722</td>\n",
       "      <td>0.068825</td>\n",
       "      <td>0.001219</td>\n",
       "    </tr>\n",
       "    <tr>\n",
       "      <th>14</th>\n",
       "      <td>without_domain</td>\n",
       "      <td>100</td>\n",
       "      <td>r2</td>\n",
       "      <td>0.029284</td>\n",
       "      <td>0.014784</td>\n",
       "      <td>-0.106232</td>\n",
       "    </tr>\n",
       "    <tr>\n",
       "      <th>15</th>\n",
       "      <td>without_domain</td>\n",
       "      <td>100</td>\n",
       "      <td>pearsonr</td>\n",
       "      <td>0.192774</td>\n",
       "      <td>0.139249</td>\n",
       "      <td>-0.072587</td>\n",
       "    </tr>\n",
       "  </tbody>\n",
       "</table>\n",
       "</div>"
      ],
      "text/plain": [
       "               STM    K    Metric     Train  Test_Facebook  Test_Twitter\n",
       "0      with_domain   10        r2  0.016884       0.004773     -0.020335\n",
       "1      with_domain   10  pearsonr  0.174653       0.089050     -0.049513\n",
       "2      with_domain   25        r2  0.038484       0.023541     -0.142348\n",
       "3      with_domain   25  pearsonr  0.209387       0.163701     -0.078456\n",
       "4      with_domain   50        r2  0.122523      -0.046745     -0.550022\n",
       "5      with_domain   50  pearsonr  0.358594       0.080051      0.012216\n",
       "6      with_domain  100        r2  0.022256       0.008483     -0.028523\n",
       "7      with_domain  100  pearsonr  0.189133       0.116471     -0.032760\n",
       "8   without_domain   10        r2  0.038744      -0.034313     -1.388789\n",
       "9   without_domain   10  pearsonr  0.196835       0.031820     -0.041823\n",
       "10  without_domain   25        r2  0.087443      -0.008393     -1.464854\n",
       "11  without_domain   25  pearsonr  0.299424       0.118469     -0.058272\n",
       "12  without_domain   50        r2  0.121617      -0.050609     -2.560206\n",
       "13  without_domain   50  pearsonr  0.352722       0.068825      0.001219\n",
       "14  without_domain  100        r2  0.029284       0.014784     -0.106232\n",
       "15  without_domain  100  pearsonr  0.192774       0.139249     -0.072587"
      ]
     },
     "execution_count": 154,
     "metadata": {},
     "output_type": "execute_result"
    }
   ],
   "source": [
    "df_fb_user_plt = (\n",
    "    df_fb_user.reset_index(drop=False)\n",
    "    .rename(columns={'level_0': 'STM', 'level_1': 'K', 'level_2': 'Metric'})\n",
    ")\n",
    "df_fb_user_plt"
   ]
  },
  {
   "cell_type": "code",
   "execution_count": 160,
   "metadata": {},
   "outputs": [
    {
     "data": {
      "text/plain": [
       "<AxesSubplot:xlabel='K'>"
      ]
     },
     "execution_count": 160,
     "metadata": {},
     "output_type": "execute_result"
    },
    {
     "data": {
      "image/png": "[encoded data removed]",
      "text/plain": [
       "<Figure size 432x288 with 1 Axes>"
      ]
     },
     "metadata": {
      "needs_background": "light"
     },
     "output_type": "display_data"
    }
   ],
   "source": [
    "(\n",
    "    df_fb_user_plt.query(\"Metric=='pearsonr'\")\n",
    "    .pivot(values=[\"Test_Facebook\", \"Test_Twitter\", \"Train\"], index=\"K\", columns=\"STM\")\n",
    "    .plot()\n",
    ")"
   ]
  },
  {
   "cell_type": "code",
   "execution_count": 161,
   "metadata": {},
   "outputs": [
    {
     "data": {
      "text/plain": [
       "<AxesSubplot:xlabel='K'>"
      ]
     },
     "execution_count": 161,
     "metadata": {},
     "output_type": "execute_result"
    },
    {
     "data": {
      "image/png": "[encoded data removed]",
      "text/plain": [
       "<Figure size 432x288 with 1 Axes>"
      ]
     },
     "metadata": {
      "needs_background": "light"
     },
     "output_type": "display_data"
    }
   ],
   "source": [
    "(\n",
    "    df_fb_user_plt.query(\"Metric=='r2'\")\n",
    "    .pivot(values=[\"Test_Facebook\", \"Test_Twitter\", \"Train\"], index=\"K\", columns=\"STM\")\n",
    "    .plot()\n",
    ")"
   ]
  },
  {
   "cell_type": "markdown",
   "metadata": {},
   "source": [
    "### Plot TwitterExperiment results"
   ]
  },
  {
   "cell_type": "code",
   "execution_count": 162,
   "metadata": {},
   "outputs": [],
   "source": [
    "df_tw_stm = pd.concat({\n",
    "    10: pd.DataFrame(unpack_nested_metrics(tw_10_stm.metrics)),\n",
    "    25: pd.DataFrame(unpack_nested_metrics(tw_25_stm.metrics)),\n",
    "    50: pd.DataFrame(unpack_nested_metrics(tw_50_stm.metrics)),\n",
    "    100: pd.DataFrame(unpack_nested_metrics(tw_100_stm.metrics)),\n",
    "})\n",
    "df_tw_corr = pd.concat({\n",
    "    10: pd.DataFrame(unpack_nested_metrics(tw_10_corr.metrics)),\n",
    "    25: pd.DataFrame(unpack_nested_metrics(tw_25_corr.metrics)),\n",
    "    50: pd.DataFrame(unpack_nested_metrics(tw_50_corr.metrics)),\n",
    "    100: pd.DataFrame(unpack_nested_metrics(tw_100_corr.metrics)),\n",
    "})\n",
    "df_tw_user = pd.concat({\"with_domain\": df_tw_stm, \"without_domain\": df_tw_corr})"
   ]
  },
  {
   "cell_type": "code",
   "execution_count": 163,
   "metadata": {},
   "outputs": [
    {
     "data": {
      "text/html": [
       "<div>\n",
       "<style scoped>\n",
       "    .dataframe tbody tr th:only-of-type {\n",
       "        vertical-align: middle;\n",
       "    }\n",
       "\n",
       "    .dataframe tbody tr th {\n",
       "        vertical-align: top;\n",
       "    }\n",
       "\n",
       "    .dataframe thead th {\n",
       "        text-align: right;\n",
       "    }\n",
       "</style>\n",
       "<table border=\"1\" class=\"dataframe\">\n",
       "  <thead>\n",
       "    <tr style=\"text-align: right;\">\n",
       "      <th></th>\n",
       "      <th>STM</th>\n",
       "      <th>K</th>\n",
       "      <th>Metric</th>\n",
       "      <th>Train</th>\n",
       "      <th>Test_Facebook</th>\n",
       "      <th>Test_Twitter</th>\n",
       "    </tr>\n",
       "  </thead>\n",
       "  <tbody>\n",
       "    <tr>\n",
       "      <th>0</th>\n",
       "      <td>with_domain</td>\n",
       "      <td>10</td>\n",
       "      <td>r2</td>\n",
       "      <td>0.010184</td>\n",
       "      <td>0.000585</td>\n",
       "      <td>-0.009918</td>\n",
       "    </tr>\n",
       "    <tr>\n",
       "      <th>1</th>\n",
       "      <td>with_domain</td>\n",
       "      <td>10</td>\n",
       "      <td>pearsonr</td>\n",
       "      <td>0.100918</td>\n",
       "      <td>0.031455</td>\n",
       "      <td>0.026036</td>\n",
       "    </tr>\n",
       "    <tr>\n",
       "      <th>2</th>\n",
       "      <td>with_domain</td>\n",
       "      <td>25</td>\n",
       "      <td>r2</td>\n",
       "      <td>0.002872</td>\n",
       "      <td>-0.000451</td>\n",
       "      <td>-0.010290</td>\n",
       "    </tr>\n",
       "    <tr>\n",
       "      <th>3</th>\n",
       "      <td>with_domain</td>\n",
       "      <td>25</td>\n",
       "      <td>pearsonr</td>\n",
       "      <td>0.102778</td>\n",
       "      <td>0.010112</td>\n",
       "      <td>-0.026855</td>\n",
       "    </tr>\n",
       "    <tr>\n",
       "      <th>4</th>\n",
       "      <td>with_domain</td>\n",
       "      <td>50</td>\n",
       "      <td>r2</td>\n",
       "      <td>0.054638</td>\n",
       "      <td>-0.031456</td>\n",
       "      <td>-0.045767</td>\n",
       "    </tr>\n",
       "    <tr>\n",
       "      <th>5</th>\n",
       "      <td>with_domain</td>\n",
       "      <td>50</td>\n",
       "      <td>pearsonr</td>\n",
       "      <td>0.233747</td>\n",
       "      <td>-0.017850</td>\n",
       "      <td>-0.005277</td>\n",
       "    </tr>\n",
       "    <tr>\n",
       "      <th>6</th>\n",
       "      <td>with_domain</td>\n",
       "      <td>100</td>\n",
       "      <td>r2</td>\n",
       "      <td>0.164661</td>\n",
       "      <td>-0.054813</td>\n",
       "      <td>-0.203253</td>\n",
       "    </tr>\n",
       "    <tr>\n",
       "      <th>7</th>\n",
       "      <td>with_domain</td>\n",
       "      <td>100</td>\n",
       "      <td>pearsonr</td>\n",
       "      <td>0.405791</td>\n",
       "      <td>0.025705</td>\n",
       "      <td>-0.121366</td>\n",
       "    </tr>\n",
       "    <tr>\n",
       "      <th>8</th>\n",
       "      <td>without_domain</td>\n",
       "      <td>10</td>\n",
       "      <td>r2</td>\n",
       "      <td>0.002865</td>\n",
       "      <td>-0.005776</td>\n",
       "      <td>-0.018743</td>\n",
       "    </tr>\n",
       "    <tr>\n",
       "      <th>9</th>\n",
       "      <td>without_domain</td>\n",
       "      <td>10</td>\n",
       "      <td>pearsonr</td>\n",
       "      <td>0.053526</td>\n",
       "      <td>-0.061524</td>\n",
       "      <td>-0.049232</td>\n",
       "    </tr>\n",
       "    <tr>\n",
       "      <th>10</th>\n",
       "      <td>without_domain</td>\n",
       "      <td>25</td>\n",
       "      <td>r2</td>\n",
       "      <td>0.003786</td>\n",
       "      <td>0.000043</td>\n",
       "      <td>-0.010381</td>\n",
       "    </tr>\n",
       "    <tr>\n",
       "      <th>11</th>\n",
       "      <td>without_domain</td>\n",
       "      <td>25</td>\n",
       "      <td>pearsonr</td>\n",
       "      <td>0.107922</td>\n",
       "      <td>0.015992</td>\n",
       "      <td>-0.028171</td>\n",
       "    </tr>\n",
       "    <tr>\n",
       "      <th>12</th>\n",
       "      <td>without_domain</td>\n",
       "      <td>50</td>\n",
       "      <td>r2</td>\n",
       "      <td>0.052349</td>\n",
       "      <td>-0.030553</td>\n",
       "      <td>-0.065962</td>\n",
       "    </tr>\n",
       "    <tr>\n",
       "      <th>13</th>\n",
       "      <td>without_domain</td>\n",
       "      <td>50</td>\n",
       "      <td>pearsonr</td>\n",
       "      <td>0.228799</td>\n",
       "      <td>-0.044005</td>\n",
       "      <td>0.013242</td>\n",
       "    </tr>\n",
       "    <tr>\n",
       "      <th>14</th>\n",
       "      <td>without_domain</td>\n",
       "      <td>100</td>\n",
       "      <td>r2</td>\n",
       "      <td>0.082341</td>\n",
       "      <td>-0.029899</td>\n",
       "      <td>-0.096807</td>\n",
       "    </tr>\n",
       "    <tr>\n",
       "      <th>15</th>\n",
       "      <td>without_domain</td>\n",
       "      <td>100</td>\n",
       "      <td>pearsonr</td>\n",
       "      <td>0.286951</td>\n",
       "      <td>-0.034141</td>\n",
       "      <td>-0.027352</td>\n",
       "    </tr>\n",
       "  </tbody>\n",
       "</table>\n",
       "</div>"
      ],
      "text/plain": [
       "               STM    K    Metric     Train  Test_Facebook  Test_Twitter\n",
       "0      with_domain   10        r2  0.010184       0.000585     -0.009918\n",
       "1      with_domain   10  pearsonr  0.100918       0.031455      0.026036\n",
       "2      with_domain   25        r2  0.002872      -0.000451     -0.010290\n",
       "3      with_domain   25  pearsonr  0.102778       0.010112     -0.026855\n",
       "4      with_domain   50        r2  0.054638      -0.031456     -0.045767\n",
       "5      with_domain   50  pearsonr  0.233747      -0.017850     -0.005277\n",
       "6      with_domain  100        r2  0.164661      -0.054813     -0.203253\n",
       "7      with_domain  100  pearsonr  0.405791       0.025705     -0.121366\n",
       "8   without_domain   10        r2  0.002865      -0.005776     -0.018743\n",
       "9   without_domain   10  pearsonr  0.053526      -0.061524     -0.049232\n",
       "10  without_domain   25        r2  0.003786       0.000043     -0.010381\n",
       "11  without_domain   25  pearsonr  0.107922       0.015992     -0.028171\n",
       "12  without_domain   50        r2  0.052349      -0.030553     -0.065962\n",
       "13  without_domain   50  pearsonr  0.228799      -0.044005      0.013242\n",
       "14  without_domain  100        r2  0.082341      -0.029899     -0.096807\n",
       "15  without_domain  100  pearsonr  0.286951      -0.034141     -0.027352"
      ]
     },
     "execution_count": 163,
     "metadata": {},
     "output_type": "execute_result"
    }
   ],
   "source": [
    "df_tw_user_plt = (\n",
    "    df_tw_user.reset_index(drop=False)\n",
    "    .rename(columns={'level_0': 'STM', 'level_1': 'K', 'level_2': 'Metric'})\n",
    ")\n",
    "df_tw_user_plt"
   ]
  },
  {
   "cell_type": "code",
   "execution_count": 164,
   "metadata": {},
   "outputs": [
    {
     "data": {
      "text/plain": [
       "<AxesSubplot:xlabel='K'>"
      ]
     },
     "execution_count": 164,
     "metadata": {},
     "output_type": "execute_result"
    },
    {
     "data": {
      "image/png": "[encoded data removed]",
      "text/plain": [
       "<Figure size 432x288 with 1 Axes>"
      ]
     },
     "metadata": {
      "needs_background": "light"
     },
     "output_type": "display_data"
    }
   ],
   "source": [
    "(\n",
    "    df_tw_user_plt.query(\"Metric=='pearsonr'\")\n",
    "    .pivot(values=[\"Test_Facebook\", \"Test_Twitter\", \"Train\"], index=\"K\", columns=\"STM\")\n",
    "    .plot()\n",
    ")"
   ]
  },
  {
   "cell_type": "code",
   "execution_count": 165,
   "metadata": {},
   "outputs": [
    {
     "data": {
      "text/plain": [
       "<AxesSubplot:xlabel='K'>"
      ]
     },
     "execution_count": 165,
     "metadata": {},
     "output_type": "execute_result"
    },
    {
     "data": {
      "image/png": "[encoded data removed]",
      "text/plain": [
       "<Figure size 432x288 with 1 Axes>"
      ]
     },
     "metadata": {
      "needs_background": "light"
     },
     "output_type": "display_data"
    }
   ],
   "source": [
    "(\n",
    "    df_tw_user_plt.query(\"Metric=='r2'\")\n",
    "    .pivot(values=[\"Test_Facebook\", \"Test_Twitter\", \"Train\"], index=\"K\", columns=\"STM\")\n",
    "    .plot()\n",
    ")"
   ]
  },
  {
   "cell_type": "markdown",
   "metadata": {},
   "source": [
    "# Statistical tests"
   ]
  },
  {
   "cell_type": "code",
   "execution_count": 166,
   "metadata": {},
   "outputs": [],
   "source": [
    "def make_r_t_test_string(a: list, b: list, alternative: str = \"greater\") -> str:\n",
    "    print(\n",
    "        \"t.test(c(\" + \n",
    "        \", \".join([str(i) for i in a]) + \n",
    "        \"), c(\" + \n",
    "        \", \".join([str(i) for i in b]) + \n",
    "        f\"), paired=TRUE, alternative={alternative!r})\"\n",
    "    )"
   ]
  },
  {
   "cell_type": "markdown",
   "metadata": {},
   "source": [
    "## Test Twitter results"
   ]
  },
  {
   "cell_type": "markdown",
   "metadata": {},
   "source": [
    "No statistically significant results"
   ]
  },
  {
   "cell_type": "code",
   "execution_count": 171,
   "metadata": {},
   "outputs": [
    {
     "data": {
      "text/html": [
       "<div>\n",
       "<style scoped>\n",
       "    .dataframe tbody tr th:only-of-type {\n",
       "        vertical-align: middle;\n",
       "    }\n",
       "\n",
       "    .dataframe tbody tr th {\n",
       "        vertical-align: top;\n",
       "    }\n",
       "\n",
       "    .dataframe thead th {\n",
       "        text-align: right;\n",
       "    }\n",
       "</style>\n",
       "<table border=\"1\" class=\"dataframe\">\n",
       "  <thead>\n",
       "    <tr style=\"text-align: right;\">\n",
       "      <th></th>\n",
       "      <th>STM</th>\n",
       "      <th>K</th>\n",
       "      <th>Metric</th>\n",
       "      <th>Train</th>\n",
       "      <th>Test_Facebook</th>\n",
       "      <th>Test_Twitter</th>\n",
       "    </tr>\n",
       "  </thead>\n",
       "  <tbody>\n",
       "    <tr>\n",
       "      <th>1</th>\n",
       "      <td>with_domain</td>\n",
       "      <td>10</td>\n",
       "      <td>pearsonr</td>\n",
       "      <td>0.100918</td>\n",
       "      <td>0.031455</td>\n",
       "      <td>0.026036</td>\n",
       "    </tr>\n",
       "    <tr>\n",
       "      <th>3</th>\n",
       "      <td>with_domain</td>\n",
       "      <td>25</td>\n",
       "      <td>pearsonr</td>\n",
       "      <td>0.102778</td>\n",
       "      <td>0.010112</td>\n",
       "      <td>-0.026855</td>\n",
       "    </tr>\n",
       "    <tr>\n",
       "      <th>5</th>\n",
       "      <td>with_domain</td>\n",
       "      <td>50</td>\n",
       "      <td>pearsonr</td>\n",
       "      <td>0.233747</td>\n",
       "      <td>-0.017850</td>\n",
       "      <td>-0.005277</td>\n",
       "    </tr>\n",
       "    <tr>\n",
       "      <th>7</th>\n",
       "      <td>with_domain</td>\n",
       "      <td>100</td>\n",
       "      <td>pearsonr</td>\n",
       "      <td>0.405791</td>\n",
       "      <td>0.025705</td>\n",
       "      <td>-0.121366</td>\n",
       "    </tr>\n",
       "  </tbody>\n",
       "</table>\n",
       "</div>"
      ],
      "text/plain": [
       "           STM    K    Metric     Train  Test_Facebook  Test_Twitter\n",
       "1  with_domain   10  pearsonr  0.100918       0.031455      0.026036\n",
       "3  with_domain   25  pearsonr  0.102778       0.010112     -0.026855\n",
       "5  with_domain   50  pearsonr  0.233747      -0.017850     -0.005277\n",
       "7  with_domain  100  pearsonr  0.405791       0.025705     -0.121366"
      ]
     },
     "execution_count": 171,
     "metadata": {},
     "output_type": "execute_result"
    }
   ],
   "source": [
    "a = df_tw_user_plt.query(\"STM=='with_domain' & Metric=='pearsonr'\")\n",
    "a"
   ]
  },
  {
   "cell_type": "code",
   "execution_count": 172,
   "metadata": {},
   "outputs": [
    {
     "data": {
      "text/html": [
       "<div>\n",
       "<style scoped>\n",
       "    .dataframe tbody tr th:only-of-type {\n",
       "        vertical-align: middle;\n",
       "    }\n",
       "\n",
       "    .dataframe tbody tr th {\n",
       "        vertical-align: top;\n",
       "    }\n",
       "\n",
       "    .dataframe thead th {\n",
       "        text-align: right;\n",
       "    }\n",
       "</style>\n",
       "<table border=\"1\" class=\"dataframe\">\n",
       "  <thead>\n",
       "    <tr style=\"text-align: right;\">\n",
       "      <th></th>\n",
       "      <th>STM</th>\n",
       "      <th>K</th>\n",
       "      <th>Metric</th>\n",
       "      <th>Train</th>\n",
       "      <th>Test_Facebook</th>\n",
       "      <th>Test_Twitter</th>\n",
       "    </tr>\n",
       "  </thead>\n",
       "  <tbody>\n",
       "    <tr>\n",
       "      <th>9</th>\n",
       "      <td>without_domain</td>\n",
       "      <td>10</td>\n",
       "      <td>pearsonr</td>\n",
       "      <td>0.053526</td>\n",
       "      <td>-0.061524</td>\n",
       "      <td>-0.049232</td>\n",
       "    </tr>\n",
       "    <tr>\n",
       "      <th>11</th>\n",
       "      <td>without_domain</td>\n",
       "      <td>25</td>\n",
       "      <td>pearsonr</td>\n",
       "      <td>0.107922</td>\n",
       "      <td>0.015992</td>\n",
       "      <td>-0.028171</td>\n",
       "    </tr>\n",
       "    <tr>\n",
       "      <th>13</th>\n",
       "      <td>without_domain</td>\n",
       "      <td>50</td>\n",
       "      <td>pearsonr</td>\n",
       "      <td>0.228799</td>\n",
       "      <td>-0.044005</td>\n",
       "      <td>0.013242</td>\n",
       "    </tr>\n",
       "    <tr>\n",
       "      <th>15</th>\n",
       "      <td>without_domain</td>\n",
       "      <td>100</td>\n",
       "      <td>pearsonr</td>\n",
       "      <td>0.286951</td>\n",
       "      <td>-0.034141</td>\n",
       "      <td>-0.027352</td>\n",
       "    </tr>\n",
       "  </tbody>\n",
       "</table>\n",
       "</div>"
      ],
      "text/plain": [
       "               STM    K    Metric     Train  Test_Facebook  Test_Twitter\n",
       "9   without_domain   10  pearsonr  0.053526      -0.061524     -0.049232\n",
       "11  without_domain   25  pearsonr  0.107922       0.015992     -0.028171\n",
       "13  without_domain   50  pearsonr  0.228799      -0.044005      0.013242\n",
       "15  without_domain  100  pearsonr  0.286951      -0.034141     -0.027352"
      ]
     },
     "execution_count": 172,
     "metadata": {},
     "output_type": "execute_result"
    }
   ],
   "source": [
    "b = df_tw_user_plt.query(\"STM=='without_domain' & Metric=='pearsonr'\")\n",
    "b"
   ]
  },
  {
   "cell_type": "code",
   "execution_count": 173,
   "metadata": {},
   "outputs": [
    {
     "name": "stdout",
     "output_type": "stream",
     "text": [
      "t.test(c(0.10091789217218711, 0.10277786657716557, 0.23374741292164447, 0.4057909521453831), c(0.053525537368509304, 0.10792162320905889, 0.2287987981843438, 0.2869512369102729), paired=TRUE, alternative='two.sided')\n"
     ]
    }
   ],
   "source": [
    "make_r_t_test_string(a[\"Train\"], b[\"Train\"], \"two.sided\")"
   ]
  },
  {
   "cell_type": "raw",
   "metadata": {},
   "source": [
    "t.test(c(0.10091789217218711, 0.10277786657716557, 0.23374741292164447, 0.4057909521453831), c(0.053525537368509304, 0.10792162320905889, 0.2287987981843438, 0.2869512369102729), paired=TRUE, alternative='two.sided')\n",
    "\n",
    "        Paired t-test\n",
    "\n",
    "data:  c(0.100917892172187, 0.102777866577166, 0.233747412921644, 0.405790952145383) and c(0.0535255373685093, 0.107921623209059, 0.228798798184344, 0.286951236910273)\n",
    "t = 1.4731, df = 3, p-value = 0.2371\n",
    "alternative hypothesis: true difference in means is not equal to 0\n",
    "95 percent confidence interval:\n",
    " -0.04816479  0.13118326\n",
    "sample estimates:\n",
    "mean of the differences \n",
    "             0.04150923 "
   ]
  },
  {
   "cell_type": "code",
   "execution_count": 175,
   "metadata": {},
   "outputs": [
    {
     "name": "stdout",
     "output_type": "stream",
     "text": [
      "t.test(c(0.026035846265430068, -0.02685509377063247, -0.005277146895064602, -0.12136560669589025), c(-0.04923153994374686, -0.02817092290829599, 0.013242035769395463, -0.027352393511689315), paired=TRUE, alternative='two.sided')\n"
     ]
    }
   ],
   "source": [
    "make_r_t_test_string(a[\"Test_Twitter\"], b[\"Test_Twitter\"], \"two.sided\")"
   ]
  },
  {
   "cell_type": "raw",
   "metadata": {},
   "source": [
    "t.test(c(0.026035846265430068, -0.02685509377063247, -0.005277146895064602, -0.12136560669589025), c(-0.04923153994374686, -0.02817092290829599, 0.013242035769395463, -0.027352393511689315), paired=TRUE, alternative='two.sided')\n",
    "\n",
    "        Paired t-test\n",
    "\n",
    "data:  c(0.0260358462654301, -0.0268550937706325, -0.0052771468950646,  and c(-0.0492315399437469, -0.028170922908296, 0.0132420357693955,     -0.12136560669589) and     -0.0273523935116893)\n",
    "t = -0.25832, df = 3, p-value = 0.8129\n",
    "alternative hypothesis: true difference in means is not equal to 0\n",
    "95 percent confidence interval:\n",
    " -0.1197089  0.1017344\n",
    "sample estimates:\n",
    "mean of the differences \n",
    "           -0.008987295"
   ]
  },
  {
   "cell_type": "code",
   "execution_count": 174,
   "metadata": {},
   "outputs": [
    {
     "name": "stdout",
     "output_type": "stream",
     "text": [
      "t.test(c(0.03145494134149941, 0.010112251017320963, -0.017850130919576233, 0.02570512308486145), c(-0.06152427883845271, 0.01599181859624912, -0.04400493846702935, -0.03414089538175781), paired=TRUE, alternative='greater')\n"
     ]
    }
   ],
   "source": [
    "make_r_t_test_string(a[\"Test_Facebook\"], b[\"Test_Facebook\"], \"greater\")"
   ]
  },
  {
   "cell_type": "raw",
   "metadata": {},
   "source": [
    "t.test(c(0.03145494134149941, 0.010112251017320963, -0.017850130919576233, 0.02570512308486145), c(-0.06152427883845271, 0.01599181859624912, -0.04400493846702935, -0.03414089538175781), paired=TRUE, alternative='greater')\n",
    "\n",
    "        Paired t-test\n",
    "\n",
    "data:  c(0.0314549413414994, 0.010112251017321, -0.0178501309195762,  and c(-0.0615242788384527, 0.0159918185962491, -0.0440049384670294,     0.0257051230848615) and     -0.0341408953817578)\n",
    "t = 2.0298, df = 3, p-value = 0.06768\n",
    "alternative hypothesis: true difference in means is greater than 0\n",
    "95 percent confidence interval:\n",
    " -0.006897999          Inf\n",
    "sample estimates:\n",
    "mean of the differences \n",
    "             0.04327512 "
   ]
  },
  {
   "cell_type": "markdown",
   "metadata": {},
   "source": [
    "## Test Facebook results"
   ]
  },
  {
   "cell_type": "markdown",
   "metadata": {},
   "source": [
    "No statistically significant results"
   ]
  },
  {
   "cell_type": "code",
   "execution_count": 178,
   "metadata": {},
   "outputs": [
    {
     "data": {
      "text/html": [
       "<div>\n",
       "<style scoped>\n",
       "    .dataframe tbody tr th:only-of-type {\n",
       "        vertical-align: middle;\n",
       "    }\n",
       "\n",
       "    .dataframe tbody tr th {\n",
       "        vertical-align: top;\n",
       "    }\n",
       "\n",
       "    .dataframe thead th {\n",
       "        text-align: right;\n",
       "    }\n",
       "</style>\n",
       "<table border=\"1\" class=\"dataframe\">\n",
       "  <thead>\n",
       "    <tr style=\"text-align: right;\">\n",
       "      <th></th>\n",
       "      <th>STM</th>\n",
       "      <th>K</th>\n",
       "      <th>Metric</th>\n",
       "      <th>Train</th>\n",
       "      <th>Test_Facebook</th>\n",
       "      <th>Test_Twitter</th>\n",
       "    </tr>\n",
       "  </thead>\n",
       "  <tbody>\n",
       "    <tr>\n",
       "      <th>1</th>\n",
       "      <td>with_domain</td>\n",
       "      <td>10</td>\n",
       "      <td>pearsonr</td>\n",
       "      <td>0.174653</td>\n",
       "      <td>0.089050</td>\n",
       "      <td>-0.049513</td>\n",
       "    </tr>\n",
       "    <tr>\n",
       "      <th>3</th>\n",
       "      <td>with_domain</td>\n",
       "      <td>25</td>\n",
       "      <td>pearsonr</td>\n",
       "      <td>0.209387</td>\n",
       "      <td>0.163701</td>\n",
       "      <td>-0.078456</td>\n",
       "    </tr>\n",
       "    <tr>\n",
       "      <th>5</th>\n",
       "      <td>with_domain</td>\n",
       "      <td>50</td>\n",
       "      <td>pearsonr</td>\n",
       "      <td>0.358594</td>\n",
       "      <td>0.080051</td>\n",
       "      <td>0.012216</td>\n",
       "    </tr>\n",
       "    <tr>\n",
       "      <th>7</th>\n",
       "      <td>with_domain</td>\n",
       "      <td>100</td>\n",
       "      <td>pearsonr</td>\n",
       "      <td>0.189133</td>\n",
       "      <td>0.116471</td>\n",
       "      <td>-0.032760</td>\n",
       "    </tr>\n",
       "  </tbody>\n",
       "</table>\n",
       "</div>"
      ],
      "text/plain": [
       "           STM    K    Metric     Train  Test_Facebook  Test_Twitter\n",
       "1  with_domain   10  pearsonr  0.174653       0.089050     -0.049513\n",
       "3  with_domain   25  pearsonr  0.209387       0.163701     -0.078456\n",
       "5  with_domain   50  pearsonr  0.358594       0.080051      0.012216\n",
       "7  with_domain  100  pearsonr  0.189133       0.116471     -0.032760"
      ]
     },
     "execution_count": 178,
     "metadata": {},
     "output_type": "execute_result"
    }
   ],
   "source": [
    "a = df_fb_user_plt.query(\"STM=='with_domain' & Metric=='pearsonr'\")\n",
    "a"
   ]
  },
  {
   "cell_type": "code",
   "execution_count": 179,
   "metadata": {},
   "outputs": [
    {
     "data": {
      "text/html": [
       "<div>\n",
       "<style scoped>\n",
       "    .dataframe tbody tr th:only-of-type {\n",
       "        vertical-align: middle;\n",
       "    }\n",
       "\n",
       "    .dataframe tbody tr th {\n",
       "        vertical-align: top;\n",
       "    }\n",
       "\n",
       "    .dataframe thead th {\n",
       "        text-align: right;\n",
       "    }\n",
       "</style>\n",
       "<table border=\"1\" class=\"dataframe\">\n",
       "  <thead>\n",
       "    <tr style=\"text-align: right;\">\n",
       "      <th></th>\n",
       "      <th>STM</th>\n",
       "      <th>K</th>\n",
       "      <th>Metric</th>\n",
       "      <th>Train</th>\n",
       "      <th>Test_Facebook</th>\n",
       "      <th>Test_Twitter</th>\n",
       "    </tr>\n",
       "  </thead>\n",
       "  <tbody>\n",
       "    <tr>\n",
       "      <th>9</th>\n",
       "      <td>without_domain</td>\n",
       "      <td>10</td>\n",
       "      <td>pearsonr</td>\n",
       "      <td>0.196835</td>\n",
       "      <td>0.031820</td>\n",
       "      <td>-0.041823</td>\n",
       "    </tr>\n",
       "    <tr>\n",
       "      <th>11</th>\n",
       "      <td>without_domain</td>\n",
       "      <td>25</td>\n",
       "      <td>pearsonr</td>\n",
       "      <td>0.299424</td>\n",
       "      <td>0.118469</td>\n",
       "      <td>-0.058272</td>\n",
       "    </tr>\n",
       "    <tr>\n",
       "      <th>13</th>\n",
       "      <td>without_domain</td>\n",
       "      <td>50</td>\n",
       "      <td>pearsonr</td>\n",
       "      <td>0.352722</td>\n",
       "      <td>0.068825</td>\n",
       "      <td>0.001219</td>\n",
       "    </tr>\n",
       "    <tr>\n",
       "      <th>15</th>\n",
       "      <td>without_domain</td>\n",
       "      <td>100</td>\n",
       "      <td>pearsonr</td>\n",
       "      <td>0.192774</td>\n",
       "      <td>0.139249</td>\n",
       "      <td>-0.072587</td>\n",
       "    </tr>\n",
       "  </tbody>\n",
       "</table>\n",
       "</div>"
      ],
      "text/plain": [
       "               STM    K    Metric     Train  Test_Facebook  Test_Twitter\n",
       "9   without_domain   10  pearsonr  0.196835       0.031820     -0.041823\n",
       "11  without_domain   25  pearsonr  0.299424       0.118469     -0.058272\n",
       "13  without_domain   50  pearsonr  0.352722       0.068825      0.001219\n",
       "15  without_domain  100  pearsonr  0.192774       0.139249     -0.072587"
      ]
     },
     "execution_count": 179,
     "metadata": {},
     "output_type": "execute_result"
    }
   ],
   "source": [
    "b = df_fb_user_plt.query(\"STM=='without_domain' & Metric=='pearsonr'\")\n",
    "b"
   ]
  },
  {
   "cell_type": "code",
   "execution_count": 180,
   "metadata": {},
   "outputs": [
    {
     "name": "stdout",
     "output_type": "stream",
     "text": [
      "t.test(c(0.17465339070047747, 0.2093872347850936, 0.35859417197446175, 0.18913296963359608), c(0.1968351997981782, 0.29942400846748085, 0.35272172173409316, 0.1927742287024265), paired=TRUE, alternative='two.sided')\n"
     ]
    }
   ],
   "source": [
    "make_r_t_test_string(a[\"Train\"], b[\"Train\"], \"two.sided\")"
   ]
  },
  {
   "cell_type": "raw",
   "metadata": {},
   "source": [
    "t.test(c(0.17465339070047747, 0.2093872347850936, 0.35859417197446175, 0.18913296963359608), c(0.1968351997981782, 0.29942400846748085, 0.35272172173409316, 0.1927742287024265), paired=TRUE, alternative='two.sided')\n",
    "\n",
    "        Paired t-test\n",
    "\n",
    "data:  c(0.174653390700477, 0.209387234785094, 0.358594171974462, 0.189132969633596) and c(0.196835199798178, 0.299424008467481, 0.352721721734093, 0.192774228702426)\n",
    "t = -1.2704, df = 3, p-value = 0.2935\n",
    "alternative hypothesis: true difference in means is not equal to 0\n",
    "95 percent confidence interval:\n",
    " -0.09638101  0.04138732\n",
    "sample estimates:\n",
    "mean of the differences \n",
    "            -0.02749685 "
   ]
  },
  {
   "cell_type": "code",
   "execution_count": 181,
   "metadata": {},
   "outputs": [
    {
     "name": "stdout",
     "output_type": "stream",
     "text": [
      "t.test(c(-0.049512849465391265, -0.07845570804425218, 0.012216473457126946, -0.03276010677739507), c(-0.041823056223090405, -0.05827247903785933, 0.0012185277120288565, -0.07258710109848007), paired=TRUE, alternative='greater')\n"
     ]
    }
   ],
   "source": [
    "make_r_t_test_string(a[\"Test_Twitter\"], b[\"Test_Twitter\"], \"greater\")"
   ]
  },
  {
   "cell_type": "raw",
   "metadata": {},
   "source": [
    "t.test(c(-0.049512849465391265, -0.07845570804425218, 0.012216473457126946, -0.03276010677739507), c(-0.041823056223090405, -0.05827247903785933, 0.0012185277120288565, -0.07258710109848007), paired=TRUE, alternative='greater')\n",
    "\n",
    "        Paired t-test\n",
    "\n",
    "data:  c(-0.0495128494653913, -0.0784557080442522, 0.0122164734571269,  and c(-0.0418230562230904, -0.0582724790378593, 0.00121852771202886,     -0.0327601067773951) and     -0.0725871010984801)\n",
    "t = 0.43987, df = 3, p-value = 0.3449\n",
    "alternative hypothesis: true difference in means is greater than 0\n",
    "95 percent confidence interval:\n",
    " -0.02496073         Inf\n",
    "sample estimates:\n",
    "mean of the differences \n",
    "            0.005737979 "
   ]
  },
  {
   "cell_type": "code",
   "execution_count": 182,
   "metadata": {},
   "outputs": [
    {
     "name": "stdout",
     "output_type": "stream",
     "text": [
      "t.test(c(0.08905045943643412, 0.16370079440999769, 0.08005147572552374, 0.11647054973593848), c(0.03181962860406365, 0.11846934119101518, 0.06882457679916376, 0.13924860979247677), paired=TRUE, alternative='two.sided')\n"
     ]
    }
   ],
   "source": [
    "make_r_t_test_string(a[\"Test_Facebook\"], b[\"Test_Facebook\"], \"two.sided\")"
   ]
  },
  {
   "cell_type": "raw",
   "metadata": {},
   "source": [
    "t.test(c(0.08905045943643412, 0.16370079440999769, 0.08005147572552374, 0.11647054973593848), c(0.03181962860406365, 0.11846934119101518, 0.06882457679916376, 0.13924860979247677), paired=TRUE, alternative='two.sided')\n",
    "\n",
    "        Paired t-test\n",
    "\n",
    "data:  c(0.0890504594364341, 0.163700794409998, 0.0800514757255237,  and c(0.0318196286040636, 0.118469341191015, 0.0688245767991638,     0.116470549735938) and     0.139248609792477)\n",
    "t = 1.2607, df = 3, p-value = 0.2965\n",
    "alternative hypothesis: true difference in means is not equal to 0\n",
    "95 percent confidence interval:\n",
    " -0.03464405  0.08009961\n",
    "sample estimates:\n",
    "mean of the differences \n",
    "             0.02272778"
   ]
  },
  {
   "cell_type": "markdown",
   "metadata": {},
   "source": [
    "## Test overall user experiment results"
   ]
  },
  {
   "cell_type": "markdown",
   "metadata": {},
   "source": [
    "No statistically significant results"
   ]
  },
  {
   "cell_type": "code",
   "execution_count": 183,
   "metadata": {},
   "outputs": [
    {
     "data": {
      "text/html": [
       "<div>\n",
       "<style scoped>\n",
       "    .dataframe tbody tr th:only-of-type {\n",
       "        vertical-align: middle;\n",
       "    }\n",
       "\n",
       "    .dataframe tbody tr th {\n",
       "        vertical-align: top;\n",
       "    }\n",
       "\n",
       "    .dataframe thead th {\n",
       "        text-align: right;\n",
       "    }\n",
       "</style>\n",
       "<table border=\"1\" class=\"dataframe\">\n",
       "  <thead>\n",
       "    <tr style=\"text-align: right;\">\n",
       "      <th></th>\n",
       "      <th>STM</th>\n",
       "      <th>K</th>\n",
       "      <th>Metric</th>\n",
       "      <th>Train</th>\n",
       "      <th>Test</th>\n",
       "    </tr>\n",
       "  </thead>\n",
       "  <tbody>\n",
       "    <tr>\n",
       "      <th>1</th>\n",
       "      <td>with_domain</td>\n",
       "      <td>10</td>\n",
       "      <td>pearsonr</td>\n",
       "      <td>0.127723</td>\n",
       "      <td>0.048806</td>\n",
       "    </tr>\n",
       "    <tr>\n",
       "      <th>3</th>\n",
       "      <td>with_domain</td>\n",
       "      <td>25</td>\n",
       "      <td>pearsonr</td>\n",
       "      <td>0.096893</td>\n",
       "      <td>0.024535</td>\n",
       "    </tr>\n",
       "    <tr>\n",
       "      <th>5</th>\n",
       "      <td>with_domain</td>\n",
       "      <td>50</td>\n",
       "      <td>pearsonr</td>\n",
       "      <td>0.175425</td>\n",
       "      <td>0.040421</td>\n",
       "    </tr>\n",
       "    <tr>\n",
       "      <th>7</th>\n",
       "      <td>with_domain</td>\n",
       "      <td>100</td>\n",
       "      <td>pearsonr</td>\n",
       "      <td>0.364312</td>\n",
       "      <td>0.076429</td>\n",
       "    </tr>\n",
       "  </tbody>\n",
       "</table>\n",
       "</div>"
      ],
      "text/plain": [
       "           STM    K    Metric     Train      Test\n",
       "1  with_domain   10  pearsonr  0.127723  0.048806\n",
       "3  with_domain   25  pearsonr  0.096893  0.024535\n",
       "5  with_domain   50  pearsonr  0.175425  0.040421\n",
       "7  with_domain  100  pearsonr  0.364312  0.076429"
      ]
     },
     "execution_count": 183,
     "metadata": {},
     "output_type": "execute_result"
    }
   ],
   "source": [
    "a = df_user_plt.query(\"STM=='with_domain' & Metric=='pearsonr'\")\n",
    "a"
   ]
  },
  {
   "cell_type": "code",
   "execution_count": 184,
   "metadata": {},
   "outputs": [
    {
     "data": {
      "text/html": [
       "<div>\n",
       "<style scoped>\n",
       "    .dataframe tbody tr th:only-of-type {\n",
       "        vertical-align: middle;\n",
       "    }\n",
       "\n",
       "    .dataframe tbody tr th {\n",
       "        vertical-align: top;\n",
       "    }\n",
       "\n",
       "    .dataframe thead th {\n",
       "        text-align: right;\n",
       "    }\n",
       "</style>\n",
       "<table border=\"1\" class=\"dataframe\">\n",
       "  <thead>\n",
       "    <tr style=\"text-align: right;\">\n",
       "      <th></th>\n",
       "      <th>STM</th>\n",
       "      <th>K</th>\n",
       "      <th>Metric</th>\n",
       "      <th>Train</th>\n",
       "      <th>Test</th>\n",
       "    </tr>\n",
       "  </thead>\n",
       "  <tbody>\n",
       "    <tr>\n",
       "      <th>9</th>\n",
       "      <td>without_domain</td>\n",
       "      <td>10</td>\n",
       "      <td>pearsonr</td>\n",
       "      <td>0.125075</td>\n",
       "      <td>0.038366</td>\n",
       "    </tr>\n",
       "    <tr>\n",
       "      <th>11</th>\n",
       "      <td>without_domain</td>\n",
       "      <td>25</td>\n",
       "      <td>pearsonr</td>\n",
       "      <td>0.101562</td>\n",
       "      <td>0.014715</td>\n",
       "    </tr>\n",
       "    <tr>\n",
       "      <th>13</th>\n",
       "      <td>without_domain</td>\n",
       "      <td>50</td>\n",
       "      <td>pearsonr</td>\n",
       "      <td>0.163448</td>\n",
       "      <td>0.053312</td>\n",
       "    </tr>\n",
       "    <tr>\n",
       "      <th>15</th>\n",
       "      <td>without_domain</td>\n",
       "      <td>100</td>\n",
       "      <td>pearsonr</td>\n",
       "      <td>0.360931</td>\n",
       "      <td>0.074519</td>\n",
       "    </tr>\n",
       "  </tbody>\n",
       "</table>\n",
       "</div>"
      ],
      "text/plain": [
       "               STM    K    Metric     Train      Test\n",
       "9   without_domain   10  pearsonr  0.125075  0.038366\n",
       "11  without_domain   25  pearsonr  0.101562  0.014715\n",
       "13  without_domain   50  pearsonr  0.163448  0.053312\n",
       "15  without_domain  100  pearsonr  0.360931  0.074519"
      ]
     },
     "execution_count": 184,
     "metadata": {},
     "output_type": "execute_result"
    }
   ],
   "source": [
    "b = df_user_plt.query(\"STM=='without_domain' & Metric=='pearsonr'\")\n",
    "b"
   ]
  },
  {
   "cell_type": "code",
   "execution_count": 186,
   "metadata": {},
   "outputs": [
    {
     "name": "stdout",
     "output_type": "stream",
     "text": [
      "t.test(c(0.12772280112932258, 0.09689283683565397, 0.1754249478826213, 0.36431204756886787), c(0.12507471294068445, 0.1015620950277002, 0.1634476576821648, 0.36093091024768353), paired=TRUE, alternative='two.sided')\n"
     ]
    }
   ],
   "source": [
    "make_r_t_test_string(a[\"Train\"], b[\"Train\"], \"two.sided\")"
   ]
  },
  {
   "cell_type": "raw",
   "metadata": {},
   "source": [
    "t.test(c(0.12772280112932258, 0.09689283683565397, 0.1754249478826213, 0.36431204756886787), c(0.12507471294068445, 0.1015620950277002, 0.1634476576821648, 0.36093091024768353), paired=TRUE, alternative='two.sided')\n",
    "\n",
    "        Paired t-test\n",
    "\n",
    "data:  c(0.127722801129323, 0.096892836835654, 0.175424947882621, 0.364312047568868) and c(0.125074712940684, 0.1015620950277, 0.163447657682165, 0.360930910247684)\n",
    "t = 0.97888, df = 3, p-value = 0.3998\n",
    "alternative hypothesis: true difference in means is not equal to 0\n",
    "95 percent confidence interval:\n",
    " -0.007505926  0.014174555\n",
    "sample estimates:\n",
    "mean of the differences \n",
    "            0.003334314 "
   ]
  },
  {
   "cell_type": "code",
   "execution_count": 185,
   "metadata": {},
   "outputs": [
    {
     "name": "stdout",
     "output_type": "stream",
     "text": [
      "t.test(c(0.0488060610239241, 0.02453512273365744, 0.040420565909684715, 0.0764292306514716), c(0.03836556847684532, 0.014714746931135177, 0.05331205972206522, 0.07451907504259767), paired=TRUE, alternative='two.sided')\n"
     ]
    }
   ],
   "source": [
    "make_r_t_test_string(a[\"Test\"], b[\"Test\"], \"two.sided\")"
   ]
  },
  {
   "cell_type": "raw",
   "metadata": {},
   "source": [
    "t.test(c(0.0488060610239241, 0.02453512273365744, 0.040420565909684715, 0.0764292306514716), c(0.03836556847684532, 0.014714746931135177, 0.05331205972206522, 0.07451907504259767), paired=TRUE, alternative='two.sided')\n",
    "\n",
    "        Paired t-test\n",
    "\n",
    "data:  c(0.0488060610239241, 0.0245351227336574, 0.0404205659096847,  and c(0.0383655684768453, 0.0147147469311352, 0.0533120597220652,     0.0764292306514716) and     0.0745190750425977)\n",
    "t = 0.42727, df = 3, p-value = 0.698\n",
    "alternative hypothesis: true difference in means is not equal to 0\n",
    "95 percent confidence interval:\n",
    " -0.01495926  0.01959902\n",
    "sample estimates:\n",
    "mean of the differences \n",
    "            0.002319883 "
   ]
  },
  {
   "cell_type": "code",
   "execution_count": null,
   "metadata": {},
   "outputs": [],
   "source": []
  }
 ],
 "metadata": {
  "kernelspec": {
   "display_name": "Python [conda env:pystm-models] *",
   "language": "python",
   "name": "conda-env-pystm-models-py"
  },
  "language_info": {
   "codemirror_mode": {
    "name": "ipython",
    "version": 3
   },
   "file_extension": ".py",
   "mimetype": "text/x-python",
   "name": "python",
   "nbconvert_exporter": "python",
   "pygments_lexer": "ipython3",
   "version": "3.7.7"
  }
 },
 "nbformat": 4,
 "nbformat_minor": 4
}
