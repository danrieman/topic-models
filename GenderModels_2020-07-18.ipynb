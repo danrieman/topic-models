{
 "cells": [
  {
   "cell_type": "code",
   "execution_count": 157,
   "metadata": {},
   "outputs": [],
   "source": [
    "import pandas as pd\n",
    "from pathlib import Path\n",
    "from typing import Dict\n",
    "from subprocess import check_output\n",
    "from pymodels.main import (\n",
    "    UserLevelExperiment as UserExperiment,\n",
    "    UserLevelTrainOnFacebookExperiment as FacebookExperiment,\n",
    "    UserLevelTrainOnTwitterExperiment as TwitterExperiment\n",
    ")"
   ]
  },
  {
   "cell_type": "code",
   "execution_count": 2,
   "metadata": {},
   "outputs": [],
   "source": [
    "data_dir = Path(\"r/localdata/features\")\n",
    "target = \"gender\""
   ]
  },
  {
   "cell_type": "markdown",
   "metadata": {},
   "source": [
    "# Gender Models"
   ]
  },
  {
   "cell_type": "markdown",
   "metadata": {},
   "source": [
    "## Train on Facebook, Evaluate on Twitter and Facebook"
   ]
  },
  {
   "cell_type": "markdown",
   "metadata": {},
   "source": [
    "### k = 10"
   ]
  },
  {
   "cell_type": "markdown",
   "metadata": {},
   "source": [
    "- Corr\n",
    "  - Performance: \n",
    "  - Params: \n",
    "- STM\n",
    "  - Performance: \n",
    "  - Params: "
   ]
  },
  {
   "cell_type": "markdown",
   "metadata": {},
   "source": [
    "#### Without STM domain variable"
   ]
  },
  {
   "cell_type": "code",
   "execution_count": 3,
   "metadata": {},
   "outputs": [],
   "source": [
    "fb_10_corr = FacebookExperiment(target, 10, False, data_dir)"
   ]
  },
  {
   "cell_type": "code",
   "execution_count": 4,
   "metadata": {},
   "outputs": [
    {
     "name": "stderr",
     "output_type": "stream",
     "text": [
      "/Users/rieman/anaconda3/envs/pystm-models/lib/python3.7/site-packages/sklearn/utils/validation.py:73: DataConversionWarning: A column-vector y was passed when a 1d array was expected. Please change the shape of y to (n_samples, ), for example using ravel().\n",
      "  return f(**kwargs)\n"
     ]
    }
   ],
   "source": [
    "fb_10_corr.run()"
   ]
  },
  {
   "cell_type": "code",
   "execution_count": 5,
   "metadata": {},
   "outputs": [
    {
     "data": {
      "text/plain": [
       "{'model__C': 240.0, 'pca__n_components': 0.99}"
      ]
     },
     "execution_count": 5,
     "metadata": {},
     "output_type": "execute_result"
    }
   ],
   "source": [
    "fb_10_corr.model.best_params_"
   ]
  },
  {
   "cell_type": "code",
   "execution_count": 6,
   "metadata": {},
   "outputs": [
    {
     "data": {
      "text/plain": [
       "{'Train': {'accuracy': 0.836864406779661, 'f1': 0.7946666666666665},\n",
       " 'Test': {'accuracy': {'Twitter': 0.540084388185654,\n",
       "   'Facebook': 0.5128205128205128},\n",
       "  'f1': {'Twitter': 0.27814569536423844, 'Facebook': 0.4099378881987578}}}"
      ]
     },
     "execution_count": 6,
     "metadata": {},
     "output_type": "execute_result"
    }
   ],
   "source": [
    "fb_10_corr.metrics"
   ]
  },
  {
   "cell_type": "markdown",
   "metadata": {},
   "source": [
    "#### With STM domain variable"
   ]
  },
  {
   "cell_type": "code",
   "execution_count": 7,
   "metadata": {},
   "outputs": [],
   "source": [
    "fb_10_stm = FacebookExperiment(target, 10, True, data_dir)"
   ]
  },
  {
   "cell_type": "code",
   "execution_count": 8,
   "metadata": {},
   "outputs": [
    {
     "name": "stderr",
     "output_type": "stream",
     "text": [
      "/Users/rieman/anaconda3/envs/pystm-models/lib/python3.7/site-packages/sklearn/utils/validation.py:73: DataConversionWarning: A column-vector y was passed when a 1d array was expected. Please change the shape of y to (n_samples, ), for example using ravel().\n",
      "  return f(**kwargs)\n"
     ]
    }
   ],
   "source": [
    "fb_10_stm.run()"
   ]
  },
  {
   "cell_type": "code",
   "execution_count": 9,
   "metadata": {},
   "outputs": [
    {
     "data": {
      "text/plain": [
       "{'model__C': 260.0, 'pca__n_components': 0.9}"
      ]
     },
     "execution_count": 9,
     "metadata": {},
     "output_type": "execute_result"
    }
   ],
   "source": [
    "fb_10_stm.model.best_params_"
   ]
  },
  {
   "cell_type": "code",
   "execution_count": 10,
   "metadata": {},
   "outputs": [
    {
     "data": {
      "text/plain": [
       "{'Train': {'accuracy': 0.8220338983050848, 'f1': 0.8028169014084506},\n",
       " 'Test': {'accuracy': {'Twitter': 0.5316455696202531,\n",
       "   'Facebook': 0.5025641025641026},\n",
       "  'f1': {'Twitter': 0.3105590062111801, 'Facebook': 0.45197740112994345}}}"
      ]
     },
     "execution_count": 10,
     "metadata": {},
     "output_type": "execute_result"
    }
   ],
   "source": [
    "fb_10_stm.metrics"
   ]
  },
  {
   "cell_type": "markdown",
   "metadata": {},
   "source": [
    "### k = 25"
   ]
  },
  {
   "cell_type": "markdown",
   "metadata": {},
   "source": [
    "- Corr\n",
    "  - Performance: \n",
    "  - Params: \n",
    "- STM\n",
    "  - Performance: \n",
    "  - Params: "
   ]
  },
  {
   "cell_type": "markdown",
   "metadata": {},
   "source": [
    "#### Without STM domain variable"
   ]
  },
  {
   "cell_type": "code",
   "execution_count": 11,
   "metadata": {},
   "outputs": [],
   "source": [
    "fb_25_corr = FacebookExperiment(target, 25, False, data_dir)"
   ]
  },
  {
   "cell_type": "code",
   "execution_count": 12,
   "metadata": {},
   "outputs": [
    {
     "name": "stderr",
     "output_type": "stream",
     "text": [
      "/Users/rieman/anaconda3/envs/pystm-models/lib/python3.7/site-packages/sklearn/utils/validation.py:73: DataConversionWarning: A column-vector y was passed when a 1d array was expected. Please change the shape of y to (n_samples, ), for example using ravel().\n",
      "  return f(**kwargs)\n"
     ]
    }
   ],
   "source": [
    "fb_25_corr.run()"
   ]
  },
  {
   "cell_type": "code",
   "execution_count": 13,
   "metadata": {},
   "outputs": [
    {
     "data": {
      "text/plain": [
       "{'model__C': 20.0, 'pca__n_components': 0.97}"
      ]
     },
     "execution_count": 13,
     "metadata": {},
     "output_type": "execute_result"
    }
   ],
   "source": [
    "fb_25_corr.model.best_params_"
   ]
  },
  {
   "cell_type": "code",
   "execution_count": 14,
   "metadata": {},
   "outputs": [
    {
     "data": {
      "text/plain": [
       "{'Train': {'accuracy': 0.8220338983050848, 'f1': 0.7801047120418848},\n",
       " 'Test': {'accuracy': {'Twitter': 0.569620253164557,\n",
       "   'Facebook': 0.48717948717948717},\n",
       "  'f1': {'Twitter': 0.42045454545454547, 'Facebook': 0.35064935064935066}}}"
      ]
     },
     "execution_count": 14,
     "metadata": {},
     "output_type": "execute_result"
    }
   ],
   "source": [
    "fb_25_corr.metrics"
   ]
  },
  {
   "cell_type": "markdown",
   "metadata": {},
   "source": [
    "#### With STM domain variable"
   ]
  },
  {
   "cell_type": "code",
   "execution_count": 15,
   "metadata": {},
   "outputs": [],
   "source": [
    "fb_25_stm = FacebookExperiment(target, 25, True, data_dir)"
   ]
  },
  {
   "cell_type": "code",
   "execution_count": 16,
   "metadata": {},
   "outputs": [
    {
     "name": "stderr",
     "output_type": "stream",
     "text": [
      "/Users/rieman/anaconda3/envs/pystm-models/lib/python3.7/site-packages/sklearn/utils/validation.py:73: DataConversionWarning: A column-vector y was passed when a 1d array was expected. Please change the shape of y to (n_samples, ), for example using ravel().\n",
      "  return f(**kwargs)\n"
     ]
    }
   ],
   "source": [
    "fb_25_stm.run()"
   ]
  },
  {
   "cell_type": "code",
   "execution_count": 17,
   "metadata": {},
   "outputs": [
    {
     "data": {
      "text/plain": [
       "{'model__C': 260.0, 'pca__n_components': 0.8400000000000001}"
      ]
     },
     "execution_count": 17,
     "metadata": {},
     "output_type": "execute_result"
    }
   ],
   "source": [
    "fb_25_stm.model.best_params_"
   ]
  },
  {
   "cell_type": "code",
   "execution_count": 18,
   "metadata": {},
   "outputs": [
    {
     "data": {
      "text/plain": [
       "{'Train': {'accuracy': 0.8919491525423728, 'f1': 0.8728179551122194},\n",
       " 'Test': {'accuracy': {'Twitter': 0.5358649789029536,\n",
       "   'Facebook': 0.46153846153846156},\n",
       "  'f1': {'Twitter': 0.3125, 'Facebook': 0.36363636363636365}}}"
      ]
     },
     "execution_count": 18,
     "metadata": {},
     "output_type": "execute_result"
    }
   ],
   "source": [
    "fb_25_stm.metrics"
   ]
  },
  {
   "cell_type": "markdown",
   "metadata": {},
   "source": [
    "### k = 50"
   ]
  },
  {
   "cell_type": "markdown",
   "metadata": {},
   "source": [
    "- Corr\n",
    "  - Performance: \n",
    "  - Params: \n",
    "- STM\n",
    "  - Performance: \n",
    "  - Params: "
   ]
  },
  {
   "cell_type": "markdown",
   "metadata": {},
   "source": [
    "#### Without STM domain variable"
   ]
  },
  {
   "cell_type": "code",
   "execution_count": 19,
   "metadata": {},
   "outputs": [],
   "source": [
    "fb_50_corr = FacebookExperiment(target, 50, False, data_dir)"
   ]
  },
  {
   "cell_type": "code",
   "execution_count": 20,
   "metadata": {},
   "outputs": [
    {
     "name": "stderr",
     "output_type": "stream",
     "text": [
      "/Users/rieman/anaconda3/envs/pystm-models/lib/python3.7/site-packages/sklearn/utils/validation.py:73: DataConversionWarning: A column-vector y was passed when a 1d array was expected. Please change the shape of y to (n_samples, ), for example using ravel().\n",
      "  return f(**kwargs)\n"
     ]
    }
   ],
   "source": [
    "fb_50_corr.run()"
   ]
  },
  {
   "cell_type": "code",
   "execution_count": 21,
   "metadata": {},
   "outputs": [
    {
     "data": {
      "text/plain": [
       "{'model__C': 230.0, 'pca__n_components': 0.8200000000000001}"
      ]
     },
     "execution_count": 21,
     "metadata": {},
     "output_type": "execute_result"
    }
   ],
   "source": [
    "fb_50_corr.model.best_params_"
   ]
  },
  {
   "cell_type": "code",
   "execution_count": 22,
   "metadata": {},
   "outputs": [
    {
     "data": {
      "text/plain": [
       "{'Train': {'accuracy': 0.9194915254237288, 'f1': 0.909952606635071},\n",
       " 'Test': {'accuracy': {'Twitter': 0.5316455696202531,\n",
       "   'Facebook': 0.47692307692307695},\n",
       "  'f1': {'Twitter': 0.2237762237762238, 'Facebook': 0.3855421686746988}}}"
      ]
     },
     "execution_count": 22,
     "metadata": {},
     "output_type": "execute_result"
    }
   ],
   "source": [
    "fb_50_corr.metrics"
   ]
  },
  {
   "cell_type": "markdown",
   "metadata": {},
   "source": [
    "#### With STM domain variable"
   ]
  },
  {
   "cell_type": "code",
   "execution_count": 23,
   "metadata": {},
   "outputs": [],
   "source": [
    "fb_50_stm = FacebookExperiment(target, 50, True, data_dir)"
   ]
  },
  {
   "cell_type": "code",
   "execution_count": 24,
   "metadata": {},
   "outputs": [
    {
     "name": "stderr",
     "output_type": "stream",
     "text": [
      "/Users/rieman/anaconda3/envs/pystm-models/lib/python3.7/site-packages/sklearn/utils/validation.py:73: DataConversionWarning: A column-vector y was passed when a 1d array was expected. Please change the shape of y to (n_samples, ), for example using ravel().\n",
      "  return f(**kwargs)\n"
     ]
    }
   ],
   "source": [
    "fb_50_stm.run()"
   ]
  },
  {
   "cell_type": "code",
   "execution_count": 25,
   "metadata": {},
   "outputs": [
    {
     "data": {
      "text/plain": [
       "{'model__C': 290.0, 'pca__n_components': 0.93}"
      ]
     },
     "execution_count": 25,
     "metadata": {},
     "output_type": "execute_result"
    }
   ],
   "source": [
    "fb_50_stm.model.best_params_"
   ]
  },
  {
   "cell_type": "code",
   "execution_count": 26,
   "metadata": {},
   "outputs": [
    {
     "data": {
      "text/plain": [
       "{'Train': {'accuracy': 0.9915254237288136, 'f1': 0.9903381642512077},\n",
       " 'Test': {'accuracy': {'Twitter': 0.540084388185654,\n",
       "   'Facebook': 0.517948717948718},\n",
       "  'f1': {'Twitter': 0.42931937172774864, 'Facebook': 0.4659090909090909}}}"
      ]
     },
     "execution_count": 26,
     "metadata": {},
     "output_type": "execute_result"
    }
   ],
   "source": [
    "fb_50_stm.metrics"
   ]
  },
  {
   "cell_type": "markdown",
   "metadata": {},
   "source": [
    "### k = 100"
   ]
  },
  {
   "cell_type": "markdown",
   "metadata": {},
   "source": [
    "- Corr\n",
    "  - Performance: \n",
    "  - Params: \n",
    "- STM\n",
    "  - Performance: \n",
    "  - Params: "
   ]
  },
  {
   "cell_type": "markdown",
   "metadata": {},
   "source": [
    "#### Without STM domain variable"
   ]
  },
  {
   "cell_type": "code",
   "execution_count": 27,
   "metadata": {},
   "outputs": [],
   "source": [
    "fb_100_corr = FacebookExperiment(target, 100, False, data_dir)"
   ]
  },
  {
   "cell_type": "code",
   "execution_count": 28,
   "metadata": {},
   "outputs": [
    {
     "name": "stderr",
     "output_type": "stream",
     "text": [
      "/Users/rieman/anaconda3/envs/pystm-models/lib/python3.7/site-packages/sklearn/utils/validation.py:73: DataConversionWarning: A column-vector y was passed when a 1d array was expected. Please change the shape of y to (n_samples, ), for example using ravel().\n",
      "  return f(**kwargs)\n"
     ]
    }
   ],
   "source": [
    "fb_100_corr.run()"
   ]
  },
  {
   "cell_type": "code",
   "execution_count": 29,
   "metadata": {},
   "outputs": [
    {
     "data": {
      "text/plain": [
       "{'model__C': 130.0, 'pca__n_components': 0.8300000000000001}"
      ]
     },
     "execution_count": 29,
     "metadata": {},
     "output_type": "execute_result"
    }
   ],
   "source": [
    "fb_100_corr.model.best_params_"
   ]
  },
  {
   "cell_type": "code",
   "execution_count": 30,
   "metadata": {},
   "outputs": [
    {
     "data": {
      "text/plain": [
       "{'Train': {'accuracy': 0.9088983050847458, 'f1': 0.8943488943488944},\n",
       " 'Test': {'accuracy': {'Twitter': 0.5569620253164557,\n",
       "   'Facebook': 0.5487179487179488},\n",
       "  'f1': {'Twitter': 0.33121019108280253, 'Facebook': 0.4883720930232558}}}"
      ]
     },
     "execution_count": 30,
     "metadata": {},
     "output_type": "execute_result"
    }
   ],
   "source": [
    "fb_100_corr.metrics"
   ]
  },
  {
   "cell_type": "markdown",
   "metadata": {},
   "source": [
    "#### With STM domain variable"
   ]
  },
  {
   "cell_type": "code",
   "execution_count": 31,
   "metadata": {},
   "outputs": [],
   "source": [
    "fb_100_stm = FacebookExperiment(target, 100, True, data_dir)"
   ]
  },
  {
   "cell_type": "code",
   "execution_count": 32,
   "metadata": {},
   "outputs": [
    {
     "name": "stderr",
     "output_type": "stream",
     "text": [
      "/Users/rieman/anaconda3/envs/pystm-models/lib/python3.7/site-packages/sklearn/utils/validation.py:73: DataConversionWarning: A column-vector y was passed when a 1d array was expected. Please change the shape of y to (n_samples, ), for example using ravel().\n",
      "  return f(**kwargs)\n"
     ]
    }
   ],
   "source": [
    "fb_100_stm.run()"
   ]
  },
  {
   "cell_type": "code",
   "execution_count": 33,
   "metadata": {},
   "outputs": [
    {
     "data": {
      "text/plain": [
       "{'model__C': 230.0, 'pca__n_components': 0.8300000000000001}"
      ]
     },
     "execution_count": 33,
     "metadata": {},
     "output_type": "execute_result"
    }
   ],
   "source": [
    "fb_100_stm.model.best_params_"
   ]
  },
  {
   "cell_type": "code",
   "execution_count": 34,
   "metadata": {},
   "outputs": [
    {
     "data": {
      "text/plain": [
       "{'Train': {'accuracy': 0.951271186440678, 'f1': 0.9443099273607748},\n",
       " 'Test': {'accuracy': {'Twitter': 0.5654008438818565,\n",
       "   'Facebook': 0.46153846153846156},\n",
       "  'f1': {'Twitter': 0.43715846994535523, 'Facebook': 0.3859649122807018}}}"
      ]
     },
     "execution_count": 34,
     "metadata": {},
     "output_type": "execute_result"
    }
   ],
   "source": [
    "fb_100_stm.metrics"
   ]
  },
  {
   "cell_type": "markdown",
   "metadata": {},
   "source": [
    "## Train on Twitter, Evaluate on Facebook and Twitter"
   ]
  },
  {
   "cell_type": "markdown",
   "metadata": {},
   "source": [
    "### k = 10"
   ]
  },
  {
   "cell_type": "markdown",
   "metadata": {},
   "source": [
    "- Corr\n",
    "  - Performance: \n",
    "  - Params: \n",
    "- STM\n",
    "  - Performance: \n",
    "  - Params: "
   ]
  },
  {
   "cell_type": "markdown",
   "metadata": {},
   "source": [
    "#### Without STM domain variable"
   ]
  },
  {
   "cell_type": "code",
   "execution_count": 35,
   "metadata": {},
   "outputs": [],
   "source": [
    "tw_10_corr = TwitterExperiment(target, 10, False, data_dir)"
   ]
  },
  {
   "cell_type": "code",
   "execution_count": 36,
   "metadata": {},
   "outputs": [
    {
     "name": "stderr",
     "output_type": "stream",
     "text": [
      "/Users/rieman/anaconda3/envs/pystm-models/lib/python3.7/site-packages/sklearn/utils/validation.py:73: DataConversionWarning: A column-vector y was passed when a 1d array was expected. Please change the shape of y to (n_samples, ), for example using ravel().\n",
      "  return f(**kwargs)\n"
     ]
    }
   ],
   "source": [
    "tw_10_corr.run()"
   ]
  },
  {
   "cell_type": "code",
   "execution_count": 37,
   "metadata": {},
   "outputs": [
    {
     "data": {
      "text/plain": [
       "{'model__C': 50.0, 'pca__n_components': 0.98}"
      ]
     },
     "execution_count": 37,
     "metadata": {},
     "output_type": "execute_result"
    }
   ],
   "source": [
    "tw_10_corr.model.best_params_"
   ]
  },
  {
   "cell_type": "code",
   "execution_count": 38,
   "metadata": {},
   "outputs": [
    {
     "data": {
      "text/plain": [
       "{'Train': {'accuracy': 0.7305605786618445, 'f1': 0.6767895878524947},\n",
       " 'Test': {'accuracy': {'Twitter': 0.5358649789029536,\n",
       "   'Facebook': 0.48205128205128206},\n",
       "  'f1': {'Twitter': 0.4387755102040817, 'Facebook': 0.4873096446700507}}}"
      ]
     },
     "execution_count": 38,
     "metadata": {},
     "output_type": "execute_result"
    }
   ],
   "source": [
    "tw_10_corr.metrics"
   ]
  },
  {
   "cell_type": "markdown",
   "metadata": {},
   "source": [
    "#### With STM domain variable"
   ]
  },
  {
   "cell_type": "code",
   "execution_count": 39,
   "metadata": {},
   "outputs": [],
   "source": [
    "tw_10_stm = TwitterExperiment(target, 10, True, data_dir)"
   ]
  },
  {
   "cell_type": "code",
   "execution_count": 40,
   "metadata": {},
   "outputs": [
    {
     "name": "stderr",
     "output_type": "stream",
     "text": [
      "/Users/rieman/anaconda3/envs/pystm-models/lib/python3.7/site-packages/sklearn/utils/validation.py:73: DataConversionWarning: A column-vector y was passed when a 1d array was expected. Please change the shape of y to (n_samples, ), for example using ravel().\n",
      "  return f(**kwargs)\n"
     ]
    }
   ],
   "source": [
    "tw_10_stm.run()"
   ]
  },
  {
   "cell_type": "code",
   "execution_count": 41,
   "metadata": {},
   "outputs": [
    {
     "data": {
      "text/plain": [
       "{'model__C': 100.0, 'pca__n_components': 0.99}"
      ]
     },
     "execution_count": 41,
     "metadata": {},
     "output_type": "execute_result"
    }
   ],
   "source": [
    "tw_10_stm.model.best_params_"
   ]
  },
  {
   "cell_type": "code",
   "execution_count": 42,
   "metadata": {},
   "outputs": [
    {
     "data": {
      "text/plain": [
       "{'Train': {'accuracy': 0.7848101265822784, 'f1': 0.7525987525987526},\n",
       " 'Test': {'accuracy': {'Twitter': 0.5189873417721519,\n",
       "   'Facebook': 0.46153846153846156},\n",
       "  'f1': {'Twitter': 0.44117647058823534, 'Facebook': 0.5248868778280543}}}"
      ]
     },
     "execution_count": 42,
     "metadata": {},
     "output_type": "execute_result"
    }
   ],
   "source": [
    "tw_10_stm.metrics"
   ]
  },
  {
   "cell_type": "markdown",
   "metadata": {},
   "source": [
    "### k = 25"
   ]
  },
  {
   "cell_type": "markdown",
   "metadata": {},
   "source": [
    "- Corr\n",
    "  - Performance: \n",
    "  - Params: \n",
    "- STM\n",
    "  - Performance: \n",
    "  - Params: "
   ]
  },
  {
   "cell_type": "markdown",
   "metadata": {},
   "source": [
    "#### Without STM domain variable"
   ]
  },
  {
   "cell_type": "code",
   "execution_count": 43,
   "metadata": {},
   "outputs": [],
   "source": [
    "tw_25_corr = TwitterExperiment(target, 25, False, data_dir)"
   ]
  },
  {
   "cell_type": "code",
   "execution_count": 44,
   "metadata": {},
   "outputs": [
    {
     "name": "stderr",
     "output_type": "stream",
     "text": [
      "/Users/rieman/anaconda3/envs/pystm-models/lib/python3.7/site-packages/sklearn/utils/validation.py:73: DataConversionWarning: A column-vector y was passed when a 1d array was expected. Please change the shape of y to (n_samples, ), for example using ravel().\n",
      "  return f(**kwargs)\n"
     ]
    }
   ],
   "source": [
    "tw_25_corr.run()"
   ]
  },
  {
   "cell_type": "code",
   "execution_count": 45,
   "metadata": {},
   "outputs": [
    {
     "data": {
      "text/plain": [
       "{'model__C': 30.0, 'pca__n_components': 0.93}"
      ]
     },
     "execution_count": 45,
     "metadata": {},
     "output_type": "execute_result"
    }
   ],
   "source": [
    "tw_25_corr.model.best_params_"
   ]
  },
  {
   "cell_type": "code",
   "execution_count": 46,
   "metadata": {},
   "outputs": [
    {
     "data": {
      "text/plain": [
       "{'Train': {'accuracy': 0.7685352622061483, 'f1': 0.7408906882591093},\n",
       " 'Test': {'accuracy': {'Twitter': 0.5569620253164557,\n",
       "   'Facebook': 0.5025641025641026},\n",
       "  'f1': {'Twitter': 0.5070422535211268, 'Facebook': 0.49214659685863876}}}"
      ]
     },
     "execution_count": 46,
     "metadata": {},
     "output_type": "execute_result"
    }
   ],
   "source": [
    "tw_25_corr.metrics"
   ]
  },
  {
   "cell_type": "markdown",
   "metadata": {},
   "source": [
    "#### With STM domain variable"
   ]
  },
  {
   "cell_type": "code",
   "execution_count": 47,
   "metadata": {},
   "outputs": [],
   "source": [
    "tw_25_stm = TwitterExperiment(target, 25, True, data_dir)"
   ]
  },
  {
   "cell_type": "code",
   "execution_count": 48,
   "metadata": {},
   "outputs": [
    {
     "name": "stderr",
     "output_type": "stream",
     "text": [
      "/Users/rieman/anaconda3/envs/pystm-models/lib/python3.7/site-packages/sklearn/utils/validation.py:73: DataConversionWarning: A column-vector y was passed when a 1d array was expected. Please change the shape of y to (n_samples, ), for example using ravel().\n",
      "  return f(**kwargs)\n"
     ]
    }
   ],
   "source": [
    "tw_25_stm.run()"
   ]
  },
  {
   "cell_type": "code",
   "execution_count": 49,
   "metadata": {},
   "outputs": [
    {
     "data": {
      "text/plain": [
       "{'model__C': 250.0, 'pca__n_components': 0.93}"
      ]
     },
     "execution_count": 49,
     "metadata": {},
     "output_type": "execute_result"
    }
   ],
   "source": [
    "tw_25_stm.model.best_params_"
   ]
  },
  {
   "cell_type": "code",
   "execution_count": 50,
   "metadata": {},
   "outputs": [
    {
     "data": {
      "text/plain": [
       "{'Train': {'accuracy': 0.8860759493670886, 'f1': 0.8762278978388999},\n",
       " 'Test': {'accuracy': {'Twitter': 0.46835443037974683,\n",
       "   'Facebook': 0.558974358974359},\n",
       "  'f1': {'Twitter': 0.4375, 'Facebook': 0.5981308411214953}}}"
      ]
     },
     "execution_count": 50,
     "metadata": {},
     "output_type": "execute_result"
    }
   ],
   "source": [
    "tw_25_stm.metrics"
   ]
  },
  {
   "cell_type": "markdown",
   "metadata": {},
   "source": [
    "### k = 50"
   ]
  },
  {
   "cell_type": "markdown",
   "metadata": {},
   "source": [
    "- Corr\n",
    "  - Performance: \n",
    "  - Params: \n",
    "- STM\n",
    "  - Performance: \n",
    "  - Params: "
   ]
  },
  {
   "cell_type": "markdown",
   "metadata": {},
   "source": [
    "#### Without STM domain variable"
   ]
  },
  {
   "cell_type": "code",
   "execution_count": 51,
   "metadata": {},
   "outputs": [],
   "source": [
    "tw_50_corr = TwitterExperiment(target, 50, False, data_dir)"
   ]
  },
  {
   "cell_type": "code",
   "execution_count": 52,
   "metadata": {},
   "outputs": [
    {
     "name": "stderr",
     "output_type": "stream",
     "text": [
      "/Users/rieman/anaconda3/envs/pystm-models/lib/python3.7/site-packages/sklearn/utils/validation.py:73: DataConversionWarning: A column-vector y was passed when a 1d array was expected. Please change the shape of y to (n_samples, ), for example using ravel().\n",
      "  return f(**kwargs)\n"
     ]
    }
   ],
   "source": [
    "tw_50_corr.run()"
   ]
  },
  {
   "cell_type": "code",
   "execution_count": 53,
   "metadata": {},
   "outputs": [
    {
     "data": {
      "text/plain": [
       "{'model__C': 70.0, 'pca__n_components': 0.87}"
      ]
     },
     "execution_count": 53,
     "metadata": {},
     "output_type": "execute_result"
    }
   ],
   "source": [
    "tw_50_corr.model.best_params_"
   ]
  },
  {
   "cell_type": "code",
   "execution_count": 54,
   "metadata": {},
   "outputs": [
    {
     "data": {
      "text/plain": [
       "{'Train': {'accuracy': 0.8444846292947559, 'f1': 0.815450643776824},\n",
       " 'Test': {'accuracy': {'Twitter': 0.5654008438818565,\n",
       "   'Facebook': 0.4512820512820513},\n",
       "  'f1': {'Twitter': 0.4771573604060914, 'Facebook': 0.4455958549222798}}}"
      ]
     },
     "execution_count": 54,
     "metadata": {},
     "output_type": "execute_result"
    }
   ],
   "source": [
    "tw_50_corr.metrics"
   ]
  },
  {
   "cell_type": "markdown",
   "metadata": {},
   "source": [
    "#### With STM domain variable"
   ]
  },
  {
   "cell_type": "code",
   "execution_count": 55,
   "metadata": {},
   "outputs": [],
   "source": [
    "tw_50_stm = TwitterExperiment(target, 50, True, data_dir)"
   ]
  },
  {
   "cell_type": "code",
   "execution_count": 56,
   "metadata": {},
   "outputs": [
    {
     "name": "stderr",
     "output_type": "stream",
     "text": [
      "/Users/rieman/anaconda3/envs/pystm-models/lib/python3.7/site-packages/sklearn/utils/validation.py:73: DataConversionWarning: A column-vector y was passed when a 1d array was expected. Please change the shape of y to (n_samples, ), for example using ravel().\n",
      "  return f(**kwargs)\n"
     ]
    }
   ],
   "source": [
    "tw_50_stm.run()"
   ]
  },
  {
   "cell_type": "code",
   "execution_count": 57,
   "metadata": {},
   "outputs": [
    {
     "data": {
      "text/plain": [
       "{'model__C': 130.0, 'pca__n_components': 0.95}"
      ]
     },
     "execution_count": 57,
     "metadata": {},
     "output_type": "execute_result"
    }
   ],
   "source": [
    "tw_50_stm.model.best_params_"
   ]
  },
  {
   "cell_type": "code",
   "execution_count": 58,
   "metadata": {},
   "outputs": [
    {
     "data": {
      "text/plain": [
       "{'Train': {'accuracy': 0.9095840867992767, 'f1': 0.895397489539749},\n",
       " 'Test': {'accuracy': {'Twitter': 0.5780590717299579,\n",
       "   'Facebook': 0.48205128205128206},\n",
       "  'f1': {'Twitter': 0.5689655172413793, 'Facebook': 0.5167464114832536}}}"
      ]
     },
     "execution_count": 58,
     "metadata": {},
     "output_type": "execute_result"
    }
   ],
   "source": [
    "tw_50_stm.metrics"
   ]
  },
  {
   "cell_type": "markdown",
   "metadata": {},
   "source": [
    "### k = 100"
   ]
  },
  {
   "cell_type": "markdown",
   "metadata": {},
   "source": [
    "- Corr\n",
    "  - Performance: \n",
    "  - Params: \n",
    "- STM\n",
    "  - Performance: \n",
    "  - Params: "
   ]
  },
  {
   "cell_type": "markdown",
   "metadata": {},
   "source": [
    "#### Without STM domain variable"
   ]
  },
  {
   "cell_type": "code",
   "execution_count": 59,
   "metadata": {},
   "outputs": [],
   "source": [
    "tw_100_corr = TwitterExperiment(target, 100, False, data_dir)"
   ]
  },
  {
   "cell_type": "code",
   "execution_count": 60,
   "metadata": {},
   "outputs": [
    {
     "name": "stderr",
     "output_type": "stream",
     "text": [
      "/Users/rieman/anaconda3/envs/pystm-models/lib/python3.7/site-packages/sklearn/utils/validation.py:73: DataConversionWarning: A column-vector y was passed when a 1d array was expected. Please change the shape of y to (n_samples, ), for example using ravel().\n",
      "  return f(**kwargs)\n"
     ]
    }
   ],
   "source": [
    "tw_100_corr.run()"
   ]
  },
  {
   "cell_type": "code",
   "execution_count": 61,
   "metadata": {},
   "outputs": [
    {
     "data": {
      "text/plain": [
       "{'model__C': 280.0, 'pca__n_components': 0.8}"
      ]
     },
     "execution_count": 61,
     "metadata": {},
     "output_type": "execute_result"
    }
   ],
   "source": [
    "tw_100_corr.model.best_params_"
   ]
  },
  {
   "cell_type": "code",
   "execution_count": 62,
   "metadata": {},
   "outputs": [
    {
     "data": {
      "text/plain": [
       "{'Train': {'accuracy': 0.8969258589511754, 'f1': 0.8824742268041237},\n",
       " 'Test': {'accuracy': {'Twitter': 0.5189873417721519,\n",
       "   'Facebook': 0.4307692307692308},\n",
       "  'f1': {'Twitter': 0.4722222222222222, 'Facebook': 0.4688995215311004}}}"
      ]
     },
     "execution_count": 62,
     "metadata": {},
     "output_type": "execute_result"
    }
   ],
   "source": [
    "tw_100_corr.metrics"
   ]
  },
  {
   "cell_type": "markdown",
   "metadata": {},
   "source": [
    "#### With STM domain variable"
   ]
  },
  {
   "cell_type": "code",
   "execution_count": 63,
   "metadata": {},
   "outputs": [],
   "source": [
    "tw_100_stm = TwitterExperiment(target, 100, True, data_dir)"
   ]
  },
  {
   "cell_type": "code",
   "execution_count": 64,
   "metadata": {},
   "outputs": [
    {
     "name": "stderr",
     "output_type": "stream",
     "text": [
      "/Users/rieman/anaconda3/envs/pystm-models/lib/python3.7/site-packages/sklearn/utils/validation.py:73: DataConversionWarning: A column-vector y was passed when a 1d array was expected. Please change the shape of y to (n_samples, ), for example using ravel().\n",
      "  return f(**kwargs)\n"
     ]
    }
   ],
   "source": [
    "tw_100_stm.run()"
   ]
  },
  {
   "cell_type": "code",
   "execution_count": 65,
   "metadata": {},
   "outputs": [
    {
     "data": {
      "text/plain": [
       "{'model__C': 40.0, 'pca__n_components': 0.89}"
      ]
     },
     "execution_count": 65,
     "metadata": {},
     "output_type": "execute_result"
    }
   ],
   "source": [
    "tw_100_stm.model.best_params_"
   ]
  },
  {
   "cell_type": "code",
   "execution_count": 66,
   "metadata": {},
   "outputs": [
    {
     "data": {
      "text/plain": [
       "{'Train': {'accuracy': 0.8661844484629295, 'f1': 0.8425531914893617},\n",
       " 'Test': {'accuracy': {'Twitter': 0.5316455696202531,\n",
       "   'Facebook': 0.5333333333333333},\n",
       "  'f1': {'Twitter': 0.46889952153110054, 'Facebook': 0.5235602094240838}}}"
      ]
     },
     "execution_count": 66,
     "metadata": {},
     "output_type": "execute_result"
    }
   ],
   "source": [
    "tw_100_stm.metrics"
   ]
  },
  {
   "cell_type": "markdown",
   "metadata": {},
   "source": [
    "## All data"
   ]
  },
  {
   "cell_type": "markdown",
   "metadata": {},
   "source": [
    "### k = 10"
   ]
  },
  {
   "cell_type": "markdown",
   "metadata": {},
   "source": [
    "- Corr\n",
    "  - Performance: \n",
    "  - Params: \n",
    "- STM\n",
    "  - Performance: \n",
    "  - Params: "
   ]
  },
  {
   "cell_type": "markdown",
   "metadata": {},
   "source": [
    "#### Without STM domain variable"
   ]
  },
  {
   "cell_type": "code",
   "execution_count": 67,
   "metadata": {},
   "outputs": [],
   "source": [
    "corr_10 = UserExperiment(target, 10, False, data_dir)"
   ]
  },
  {
   "cell_type": "code",
   "execution_count": 68,
   "metadata": {},
   "outputs": [
    {
     "name": "stderr",
     "output_type": "stream",
     "text": [
      "/Users/rieman/anaconda3/envs/pystm-models/lib/python3.7/site-packages/sklearn/utils/validation.py:73: DataConversionWarning: A column-vector y was passed when a 1d array was expected. Please change the shape of y to (n_samples, ), for example using ravel().\n",
      "  return f(**kwargs)\n"
     ]
    }
   ],
   "source": [
    "corr_10.run()"
   ]
  },
  {
   "cell_type": "code",
   "execution_count": 69,
   "metadata": {},
   "outputs": [
    {
     "data": {
      "text/plain": [
       "{'model__C': 190.0, 'pca__n_components': 0.91}"
      ]
     },
     "execution_count": 69,
     "metadata": {},
     "output_type": "execute_result"
    }
   ],
   "source": [
    "corr_10.model.best_params_"
   ]
  },
  {
   "cell_type": "code",
   "execution_count": 70,
   "metadata": {},
   "outputs": [
    {
     "data": {
      "text/plain": [
       "{'Train': {'accuracy': 0.7667269439421338, 'f1': 0.728421052631579},\n",
       " 'Test': {'accuracy': 0.5527426160337553, 'f1': 0.46464646464646464}}"
      ]
     },
     "execution_count": 70,
     "metadata": {},
     "output_type": "execute_result"
    }
   ],
   "source": [
    "corr_10.metrics"
   ]
  },
  {
   "cell_type": "markdown",
   "metadata": {},
   "source": [
    "#### With STM domain variable"
   ]
  },
  {
   "cell_type": "code",
   "execution_count": 71,
   "metadata": {},
   "outputs": [],
   "source": [
    "stm_10 = UserExperiment(target, 10, True, data_dir)"
   ]
  },
  {
   "cell_type": "code",
   "execution_count": 72,
   "metadata": {},
   "outputs": [
    {
     "name": "stderr",
     "output_type": "stream",
     "text": [
      "/Users/rieman/anaconda3/envs/pystm-models/lib/python3.7/site-packages/sklearn/utils/validation.py:73: DataConversionWarning: A column-vector y was passed when a 1d array was expected. Please change the shape of y to (n_samples, ), for example using ravel().\n",
      "  return f(**kwargs)\n"
     ]
    }
   ],
   "source": [
    "stm_10.run()"
   ]
  },
  {
   "cell_type": "code",
   "execution_count": 73,
   "metadata": {},
   "outputs": [
    {
     "data": {
      "text/plain": [
       "{'model__C': 180.0, 'pca__n_components': 0.8}"
      ]
     },
     "execution_count": 73,
     "metadata": {},
     "output_type": "execute_result"
    }
   ],
   "source": [
    "stm_10.model.best_params_"
   ]
  },
  {
   "cell_type": "code",
   "execution_count": 74,
   "metadata": {},
   "outputs": [
    {
     "data": {
      "text/plain": [
       "{'Train': {'accuracy': 0.7377938517179023, 'f1': 0.7184466019417476},\n",
       " 'Test': {'accuracy': 0.5780590717299579, 'f1': 0.5145631067961165}}"
      ]
     },
     "execution_count": 74,
     "metadata": {},
     "output_type": "execute_result"
    }
   ],
   "source": [
    "stm_10.metrics"
   ]
  },
  {
   "cell_type": "markdown",
   "metadata": {},
   "source": [
    "### k = 25"
   ]
  },
  {
   "cell_type": "markdown",
   "metadata": {},
   "source": [
    "- Corr\n",
    "  - Performance: \n",
    "  - Params: \n",
    "- STM\n",
    "  - Performance: \n",
    "  - Params: "
   ]
  },
  {
   "cell_type": "markdown",
   "metadata": {},
   "source": [
    "#### Without STM domain variable"
   ]
  },
  {
   "cell_type": "code",
   "execution_count": 75,
   "metadata": {},
   "outputs": [],
   "source": [
    "corr_25 = UserExperiment(target, 25, False, data_dir)"
   ]
  },
  {
   "cell_type": "code",
   "execution_count": 76,
   "metadata": {},
   "outputs": [
    {
     "name": "stderr",
     "output_type": "stream",
     "text": [
      "/Users/rieman/anaconda3/envs/pystm-models/lib/python3.7/site-packages/sklearn/utils/validation.py:73: DataConversionWarning: A column-vector y was passed when a 1d array was expected. Please change the shape of y to (n_samples, ), for example using ravel().\n",
      "  return f(**kwargs)\n"
     ]
    }
   ],
   "source": [
    "corr_25.run()"
   ]
  },
  {
   "cell_type": "code",
   "execution_count": 77,
   "metadata": {},
   "outputs": [
    {
     "data": {
      "text/plain": [
       "{'model__C': 200.0, 'pca__n_components': 0.96}"
      ]
     },
     "execution_count": 77,
     "metadata": {},
     "output_type": "execute_result"
    }
   ],
   "source": [
    "corr_25.model.best_params_"
   ]
  },
  {
   "cell_type": "code",
   "execution_count": 78,
   "metadata": {},
   "outputs": [
    {
     "data": {
      "text/plain": [
       "{'Train': {'accuracy': 0.9059674502712477, 'f1': 0.8959999999999999},\n",
       " 'Test': {'accuracy': 0.5569620253164557, 'f1': 0.5116279069767441}}"
      ]
     },
     "execution_count": 78,
     "metadata": {},
     "output_type": "execute_result"
    }
   ],
   "source": [
    "corr_25.metrics"
   ]
  },
  {
   "cell_type": "markdown",
   "metadata": {},
   "source": [
    "#### With STM domain variable"
   ]
  },
  {
   "cell_type": "code",
   "execution_count": 79,
   "metadata": {},
   "outputs": [],
   "source": [
    "stm_25 = UserExperiment(target, 25, True, data_dir)"
   ]
  },
  {
   "cell_type": "code",
   "execution_count": 80,
   "metadata": {},
   "outputs": [
    {
     "name": "stderr",
     "output_type": "stream",
     "text": [
      "/Users/rieman/anaconda3/envs/pystm-models/lib/python3.7/site-packages/sklearn/utils/validation.py:73: DataConversionWarning: A column-vector y was passed when a 1d array was expected. Please change the shape of y to (n_samples, ), for example using ravel().\n",
      "  return f(**kwargs)\n"
     ]
    }
   ],
   "source": [
    "stm_25.run()"
   ]
  },
  {
   "cell_type": "code",
   "execution_count": 81,
   "metadata": {},
   "outputs": [
    {
     "data": {
      "text/plain": [
       "{'model__C': 260.0, 'pca__n_components': 0.93}"
      ]
     },
     "execution_count": 81,
     "metadata": {},
     "output_type": "execute_result"
    }
   ],
   "source": [
    "stm_25.model.best_params_"
   ]
  },
  {
   "cell_type": "code",
   "execution_count": 82,
   "metadata": {},
   "outputs": [
    {
     "data": {
      "text/plain": [
       "{'Train': {'accuracy': 0.9113924050632911, 'f1': 0.9006085192697768},\n",
       " 'Test': {'accuracy': 0.540084388185654, 'f1': 0.4630541871921182}}"
      ]
     },
     "execution_count": 82,
     "metadata": {},
     "output_type": "execute_result"
    }
   ],
   "source": [
    "stm_25.metrics"
   ]
  },
  {
   "cell_type": "markdown",
   "metadata": {},
   "source": [
    "### k = 50"
   ]
  },
  {
   "cell_type": "markdown",
   "metadata": {},
   "source": [
    "- Corr\n",
    "  - Performance: \n",
    "  - Params: \n",
    "- STM\n",
    "  - Performance: \n",
    "  - Params: "
   ]
  },
  {
   "cell_type": "markdown",
   "metadata": {},
   "source": [
    "#### Without STM domain variable"
   ]
  },
  {
   "cell_type": "code",
   "execution_count": 83,
   "metadata": {},
   "outputs": [],
   "source": [
    "corr_50 = UserExperiment(target, 50, False, data_dir)"
   ]
  },
  {
   "cell_type": "code",
   "execution_count": 84,
   "metadata": {},
   "outputs": [
    {
     "name": "stderr",
     "output_type": "stream",
     "text": [
      "/Users/rieman/anaconda3/envs/pystm-models/lib/python3.7/site-packages/sklearn/utils/validation.py:73: DataConversionWarning: A column-vector y was passed when a 1d array was expected. Please change the shape of y to (n_samples, ), for example using ravel().\n",
      "  return f(**kwargs)\n"
     ]
    }
   ],
   "source": [
    "corr_50.run()"
   ]
  },
  {
   "cell_type": "code",
   "execution_count": 85,
   "metadata": {},
   "outputs": [
    {
     "data": {
      "text/plain": [
       "{'model__C': 40.0, 'pca__n_components': 0.8200000000000001}"
      ]
     },
     "execution_count": 85,
     "metadata": {},
     "output_type": "execute_result"
    }
   ],
   "source": [
    "corr_50.model.best_params_"
   ]
  },
  {
   "cell_type": "code",
   "execution_count": 86,
   "metadata": {},
   "outputs": [
    {
     "data": {
      "text/plain": [
       "{'Train': {'accuracy': 0.7721518987341772, 'f1': 0.7396694214876034},\n",
       " 'Test': {'accuracy': 0.540084388185654, 'f1': 0.4577114427860696}}"
      ]
     },
     "execution_count": 86,
     "metadata": {},
     "output_type": "execute_result"
    }
   ],
   "source": [
    "corr_50.metrics"
   ]
  },
  {
   "cell_type": "markdown",
   "metadata": {},
   "source": [
    "#### With STM domain variable"
   ]
  },
  {
   "cell_type": "code",
   "execution_count": 87,
   "metadata": {},
   "outputs": [],
   "source": [
    "stm_50 = UserExperiment(target, 50, True, data_dir)"
   ]
  },
  {
   "cell_type": "code",
   "execution_count": 88,
   "metadata": {},
   "outputs": [
    {
     "name": "stderr",
     "output_type": "stream",
     "text": [
      "/Users/rieman/anaconda3/envs/pystm-models/lib/python3.7/site-packages/sklearn/utils/validation.py:73: DataConversionWarning: A column-vector y was passed when a 1d array was expected. Please change the shape of y to (n_samples, ), for example using ravel().\n",
      "  return f(**kwargs)\n"
     ]
    }
   ],
   "source": [
    "stm_50.run()"
   ]
  },
  {
   "cell_type": "code",
   "execution_count": 89,
   "metadata": {},
   "outputs": [
    {
     "data": {
      "text/plain": [
       "{'model__C': 170.0, 'pca__n_components': 0.96}"
      ]
     },
     "execution_count": 89,
     "metadata": {},
     "output_type": "execute_result"
    }
   ],
   "source": [
    "stm_50.model.best_params_"
   ]
  },
  {
   "cell_type": "code",
   "execution_count": 90,
   "metadata": {},
   "outputs": [
    {
     "data": {
      "text/plain": [
       "{'Train': {'accuracy': 0.9511754068716094, 'f1': 0.9456740442655936},\n",
       " 'Test': {'accuracy': 0.5569620253164557, 'f1': 0.4927536231884058}}"
      ]
     },
     "execution_count": 90,
     "metadata": {},
     "output_type": "execute_result"
    }
   ],
   "source": [
    "stm_50.metrics"
   ]
  },
  {
   "cell_type": "markdown",
   "metadata": {},
   "source": [
    "### k = 100"
   ]
  },
  {
   "cell_type": "markdown",
   "metadata": {},
   "source": [
    "- Corr\n",
    "  - Performance: \n",
    "  - Params: \n",
    "- STM\n",
    "  - Performance: \n",
    "  - Params: "
   ]
  },
  {
   "cell_type": "markdown",
   "metadata": {},
   "source": [
    "#### Without STM domain variable"
   ]
  },
  {
   "cell_type": "code",
   "execution_count": 91,
   "metadata": {},
   "outputs": [],
   "source": [
    "corr_100 = UserExperiment(target, 100, False, data_dir)"
   ]
  },
  {
   "cell_type": "code",
   "execution_count": 92,
   "metadata": {},
   "outputs": [
    {
     "name": "stderr",
     "output_type": "stream",
     "text": [
      "/Users/rieman/anaconda3/envs/pystm-models/lib/python3.7/site-packages/sklearn/utils/validation.py:73: DataConversionWarning: A column-vector y was passed when a 1d array was expected. Please change the shape of y to (n_samples, ), for example using ravel().\n",
      "  return f(**kwargs)\n"
     ]
    }
   ],
   "source": [
    "corr_100.run()"
   ]
  },
  {
   "cell_type": "code",
   "execution_count": 93,
   "metadata": {},
   "outputs": [
    {
     "data": {
      "text/plain": [
       "{'model__C': 260.0, 'pca__n_components': 0.99}"
      ]
     },
     "execution_count": 93,
     "metadata": {},
     "output_type": "execute_result"
    }
   ],
   "source": [
    "corr_100.model.best_params_"
   ]
  },
  {
   "cell_type": "code",
   "execution_count": 94,
   "metadata": {},
   "outputs": [
    {
     "data": {
      "text/plain": [
       "{'Train': {'accuracy': 0.9837251356238698, 'f1': 0.9819639278557115},\n",
       " 'Test': {'accuracy': 0.5654008438818565, 'f1': 0.5339366515837105}}"
      ]
     },
     "execution_count": 94,
     "metadata": {},
     "output_type": "execute_result"
    }
   ],
   "source": [
    "corr_100.metrics"
   ]
  },
  {
   "cell_type": "markdown",
   "metadata": {},
   "source": [
    "#### With STM domain variable"
   ]
  },
  {
   "cell_type": "code",
   "execution_count": 95,
   "metadata": {},
   "outputs": [],
   "source": [
    "stm_100 = UserExperiment(target, 100, True, data_dir)"
   ]
  },
  {
   "cell_type": "code",
   "execution_count": 96,
   "metadata": {},
   "outputs": [
    {
     "name": "stderr",
     "output_type": "stream",
     "text": [
      "/Users/rieman/anaconda3/envs/pystm-models/lib/python3.7/site-packages/sklearn/utils/validation.py:73: DataConversionWarning: A column-vector y was passed when a 1d array was expected. Please change the shape of y to (n_samples, ), for example using ravel().\n",
      "  return f(**kwargs)\n"
     ]
    }
   ],
   "source": [
    "stm_100.run()"
   ]
  },
  {
   "cell_type": "code",
   "execution_count": 97,
   "metadata": {},
   "outputs": [
    {
     "data": {
      "text/plain": [
       "{'model__C': 280.0, 'pca__n_components': 0.99}"
      ]
     },
     "execution_count": 97,
     "metadata": {},
     "output_type": "execute_result"
    }
   ],
   "source": [
    "stm_100.model.best_params_"
   ]
  },
  {
   "cell_type": "code",
   "execution_count": 98,
   "metadata": {},
   "outputs": [
    {
     "data": {
      "text/plain": [
       "{'Train': {'accuracy': 0.9945750452079566, 'f1': 0.9939393939393938},\n",
       " 'Test': {'accuracy': 0.5316455696202531, 'f1': 0.5022421524663678}}"
      ]
     },
     "execution_count": 98,
     "metadata": {},
     "output_type": "execute_result"
    }
   ],
   "source": [
    "stm_100.metrics"
   ]
  },
  {
   "cell_type": "markdown",
   "metadata": {},
   "source": [
    "# Plots"
   ]
  },
  {
   "cell_type": "markdown",
   "metadata": {},
   "source": [
    "## Plot UserExperiment results"
   ]
  },
  {
   "cell_type": "code",
   "execution_count": 101,
   "metadata": {},
   "outputs": [],
   "source": [
    "df_stm = pd.concat({\n",
    "    10: pd.DataFrame(stm_10.metrics),\n",
    "    25: pd.DataFrame(stm_25.metrics),\n",
    "    50: pd.DataFrame(stm_50.metrics),\n",
    "    100: pd.DataFrame(stm_100.metrics)\n",
    "})\n",
    "df_corr = pd.concat({\n",
    "    10: pd.DataFrame(corr_10.metrics),\n",
    "    25: pd.DataFrame(corr_25.metrics),\n",
    "    50: pd.DataFrame(corr_50.metrics),\n",
    "    100: pd.DataFrame(corr_100.metrics)    \n",
    "})\n",
    "df_user = pd.concat({'with_domain': df_stm, 'without_domain': df_corr})"
   ]
  },
  {
   "cell_type": "code",
   "execution_count": 102,
   "metadata": {},
   "outputs": [
    {
     "data": {
      "text/html": [
       "<div>\n",
       "<style scoped>\n",
       "    .dataframe tbody tr th:only-of-type {\n",
       "        vertical-align: middle;\n",
       "    }\n",
       "\n",
       "    .dataframe tbody tr th {\n",
       "        vertical-align: top;\n",
       "    }\n",
       "\n",
       "    .dataframe thead th {\n",
       "        text-align: right;\n",
       "    }\n",
       "</style>\n",
       "<table border=\"1\" class=\"dataframe\">\n",
       "  <thead>\n",
       "    <tr style=\"text-align: right;\">\n",
       "      <th></th>\n",
       "      <th>STM</th>\n",
       "      <th>K</th>\n",
       "      <th>Metric</th>\n",
       "      <th>Train</th>\n",
       "      <th>Test</th>\n",
       "    </tr>\n",
       "  </thead>\n",
       "  <tbody>\n",
       "    <tr>\n",
       "      <th>0</th>\n",
       "      <td>with_domain</td>\n",
       "      <td>10</td>\n",
       "      <td>accuracy</td>\n",
       "      <td>0.737794</td>\n",
       "      <td>0.578059</td>\n",
       "    </tr>\n",
       "    <tr>\n",
       "      <th>1</th>\n",
       "      <td>with_domain</td>\n",
       "      <td>10</td>\n",
       "      <td>f1</td>\n",
       "      <td>0.718447</td>\n",
       "      <td>0.514563</td>\n",
       "    </tr>\n",
       "    <tr>\n",
       "      <th>2</th>\n",
       "      <td>with_domain</td>\n",
       "      <td>25</td>\n",
       "      <td>accuracy</td>\n",
       "      <td>0.911392</td>\n",
       "      <td>0.540084</td>\n",
       "    </tr>\n",
       "    <tr>\n",
       "      <th>3</th>\n",
       "      <td>with_domain</td>\n",
       "      <td>25</td>\n",
       "      <td>f1</td>\n",
       "      <td>0.900609</td>\n",
       "      <td>0.463054</td>\n",
       "    </tr>\n",
       "    <tr>\n",
       "      <th>4</th>\n",
       "      <td>with_domain</td>\n",
       "      <td>50</td>\n",
       "      <td>accuracy</td>\n",
       "      <td>0.951175</td>\n",
       "      <td>0.556962</td>\n",
       "    </tr>\n",
       "    <tr>\n",
       "      <th>5</th>\n",
       "      <td>with_domain</td>\n",
       "      <td>50</td>\n",
       "      <td>f1</td>\n",
       "      <td>0.945674</td>\n",
       "      <td>0.492754</td>\n",
       "    </tr>\n",
       "    <tr>\n",
       "      <th>6</th>\n",
       "      <td>with_domain</td>\n",
       "      <td>100</td>\n",
       "      <td>accuracy</td>\n",
       "      <td>0.994575</td>\n",
       "      <td>0.531646</td>\n",
       "    </tr>\n",
       "    <tr>\n",
       "      <th>7</th>\n",
       "      <td>with_domain</td>\n",
       "      <td>100</td>\n",
       "      <td>f1</td>\n",
       "      <td>0.993939</td>\n",
       "      <td>0.502242</td>\n",
       "    </tr>\n",
       "    <tr>\n",
       "      <th>8</th>\n",
       "      <td>without_domain</td>\n",
       "      <td>10</td>\n",
       "      <td>accuracy</td>\n",
       "      <td>0.766727</td>\n",
       "      <td>0.552743</td>\n",
       "    </tr>\n",
       "    <tr>\n",
       "      <th>9</th>\n",
       "      <td>without_domain</td>\n",
       "      <td>10</td>\n",
       "      <td>f1</td>\n",
       "      <td>0.728421</td>\n",
       "      <td>0.464646</td>\n",
       "    </tr>\n",
       "    <tr>\n",
       "      <th>10</th>\n",
       "      <td>without_domain</td>\n",
       "      <td>25</td>\n",
       "      <td>accuracy</td>\n",
       "      <td>0.905967</td>\n",
       "      <td>0.556962</td>\n",
       "    </tr>\n",
       "    <tr>\n",
       "      <th>11</th>\n",
       "      <td>without_domain</td>\n",
       "      <td>25</td>\n",
       "      <td>f1</td>\n",
       "      <td>0.896000</td>\n",
       "      <td>0.511628</td>\n",
       "    </tr>\n",
       "    <tr>\n",
       "      <th>12</th>\n",
       "      <td>without_domain</td>\n",
       "      <td>50</td>\n",
       "      <td>accuracy</td>\n",
       "      <td>0.772152</td>\n",
       "      <td>0.540084</td>\n",
       "    </tr>\n",
       "    <tr>\n",
       "      <th>13</th>\n",
       "      <td>without_domain</td>\n",
       "      <td>50</td>\n",
       "      <td>f1</td>\n",
       "      <td>0.739669</td>\n",
       "      <td>0.457711</td>\n",
       "    </tr>\n",
       "    <tr>\n",
       "      <th>14</th>\n",
       "      <td>without_domain</td>\n",
       "      <td>100</td>\n",
       "      <td>accuracy</td>\n",
       "      <td>0.983725</td>\n",
       "      <td>0.565401</td>\n",
       "    </tr>\n",
       "    <tr>\n",
       "      <th>15</th>\n",
       "      <td>without_domain</td>\n",
       "      <td>100</td>\n",
       "      <td>f1</td>\n",
       "      <td>0.981964</td>\n",
       "      <td>0.533937</td>\n",
       "    </tr>\n",
       "  </tbody>\n",
       "</table>\n",
       "</div>"
      ],
      "text/plain": [
       "               STM    K    Metric     Train      Test\n",
       "0      with_domain   10  accuracy  0.737794  0.578059\n",
       "1      with_domain   10        f1  0.718447  0.514563\n",
       "2      with_domain   25  accuracy  0.911392  0.540084\n",
       "3      with_domain   25        f1  0.900609  0.463054\n",
       "4      with_domain   50  accuracy  0.951175  0.556962\n",
       "5      with_domain   50        f1  0.945674  0.492754\n",
       "6      with_domain  100  accuracy  0.994575  0.531646\n",
       "7      with_domain  100        f1  0.993939  0.502242\n",
       "8   without_domain   10  accuracy  0.766727  0.552743\n",
       "9   without_domain   10        f1  0.728421  0.464646\n",
       "10  without_domain   25  accuracy  0.905967  0.556962\n",
       "11  without_domain   25        f1  0.896000  0.511628\n",
       "12  without_domain   50  accuracy  0.772152  0.540084\n",
       "13  without_domain   50        f1  0.739669  0.457711\n",
       "14  without_domain  100  accuracy  0.983725  0.565401\n",
       "15  without_domain  100        f1  0.981964  0.533937"
      ]
     },
     "execution_count": 102,
     "metadata": {},
     "output_type": "execute_result"
    }
   ],
   "source": [
    "df_user_plt = (\n",
    "    df_user.reset_index(drop=False)\n",
    "    .rename(columns={'level_0': 'STM', 'level_1': 'K', 'level_2': 'Metric'})\n",
    ")\n",
    "df_user_plt"
   ]
  },
  {
   "cell_type": "code",
   "execution_count": 103,
   "metadata": {},
   "outputs": [
    {
     "data": {
      "text/plain": [
       "<AxesSubplot:xlabel='K'>"
      ]
     },
     "execution_count": 103,
     "metadata": {},
     "output_type": "execute_result"
    },
    {
     "data": {
      "image/png": "[encoded data removed]",
      "text/plain": [
       "<Figure size 432x288 with 1 Axes>"
      ]
     },
     "metadata": {
      "needs_background": "light"
     },
     "output_type": "display_data"
    }
   ],
   "source": [
    "df_user_plt.query(\"Metric=='accuracy'\").pivot(values=[\"Test\", \"Train\"], index=\"K\", columns=\"STM\").plot()"
   ]
  },
  {
   "cell_type": "code",
   "execution_count": 104,
   "metadata": {},
   "outputs": [
    {
     "data": {
      "text/plain": [
       "<AxesSubplot:xlabel='K'>"
      ]
     },
     "execution_count": 104,
     "metadata": {},
     "output_type": "execute_result"
    },
    {
     "data": {
      "image/png": "[encoded data removed]",
      "text/plain": [
       "<Figure size 432x288 with 1 Axes>"
      ]
     },
     "metadata": {
      "needs_background": "light"
     },
     "output_type": "display_data"
    }
   ],
   "source": [
    "df_user_plt.query(\"Metric=='f1'\").pivot(values=[\"Test\", \"Train\"], index=\"K\", columns=\"STM\").plot()"
   ]
  },
  {
   "cell_type": "markdown",
   "metadata": {},
   "source": [
    "## Plot FacebookExperiment results"
   ]
  },
  {
   "cell_type": "code",
   "execution_count": 108,
   "metadata": {},
   "outputs": [],
   "source": [
    "def unpack_nested_metrics(metrics: Dict) -> Dict:\n",
    "    out = {\n",
    "        \"Train\": metrics[\"Train\"],\n",
    "        \"Test_Facebook\": {k: metrics[\"Test\"][k][\"Facebook\"] for k in metrics[\"Test\"].keys()},\n",
    "        \"Test_Twitter\": {k: metrics[\"Test\"][k][\"Twitter\"] for k in metrics[\"Test\"].keys()},\n",
    "    }\n",
    "    return out"
   ]
  },
  {
   "cell_type": "code",
   "execution_count": 109,
   "metadata": {},
   "outputs": [],
   "source": [
    "df_fb_stm = pd.concat({\n",
    "    10: pd.DataFrame(unpack_nested_metrics(fb_10_stm.metrics)),\n",
    "    25: pd.DataFrame(unpack_nested_metrics(fb_25_stm.metrics)),\n",
    "    50: pd.DataFrame(unpack_nested_metrics(fb_50_stm.metrics)),\n",
    "    100: pd.DataFrame(unpack_nested_metrics(fb_100_stm.metrics)),\n",
    "})\n",
    "df_fb_corr = pd.concat({\n",
    "    10: pd.DataFrame(unpack_nested_metrics(fb_10_corr.metrics)),\n",
    "    25: pd.DataFrame(unpack_nested_metrics(fb_25_corr.metrics)),\n",
    "    50: pd.DataFrame(unpack_nested_metrics(fb_50_corr.metrics)),\n",
    "    100: pd.DataFrame(unpack_nested_metrics(fb_100_corr.metrics)),\n",
    "})\n",
    "df_fb_user = pd.concat({\"with_domain\": df_fb_stm, \"without_domain\": df_fb_corr})"
   ]
  },
  {
   "cell_type": "code",
   "execution_count": 110,
   "metadata": {},
   "outputs": [
    {
     "data": {
      "text/html": [
       "<div>\n",
       "<style scoped>\n",
       "    .dataframe tbody tr th:only-of-type {\n",
       "        vertical-align: middle;\n",
       "    }\n",
       "\n",
       "    .dataframe tbody tr th {\n",
       "        vertical-align: top;\n",
       "    }\n",
       "\n",
       "    .dataframe thead th {\n",
       "        text-align: right;\n",
       "    }\n",
       "</style>\n",
       "<table border=\"1\" class=\"dataframe\">\n",
       "  <thead>\n",
       "    <tr style=\"text-align: right;\">\n",
       "      <th></th>\n",
       "      <th>STM</th>\n",
       "      <th>K</th>\n",
       "      <th>Metric</th>\n",
       "      <th>Train</th>\n",
       "      <th>Test_Facebook</th>\n",
       "      <th>Test_Twitter</th>\n",
       "    </tr>\n",
       "  </thead>\n",
       "  <tbody>\n",
       "    <tr>\n",
       "      <th>0</th>\n",
       "      <td>with_domain</td>\n",
       "      <td>10</td>\n",
       "      <td>accuracy</td>\n",
       "      <td>0.822034</td>\n",
       "      <td>0.502564</td>\n",
       "      <td>0.531646</td>\n",
       "    </tr>\n",
       "    <tr>\n",
       "      <th>1</th>\n",
       "      <td>with_domain</td>\n",
       "      <td>10</td>\n",
       "      <td>f1</td>\n",
       "      <td>0.802817</td>\n",
       "      <td>0.451977</td>\n",
       "      <td>0.310559</td>\n",
       "    </tr>\n",
       "    <tr>\n",
       "      <th>2</th>\n",
       "      <td>with_domain</td>\n",
       "      <td>25</td>\n",
       "      <td>accuracy</td>\n",
       "      <td>0.891949</td>\n",
       "      <td>0.461538</td>\n",
       "      <td>0.535865</td>\n",
       "    </tr>\n",
       "    <tr>\n",
       "      <th>3</th>\n",
       "      <td>with_domain</td>\n",
       "      <td>25</td>\n",
       "      <td>f1</td>\n",
       "      <td>0.872818</td>\n",
       "      <td>0.363636</td>\n",
       "      <td>0.312500</td>\n",
       "    </tr>\n",
       "    <tr>\n",
       "      <th>4</th>\n",
       "      <td>with_domain</td>\n",
       "      <td>50</td>\n",
       "      <td>accuracy</td>\n",
       "      <td>0.991525</td>\n",
       "      <td>0.517949</td>\n",
       "      <td>0.540084</td>\n",
       "    </tr>\n",
       "    <tr>\n",
       "      <th>5</th>\n",
       "      <td>with_domain</td>\n",
       "      <td>50</td>\n",
       "      <td>f1</td>\n",
       "      <td>0.990338</td>\n",
       "      <td>0.465909</td>\n",
       "      <td>0.429319</td>\n",
       "    </tr>\n",
       "    <tr>\n",
       "      <th>6</th>\n",
       "      <td>with_domain</td>\n",
       "      <td>100</td>\n",
       "      <td>accuracy</td>\n",
       "      <td>0.951271</td>\n",
       "      <td>0.461538</td>\n",
       "      <td>0.565401</td>\n",
       "    </tr>\n",
       "    <tr>\n",
       "      <th>7</th>\n",
       "      <td>with_domain</td>\n",
       "      <td>100</td>\n",
       "      <td>f1</td>\n",
       "      <td>0.944310</td>\n",
       "      <td>0.385965</td>\n",
       "      <td>0.437158</td>\n",
       "    </tr>\n",
       "    <tr>\n",
       "      <th>8</th>\n",
       "      <td>without_domain</td>\n",
       "      <td>10</td>\n",
       "      <td>accuracy</td>\n",
       "      <td>0.836864</td>\n",
       "      <td>0.512821</td>\n",
       "      <td>0.540084</td>\n",
       "    </tr>\n",
       "    <tr>\n",
       "      <th>9</th>\n",
       "      <td>without_domain</td>\n",
       "      <td>10</td>\n",
       "      <td>f1</td>\n",
       "      <td>0.794667</td>\n",
       "      <td>0.409938</td>\n",
       "      <td>0.278146</td>\n",
       "    </tr>\n",
       "    <tr>\n",
       "      <th>10</th>\n",
       "      <td>without_domain</td>\n",
       "      <td>25</td>\n",
       "      <td>accuracy</td>\n",
       "      <td>0.822034</td>\n",
       "      <td>0.487179</td>\n",
       "      <td>0.569620</td>\n",
       "    </tr>\n",
       "    <tr>\n",
       "      <th>11</th>\n",
       "      <td>without_domain</td>\n",
       "      <td>25</td>\n",
       "      <td>f1</td>\n",
       "      <td>0.780105</td>\n",
       "      <td>0.350649</td>\n",
       "      <td>0.420455</td>\n",
       "    </tr>\n",
       "    <tr>\n",
       "      <th>12</th>\n",
       "      <td>without_domain</td>\n",
       "      <td>50</td>\n",
       "      <td>accuracy</td>\n",
       "      <td>0.919492</td>\n",
       "      <td>0.476923</td>\n",
       "      <td>0.531646</td>\n",
       "    </tr>\n",
       "    <tr>\n",
       "      <th>13</th>\n",
       "      <td>without_domain</td>\n",
       "      <td>50</td>\n",
       "      <td>f1</td>\n",
       "      <td>0.909953</td>\n",
       "      <td>0.385542</td>\n",
       "      <td>0.223776</td>\n",
       "    </tr>\n",
       "    <tr>\n",
       "      <th>14</th>\n",
       "      <td>without_domain</td>\n",
       "      <td>100</td>\n",
       "      <td>accuracy</td>\n",
       "      <td>0.908898</td>\n",
       "      <td>0.548718</td>\n",
       "      <td>0.556962</td>\n",
       "    </tr>\n",
       "    <tr>\n",
       "      <th>15</th>\n",
       "      <td>without_domain</td>\n",
       "      <td>100</td>\n",
       "      <td>f1</td>\n",
       "      <td>0.894349</td>\n",
       "      <td>0.488372</td>\n",
       "      <td>0.331210</td>\n",
       "    </tr>\n",
       "  </tbody>\n",
       "</table>\n",
       "</div>"
      ],
      "text/plain": [
       "               STM    K    Metric     Train  Test_Facebook  Test_Twitter\n",
       "0      with_domain   10  accuracy  0.822034       0.502564      0.531646\n",
       "1      with_domain   10        f1  0.802817       0.451977      0.310559\n",
       "2      with_domain   25  accuracy  0.891949       0.461538      0.535865\n",
       "3      with_domain   25        f1  0.872818       0.363636      0.312500\n",
       "4      with_domain   50  accuracy  0.991525       0.517949      0.540084\n",
       "5      with_domain   50        f1  0.990338       0.465909      0.429319\n",
       "6      with_domain  100  accuracy  0.951271       0.461538      0.565401\n",
       "7      with_domain  100        f1  0.944310       0.385965      0.437158\n",
       "8   without_domain   10  accuracy  0.836864       0.512821      0.540084\n",
       "9   without_domain   10        f1  0.794667       0.409938      0.278146\n",
       "10  without_domain   25  accuracy  0.822034       0.487179      0.569620\n",
       "11  without_domain   25        f1  0.780105       0.350649      0.420455\n",
       "12  without_domain   50  accuracy  0.919492       0.476923      0.531646\n",
       "13  without_domain   50        f1  0.909953       0.385542      0.223776\n",
       "14  without_domain  100  accuracy  0.908898       0.548718      0.556962\n",
       "15  without_domain  100        f1  0.894349       0.488372      0.331210"
      ]
     },
     "execution_count": 110,
     "metadata": {},
     "output_type": "execute_result"
    }
   ],
   "source": [
    "df_fb_user_plt = (\n",
    "    df_fb_user.reset_index(drop=False)\n",
    "    .rename(columns={'level_0': 'STM', 'level_1': 'K', 'level_2': 'Metric'})\n",
    ")\n",
    "df_fb_user_plt"
   ]
  },
  {
   "cell_type": "code",
   "execution_count": 111,
   "metadata": {},
   "outputs": [
    {
     "data": {
      "text/plain": [
       "<AxesSubplot:xlabel='K'>"
      ]
     },
     "execution_count": 111,
     "metadata": {},
     "output_type": "execute_result"
    },
    {
     "data": {
      "image/png": "[encoded data removed]",
      "text/plain": [
       "<Figure size 432x288 with 1 Axes>"
      ]
     },
     "metadata": {
      "needs_background": "light"
     },
     "output_type": "display_data"
    }
   ],
   "source": [
    "(\n",
    "    df_fb_user_plt.query(\"Metric=='accuracy'\")\n",
    "    .pivot(values=[\"Test_Facebook\", \"Test_Twitter\", \"Train\"], index=\"K\", columns=\"STM\")\n",
    "    .plot()\n",
    ")"
   ]
  },
  {
   "cell_type": "code",
   "execution_count": 112,
   "metadata": {},
   "outputs": [
    {
     "data": {
      "text/plain": [
       "<AxesSubplot:xlabel='K'>"
      ]
     },
     "execution_count": 112,
     "metadata": {},
     "output_type": "execute_result"
    },
    {
     "data": {
      "image/png": "[encoded data removed]",
      "text/plain": [
       "<Figure size 432x288 with 1 Axes>"
      ]
     },
     "metadata": {
      "needs_background": "light"
     },
     "output_type": "display_data"
    }
   ],
   "source": [
    "(\n",
    "    df_fb_user_plt.query(\"Metric=='f1'\")\n",
    "    .pivot(values=[\"Test_Facebook\", \"Test_Twitter\", \"Train\"], index=\"K\", columns=\"STM\")\n",
    "    .plot()\n",
    ")"
   ]
  },
  {
   "cell_type": "markdown",
   "metadata": {},
   "source": [
    "## Plot TwitterExperiment results"
   ]
  },
  {
   "cell_type": "code",
   "execution_count": 113,
   "metadata": {},
   "outputs": [],
   "source": [
    "df_tw_stm = pd.concat({\n",
    "    10: pd.DataFrame(unpack_nested_metrics(tw_10_stm.metrics)),\n",
    "    25: pd.DataFrame(unpack_nested_metrics(tw_25_stm.metrics)),\n",
    "    50: pd.DataFrame(unpack_nested_metrics(tw_50_stm.metrics)),\n",
    "    100: pd.DataFrame(unpack_nested_metrics(tw_100_stm.metrics)),\n",
    "})\n",
    "df_tw_corr = pd.concat({\n",
    "    10: pd.DataFrame(unpack_nested_metrics(tw_10_corr.metrics)),\n",
    "    25: pd.DataFrame(unpack_nested_metrics(tw_25_corr.metrics)),\n",
    "    50: pd.DataFrame(unpack_nested_metrics(tw_50_corr.metrics)),\n",
    "    100: pd.DataFrame(unpack_nested_metrics(tw_100_corr.metrics)),\n",
    "})\n",
    "df_tw_user = pd.concat({\"with_domain\": df_tw_stm, \"without_domain\": df_tw_corr})"
   ]
  },
  {
   "cell_type": "code",
   "execution_count": 114,
   "metadata": {},
   "outputs": [
    {
     "data": {
      "text/html": [
       "<div>\n",
       "<style scoped>\n",
       "    .dataframe tbody tr th:only-of-type {\n",
       "        vertical-align: middle;\n",
       "    }\n",
       "\n",
       "    .dataframe tbody tr th {\n",
       "        vertical-align: top;\n",
       "    }\n",
       "\n",
       "    .dataframe thead th {\n",
       "        text-align: right;\n",
       "    }\n",
       "</style>\n",
       "<table border=\"1\" class=\"dataframe\">\n",
       "  <thead>\n",
       "    <tr style=\"text-align: right;\">\n",
       "      <th></th>\n",
       "      <th>STM</th>\n",
       "      <th>K</th>\n",
       "      <th>Metric</th>\n",
       "      <th>Train</th>\n",
       "      <th>Test_Facebook</th>\n",
       "      <th>Test_Twitter</th>\n",
       "    </tr>\n",
       "  </thead>\n",
       "  <tbody>\n",
       "    <tr>\n",
       "      <th>0</th>\n",
       "      <td>with_domain</td>\n",
       "      <td>10</td>\n",
       "      <td>accuracy</td>\n",
       "      <td>0.784810</td>\n",
       "      <td>0.461538</td>\n",
       "      <td>0.518987</td>\n",
       "    </tr>\n",
       "    <tr>\n",
       "      <th>1</th>\n",
       "      <td>with_domain</td>\n",
       "      <td>10</td>\n",
       "      <td>f1</td>\n",
       "      <td>0.752599</td>\n",
       "      <td>0.524887</td>\n",
       "      <td>0.441176</td>\n",
       "    </tr>\n",
       "    <tr>\n",
       "      <th>2</th>\n",
       "      <td>with_domain</td>\n",
       "      <td>25</td>\n",
       "      <td>accuracy</td>\n",
       "      <td>0.886076</td>\n",
       "      <td>0.558974</td>\n",
       "      <td>0.468354</td>\n",
       "    </tr>\n",
       "    <tr>\n",
       "      <th>3</th>\n",
       "      <td>with_domain</td>\n",
       "      <td>25</td>\n",
       "      <td>f1</td>\n",
       "      <td>0.876228</td>\n",
       "      <td>0.598131</td>\n",
       "      <td>0.437500</td>\n",
       "    </tr>\n",
       "    <tr>\n",
       "      <th>4</th>\n",
       "      <td>with_domain</td>\n",
       "      <td>50</td>\n",
       "      <td>accuracy</td>\n",
       "      <td>0.909584</td>\n",
       "      <td>0.482051</td>\n",
       "      <td>0.578059</td>\n",
       "    </tr>\n",
       "    <tr>\n",
       "      <th>5</th>\n",
       "      <td>with_domain</td>\n",
       "      <td>50</td>\n",
       "      <td>f1</td>\n",
       "      <td>0.895397</td>\n",
       "      <td>0.516746</td>\n",
       "      <td>0.568966</td>\n",
       "    </tr>\n",
       "    <tr>\n",
       "      <th>6</th>\n",
       "      <td>with_domain</td>\n",
       "      <td>100</td>\n",
       "      <td>accuracy</td>\n",
       "      <td>0.866184</td>\n",
       "      <td>0.533333</td>\n",
       "      <td>0.531646</td>\n",
       "    </tr>\n",
       "    <tr>\n",
       "      <th>7</th>\n",
       "      <td>with_domain</td>\n",
       "      <td>100</td>\n",
       "      <td>f1</td>\n",
       "      <td>0.842553</td>\n",
       "      <td>0.523560</td>\n",
       "      <td>0.468900</td>\n",
       "    </tr>\n",
       "    <tr>\n",
       "      <th>8</th>\n",
       "      <td>without_domain</td>\n",
       "      <td>10</td>\n",
       "      <td>accuracy</td>\n",
       "      <td>0.730561</td>\n",
       "      <td>0.482051</td>\n",
       "      <td>0.535865</td>\n",
       "    </tr>\n",
       "    <tr>\n",
       "      <th>9</th>\n",
       "      <td>without_domain</td>\n",
       "      <td>10</td>\n",
       "      <td>f1</td>\n",
       "      <td>0.676790</td>\n",
       "      <td>0.487310</td>\n",
       "      <td>0.438776</td>\n",
       "    </tr>\n",
       "    <tr>\n",
       "      <th>10</th>\n",
       "      <td>without_domain</td>\n",
       "      <td>25</td>\n",
       "      <td>accuracy</td>\n",
       "      <td>0.768535</td>\n",
       "      <td>0.502564</td>\n",
       "      <td>0.556962</td>\n",
       "    </tr>\n",
       "    <tr>\n",
       "      <th>11</th>\n",
       "      <td>without_domain</td>\n",
       "      <td>25</td>\n",
       "      <td>f1</td>\n",
       "      <td>0.740891</td>\n",
       "      <td>0.492147</td>\n",
       "      <td>0.507042</td>\n",
       "    </tr>\n",
       "    <tr>\n",
       "      <th>12</th>\n",
       "      <td>without_domain</td>\n",
       "      <td>50</td>\n",
       "      <td>accuracy</td>\n",
       "      <td>0.844485</td>\n",
       "      <td>0.451282</td>\n",
       "      <td>0.565401</td>\n",
       "    </tr>\n",
       "    <tr>\n",
       "      <th>13</th>\n",
       "      <td>without_domain</td>\n",
       "      <td>50</td>\n",
       "      <td>f1</td>\n",
       "      <td>0.815451</td>\n",
       "      <td>0.445596</td>\n",
       "      <td>0.477157</td>\n",
       "    </tr>\n",
       "    <tr>\n",
       "      <th>14</th>\n",
       "      <td>without_domain</td>\n",
       "      <td>100</td>\n",
       "      <td>accuracy</td>\n",
       "      <td>0.896926</td>\n",
       "      <td>0.430769</td>\n",
       "      <td>0.518987</td>\n",
       "    </tr>\n",
       "    <tr>\n",
       "      <th>15</th>\n",
       "      <td>without_domain</td>\n",
       "      <td>100</td>\n",
       "      <td>f1</td>\n",
       "      <td>0.882474</td>\n",
       "      <td>0.468900</td>\n",
       "      <td>0.472222</td>\n",
       "    </tr>\n",
       "  </tbody>\n",
       "</table>\n",
       "</div>"
      ],
      "text/plain": [
       "               STM    K    Metric     Train  Test_Facebook  Test_Twitter\n",
       "0      with_domain   10  accuracy  0.784810       0.461538      0.518987\n",
       "1      with_domain   10        f1  0.752599       0.524887      0.441176\n",
       "2      with_domain   25  accuracy  0.886076       0.558974      0.468354\n",
       "3      with_domain   25        f1  0.876228       0.598131      0.437500\n",
       "4      with_domain   50  accuracy  0.909584       0.482051      0.578059\n",
       "5      with_domain   50        f1  0.895397       0.516746      0.568966\n",
       "6      with_domain  100  accuracy  0.866184       0.533333      0.531646\n",
       "7      with_domain  100        f1  0.842553       0.523560      0.468900\n",
       "8   without_domain   10  accuracy  0.730561       0.482051      0.535865\n",
       "9   without_domain   10        f1  0.676790       0.487310      0.438776\n",
       "10  without_domain   25  accuracy  0.768535       0.502564      0.556962\n",
       "11  without_domain   25        f1  0.740891       0.492147      0.507042\n",
       "12  without_domain   50  accuracy  0.844485       0.451282      0.565401\n",
       "13  without_domain   50        f1  0.815451       0.445596      0.477157\n",
       "14  without_domain  100  accuracy  0.896926       0.430769      0.518987\n",
       "15  without_domain  100        f1  0.882474       0.468900      0.472222"
      ]
     },
     "execution_count": 114,
     "metadata": {},
     "output_type": "execute_result"
    }
   ],
   "source": [
    "df_tw_user_plt = (\n",
    "    df_tw_user.reset_index(drop=False)\n",
    "    .rename(columns={'level_0': 'STM', 'level_1': 'K', 'level_2': 'Metric'})\n",
    ")\n",
    "df_tw_user_plt"
   ]
  },
  {
   "cell_type": "code",
   "execution_count": 115,
   "metadata": {},
   "outputs": [
    {
     "data": {
      "text/plain": [
       "<AxesSubplot:xlabel='K'>"
      ]
     },
     "execution_count": 115,
     "metadata": {},
     "output_type": "execute_result"
    },
    {
     "data": {
      "image/png": "[encoded data removed]",
      "text/plain": [
       "<Figure size 432x288 with 1 Axes>"
      ]
     },
     "metadata": {
      "needs_background": "light"
     },
     "output_type": "display_data"
    }
   ],
   "source": [
    "(\n",
    "    df_tw_user_plt.query(\"Metric=='accuracy'\")\n",
    "    .pivot(values=[\"Test_Facebook\", \"Test_Twitter\", \"Train\"], index=\"K\", columns=\"STM\")\n",
    "    .plot()\n",
    ")"
   ]
  },
  {
   "cell_type": "code",
   "execution_count": 116,
   "metadata": {},
   "outputs": [
    {
     "data": {
      "text/plain": [
       "<AxesSubplot:xlabel='K'>"
      ]
     },
     "execution_count": 116,
     "metadata": {},
     "output_type": "execute_result"
    },
    {
     "data": {
      "image/png": "[encoded data removed]",
      "text/plain": [
       "<Figure size 432x288 with 1 Axes>"
      ]
     },
     "metadata": {
      "needs_background": "light"
     },
     "output_type": "display_data"
    }
   ],
   "source": [
    "(\n",
    "    df_tw_user_plt.query(\"Metric=='f1'\")\n",
    "    .pivot(values=[\"Test_Facebook\", \"Test_Twitter\", \"Train\"], index=\"K\", columns=\"STM\")\n",
    "    .plot()\n",
    ")"
   ]
  },
  {
   "cell_type": "markdown",
   "metadata": {},
   "source": [
    "# Statistical tests"
   ]
  },
  {
   "cell_type": "markdown",
   "metadata": {},
   "source": [
    "## Test Twitter Results"
   ]
  },
  {
   "cell_type": "markdown",
   "metadata": {},
   "source": [
    "### f1-score"
   ]
  },
  {
   "cell_type": "markdown",
   "metadata": {},
   "source": [
    "- Facebook test set performance was statistically signifcantly (p < .05) better with the features that had the domain indicator\n",
    "- There was not a statistially significant difference in training performance or twitter test set performance between the two sets of STM features"
   ]
  },
  {
   "cell_type": "code",
   "execution_count": 122,
   "metadata": {},
   "outputs": [
    {
     "data": {
      "text/html": [
       "<div>\n",
       "<style scoped>\n",
       "    .dataframe tbody tr th:only-of-type {\n",
       "        vertical-align: middle;\n",
       "    }\n",
       "\n",
       "    .dataframe tbody tr th {\n",
       "        vertical-align: top;\n",
       "    }\n",
       "\n",
       "    .dataframe thead th {\n",
       "        text-align: right;\n",
       "    }\n",
       "</style>\n",
       "<table border=\"1\" class=\"dataframe\">\n",
       "  <thead>\n",
       "    <tr style=\"text-align: right;\">\n",
       "      <th></th>\n",
       "      <th>STM</th>\n",
       "      <th>K</th>\n",
       "      <th>Metric</th>\n",
       "      <th>Train</th>\n",
       "      <th>Test_Facebook</th>\n",
       "      <th>Test_Twitter</th>\n",
       "    </tr>\n",
       "  </thead>\n",
       "  <tbody>\n",
       "    <tr>\n",
       "      <th>1</th>\n",
       "      <td>with_domain</td>\n",
       "      <td>10</td>\n",
       "      <td>f1</td>\n",
       "      <td>0.752599</td>\n",
       "      <td>0.524887</td>\n",
       "      <td>0.441176</td>\n",
       "    </tr>\n",
       "    <tr>\n",
       "      <th>3</th>\n",
       "      <td>with_domain</td>\n",
       "      <td>25</td>\n",
       "      <td>f1</td>\n",
       "      <td>0.876228</td>\n",
       "      <td>0.598131</td>\n",
       "      <td>0.437500</td>\n",
       "    </tr>\n",
       "    <tr>\n",
       "      <th>5</th>\n",
       "      <td>with_domain</td>\n",
       "      <td>50</td>\n",
       "      <td>f1</td>\n",
       "      <td>0.895397</td>\n",
       "      <td>0.516746</td>\n",
       "      <td>0.568966</td>\n",
       "    </tr>\n",
       "    <tr>\n",
       "      <th>7</th>\n",
       "      <td>with_domain</td>\n",
       "      <td>100</td>\n",
       "      <td>f1</td>\n",
       "      <td>0.842553</td>\n",
       "      <td>0.523560</td>\n",
       "      <td>0.468900</td>\n",
       "    </tr>\n",
       "  </tbody>\n",
       "</table>\n",
       "</div>"
      ],
      "text/plain": [
       "           STM    K Metric     Train  Test_Facebook  Test_Twitter\n",
       "1  with_domain   10     f1  0.752599       0.524887      0.441176\n",
       "3  with_domain   25     f1  0.876228       0.598131      0.437500\n",
       "5  with_domain   50     f1  0.895397       0.516746      0.568966\n",
       "7  with_domain  100     f1  0.842553       0.523560      0.468900"
      ]
     },
     "execution_count": 122,
     "metadata": {},
     "output_type": "execute_result"
    }
   ],
   "source": [
    "a = df_tw_user_plt.query(\"STM=='with_domain' & Metric=='f1'\")\n",
    "a"
   ]
  },
  {
   "cell_type": "code",
   "execution_count": 123,
   "metadata": {},
   "outputs": [
    {
     "data": {
      "text/html": [
       "<div>\n",
       "<style scoped>\n",
       "    .dataframe tbody tr th:only-of-type {\n",
       "        vertical-align: middle;\n",
       "    }\n",
       "\n",
       "    .dataframe tbody tr th {\n",
       "        vertical-align: top;\n",
       "    }\n",
       "\n",
       "    .dataframe thead th {\n",
       "        text-align: right;\n",
       "    }\n",
       "</style>\n",
       "<table border=\"1\" class=\"dataframe\">\n",
       "  <thead>\n",
       "    <tr style=\"text-align: right;\">\n",
       "      <th></th>\n",
       "      <th>STM</th>\n",
       "      <th>K</th>\n",
       "      <th>Metric</th>\n",
       "      <th>Train</th>\n",
       "      <th>Test_Facebook</th>\n",
       "      <th>Test_Twitter</th>\n",
       "    </tr>\n",
       "  </thead>\n",
       "  <tbody>\n",
       "    <tr>\n",
       "      <th>9</th>\n",
       "      <td>without_domain</td>\n",
       "      <td>10</td>\n",
       "      <td>f1</td>\n",
       "      <td>0.676790</td>\n",
       "      <td>0.487310</td>\n",
       "      <td>0.438776</td>\n",
       "    </tr>\n",
       "    <tr>\n",
       "      <th>11</th>\n",
       "      <td>without_domain</td>\n",
       "      <td>25</td>\n",
       "      <td>f1</td>\n",
       "      <td>0.740891</td>\n",
       "      <td>0.492147</td>\n",
       "      <td>0.507042</td>\n",
       "    </tr>\n",
       "    <tr>\n",
       "      <th>13</th>\n",
       "      <td>without_domain</td>\n",
       "      <td>50</td>\n",
       "      <td>f1</td>\n",
       "      <td>0.815451</td>\n",
       "      <td>0.445596</td>\n",
       "      <td>0.477157</td>\n",
       "    </tr>\n",
       "    <tr>\n",
       "      <th>15</th>\n",
       "      <td>without_domain</td>\n",
       "      <td>100</td>\n",
       "      <td>f1</td>\n",
       "      <td>0.882474</td>\n",
       "      <td>0.468900</td>\n",
       "      <td>0.472222</td>\n",
       "    </tr>\n",
       "  </tbody>\n",
       "</table>\n",
       "</div>"
      ],
      "text/plain": [
       "               STM    K Metric     Train  Test_Facebook  Test_Twitter\n",
       "9   without_domain   10     f1  0.676790       0.487310      0.438776\n",
       "11  without_domain   25     f1  0.740891       0.492147      0.507042\n",
       "13  without_domain   50     f1  0.815451       0.445596      0.477157\n",
       "15  without_domain  100     f1  0.882474       0.468900      0.472222"
      ]
     },
     "execution_count": 123,
     "metadata": {},
     "output_type": "execute_result"
    }
   ],
   "source": [
    "b = df_tw_user_plt.query(\"STM=='without_domain' & Metric=='f1'\")\n",
    "b"
   ]
  },
  {
   "cell_type": "raw",
   "metadata": {},
   "source": [
    "t.test(c(.524887, .5889131, .516746, .52356), c(.48731, .492147, .445596, .4689), alternative=\"greater\", paired=T)\n",
    "\n",
    "        Paired t-test\n",
    "\n",
    "data:  c(0.524887, 0.5889131, 0.516746, 0.52356) and c(0.48731, 0.492147, 0.445596, 0.4689)\n",
    "t = 5.1608, df = 3, p-value = 0.007055\n",
    "alternative hypothesis: true difference in means is greater than 0\n",
    "95 percent confidence interval:\n",
    " 0.03538031        Inf\n",
    "sample estimates:\n",
    "mean of the differences \n",
    "             0.06503828 \n",
    "             \n",
    "corrected p-value: \n",
    "p.adjust(0.007055, method=\"BH\", 6)\n",
    "[1] 0.04233"
   ]
  },
  {
   "cell_type": "raw",
   "metadata": {},
   "source": [
    "t.test(c(.441176, .4375, .58966, .4689), c(.438776, .507042, .477157, .472222), alternative=\"greater\", paired=T)\n",
    "\n",
    "        Paired t-test\n",
    "\n",
    "data:  c(0.441176, 0.4375, 0.58966, 0.4689) and c(0.438776, 0.507042, 0.477157, 0.472222)\n",
    "t = 0.27867, df = 3, p-value = 0.3993\n",
    "alternative hypothesis: true difference in means is greater than 0\n",
    "95 percent confidence interval:\n",
    " -0.07824459         Inf\n",
    "sample estimates:\n",
    "mean of the differences \n",
    "             0.01050975 \n",
    "\n",
    "t.test(c(.441176, .4375, .58966, .4689), c(.438776, .507042, .477157, .472222), alternative=\"two.sided\", paired=T)\n",
    "\n",
    "        Paired t-test\n",
    "\n",
    "data:  c(0.441176, 0.4375, 0.58966, 0.4689) and c(0.438776, 0.507042, 0.477157, 0.472222)\n",
    "t = 0.27867, df = 3, p-value = 0.7986\n",
    "alternative hypothesis: true difference in means is not equal to 0\n",
    "95 percent confidence interval:\n",
    " -0.1095125  0.1305320\n",
    "sample estimates:\n",
    "mean of the differences \n",
    "             0.01050975 "
   ]
  },
  {
   "cell_type": "raw",
   "metadata": {},
   "source": [
    " t.test(c(.752599, .876228, .895397, .842553), c(.676790, .740891, .815451, .882474), alternative=\"greater\", paired=T)\n",
    "\n",
    "        Paired t-test\n",
    "\n",
    "data:  c(0.752599, 0.876228, 0.895397, 0.842553) and c(0.67679, 0.740891, 0.815451, 0.882474)\n",
    "t = 1.705, df = 3, p-value = 0.09337\n",
    "alternative hypothesis: true difference in means is greater than 0\n",
    "95 percent confidence interval:\n",
    " -0.0238791        Inf\n",
    "sample estimates:\n",
    "mean of the differences \n",
    "             0.06279275 \n",
    "\n",
    "t.test(c(.752599, .876228, .895397, .842553), c(.676790, .740891, .815451, .882474), alternative=\"two.sided\", paired=T)\n",
    "\n",
    "        Paired t-test\n",
    "\n",
    "data:  c(0.752599, 0.876228, 0.895397, 0.842553) and c(0.67679, 0.740891, 0.815451, 0.882474)\n",
    "t = 1.705, df = 3, p-value = 0.1867\n",
    "alternative hypothesis: true difference in means is not equal to 0\n",
    "95 percent confidence interval:\n",
    " -0.05441334  0.17999884\n",
    "sample estimates:\n",
    "mean of the differences \n",
    "             0.06279275 "
   ]
  },
  {
   "cell_type": "markdown",
   "metadata": {},
   "source": [
    "### accuracy"
   ]
  },
  {
   "cell_type": "markdown",
   "metadata": {},
   "source": [
    "None of the paired t-tests were significant when training on Twitter. i.e. We could not reject the hypothesis that accuracy between "
   ]
  },
  {
   "cell_type": "code",
   "execution_count": 131,
   "metadata": {},
   "outputs": [
    {
     "data": {
      "text/html": [
       "<div>\n",
       "<style scoped>\n",
       "    .dataframe tbody tr th:only-of-type {\n",
       "        vertical-align: middle;\n",
       "    }\n",
       "\n",
       "    .dataframe tbody tr th {\n",
       "        vertical-align: top;\n",
       "    }\n",
       "\n",
       "    .dataframe thead th {\n",
       "        text-align: right;\n",
       "    }\n",
       "</style>\n",
       "<table border=\"1\" class=\"dataframe\">\n",
       "  <thead>\n",
       "    <tr style=\"text-align: right;\">\n",
       "      <th></th>\n",
       "      <th>STM</th>\n",
       "      <th>K</th>\n",
       "      <th>Metric</th>\n",
       "      <th>Train</th>\n",
       "      <th>Test_Facebook</th>\n",
       "      <th>Test_Twitter</th>\n",
       "    </tr>\n",
       "  </thead>\n",
       "  <tbody>\n",
       "    <tr>\n",
       "      <th>0</th>\n",
       "      <td>with_domain</td>\n",
       "      <td>10</td>\n",
       "      <td>accuracy</td>\n",
       "      <td>0.784810</td>\n",
       "      <td>0.461538</td>\n",
       "      <td>0.518987</td>\n",
       "    </tr>\n",
       "    <tr>\n",
       "      <th>2</th>\n",
       "      <td>with_domain</td>\n",
       "      <td>25</td>\n",
       "      <td>accuracy</td>\n",
       "      <td>0.886076</td>\n",
       "      <td>0.558974</td>\n",
       "      <td>0.468354</td>\n",
       "    </tr>\n",
       "    <tr>\n",
       "      <th>4</th>\n",
       "      <td>with_domain</td>\n",
       "      <td>50</td>\n",
       "      <td>accuracy</td>\n",
       "      <td>0.909584</td>\n",
       "      <td>0.482051</td>\n",
       "      <td>0.578059</td>\n",
       "    </tr>\n",
       "    <tr>\n",
       "      <th>6</th>\n",
       "      <td>with_domain</td>\n",
       "      <td>100</td>\n",
       "      <td>accuracy</td>\n",
       "      <td>0.866184</td>\n",
       "      <td>0.533333</td>\n",
       "      <td>0.531646</td>\n",
       "    </tr>\n",
       "  </tbody>\n",
       "</table>\n",
       "</div>"
      ],
      "text/plain": [
       "           STM    K    Metric     Train  Test_Facebook  Test_Twitter\n",
       "0  with_domain   10  accuracy  0.784810       0.461538      0.518987\n",
       "2  with_domain   25  accuracy  0.886076       0.558974      0.468354\n",
       "4  with_domain   50  accuracy  0.909584       0.482051      0.578059\n",
       "6  with_domain  100  accuracy  0.866184       0.533333      0.531646"
      ]
     },
     "execution_count": 131,
     "metadata": {},
     "output_type": "execute_result"
    }
   ],
   "source": [
    "a = df_tw_user_plt.query(\"STM=='with_domain' & Metric=='accuracy'\")\n",
    "a"
   ]
  },
  {
   "cell_type": "code",
   "execution_count": 138,
   "metadata": {},
   "outputs": [
    {
     "data": {
      "text/html": [
       "<div>\n",
       "<style scoped>\n",
       "    .dataframe tbody tr th:only-of-type {\n",
       "        vertical-align: middle;\n",
       "    }\n",
       "\n",
       "    .dataframe tbody tr th {\n",
       "        vertical-align: top;\n",
       "    }\n",
       "\n",
       "    .dataframe thead th {\n",
       "        text-align: right;\n",
       "    }\n",
       "</style>\n",
       "<table border=\"1\" class=\"dataframe\">\n",
       "  <thead>\n",
       "    <tr style=\"text-align: right;\">\n",
       "      <th></th>\n",
       "      <th>STM</th>\n",
       "      <th>K</th>\n",
       "      <th>Metric</th>\n",
       "      <th>Train</th>\n",
       "      <th>Test_Facebook</th>\n",
       "      <th>Test_Twitter</th>\n",
       "    </tr>\n",
       "  </thead>\n",
       "  <tbody>\n",
       "    <tr>\n",
       "      <th>8</th>\n",
       "      <td>without_domain</td>\n",
       "      <td>10</td>\n",
       "      <td>accuracy</td>\n",
       "      <td>0.730561</td>\n",
       "      <td>0.482051</td>\n",
       "      <td>0.535865</td>\n",
       "    </tr>\n",
       "    <tr>\n",
       "      <th>10</th>\n",
       "      <td>without_domain</td>\n",
       "      <td>25</td>\n",
       "      <td>accuracy</td>\n",
       "      <td>0.768535</td>\n",
       "      <td>0.502564</td>\n",
       "      <td>0.556962</td>\n",
       "    </tr>\n",
       "    <tr>\n",
       "      <th>12</th>\n",
       "      <td>without_domain</td>\n",
       "      <td>50</td>\n",
       "      <td>accuracy</td>\n",
       "      <td>0.844485</td>\n",
       "      <td>0.451282</td>\n",
       "      <td>0.565401</td>\n",
       "    </tr>\n",
       "    <tr>\n",
       "      <th>14</th>\n",
       "      <td>without_domain</td>\n",
       "      <td>100</td>\n",
       "      <td>accuracy</td>\n",
       "      <td>0.896926</td>\n",
       "      <td>0.430769</td>\n",
       "      <td>0.518987</td>\n",
       "    </tr>\n",
       "  </tbody>\n",
       "</table>\n",
       "</div>"
      ],
      "text/plain": [
       "               STM    K    Metric     Train  Test_Facebook  Test_Twitter\n",
       "8   without_domain   10  accuracy  0.730561       0.482051      0.535865\n",
       "10  without_domain   25  accuracy  0.768535       0.502564      0.556962\n",
       "12  without_domain   50  accuracy  0.844485       0.451282      0.565401\n",
       "14  without_domain  100  accuracy  0.896926       0.430769      0.518987"
      ]
     },
     "execution_count": 138,
     "metadata": {},
     "output_type": "execute_result"
    }
   ],
   "source": [
    "b = df_tw_user_plt.query(\"STM=='without_domain' & Metric=='accuracy'\")\n",
    "b"
   ]
  },
  {
   "cell_type": "code",
   "execution_count": 139,
   "metadata": {},
   "outputs": [],
   "source": [
    "def make_r_t_test_string(a: list, b: list, alternative: str = \"greater\") -> str:\n",
    "    print(\n",
    "        \"t.test(c(\" + \n",
    "        \", \".join([str(i) for i in a]) + \n",
    "        \"), c(\" + \n",
    "        \", \".join([str(i) for i in b]) + \n",
    "        f\"), paired=TRUE, alternative={alternative!r})\"\n",
    "    )"
   ]
  },
  {
   "cell_type": "code",
   "execution_count": 140,
   "metadata": {},
   "outputs": [
    {
     "name": "stdout",
     "output_type": "stream",
     "text": [
      "t.test(c(0.7848101265822784, 0.8860759493670886, 0.9095840867992767, 0.8661844484629295), c(0.7305605786618445, 0.7685352622061483, 0.8444846292947559, 0.8969258589511754), paired=TRUE, alternative='two.sided')\n"
     ]
    }
   ],
   "source": [
    "make_r_t_test_string(a[\"Train\"], b[\"Train\"], \"two.sided\")"
   ]
  },
  {
   "cell_type": "raw",
   "metadata": {},
   "source": [
    "t.test(c(0.7848101265822784, 0.8860759493670886, 0.9095840867992767, 0.8661844484629295), c(0.7305605786618445, 0.7685352622061483, 0.8444846292947559, 0.8969258589511754), paired=TRUE, alternative='two.sided')\n",
    "\n",
    "        Paired t-test\n",
    "\n",
    "data:  c(0.784810126582278, 0.886075949367089, 0.909584086799277, 0.86618444846293) and c(0.730560578661845, 0.768535262206148, 0.844484629294756, 0.896925858951175)\n",
    "t = 1.6782, df = 3, p-value = 0.1919\n",
    "alternative hypothesis: true difference in means is not equal to 0\n",
    "95 percent confidence interval:\n",
    " -0.04619703  0.14927117\n",
    "sample estimates:\n",
    "mean of the differences \n",
    "             0.05153707 "
   ]
  },
  {
   "cell_type": "code",
   "execution_count": 141,
   "metadata": {},
   "outputs": [
    {
     "name": "stdout",
     "output_type": "stream",
     "text": [
      "t.test(c(0.46153846153846156, 0.558974358974359, 0.48205128205128206, 0.5333333333333333), c(0.48205128205128206, 0.5025641025641026, 0.4512820512820513, 0.4307692307692308), paired=TRUE, alternative='greater')\n"
     ]
    }
   ],
   "source": [
    "make_r_t_test_string(a[\"Test_Facebook\"], b[\"Test_Facebook\"], \"greater\")"
   ]
  },
  {
   "cell_type": "raw",
   "metadata": {},
   "source": [
    "t.test(c(0.46153846153846156, 0.558974358974359, 0.48205128205128206, 0.5333333333333333), c(0.48205128205128206, 0.5025641025641026, 0.4512820512820513, 0.4307692307692308), paired=TRUE, alternative='greater')\n",
    "\n",
    "        Paired t-test\n",
    "\n",
    "data:  c(0.461538461538462, 0.558974358974359, 0.482051282051282, 0.533333333333333) and c(0.482051282051282, 0.502564102564103, 0.451282051282051, 0.430769230769231)\n",
    "t = 1.6479, df = 3, p-value = 0.09896\n",
    "alternative hypothesis: true difference in means is greater than 0\n",
    "95 percent confidence interval:\n",
    " -0.01811034         Inf\n",
    "sample estimates:\n",
    "mean of the differences \n",
    "             0.04230769 "
   ]
  },
  {
   "cell_type": "code",
   "execution_count": 143,
   "metadata": {},
   "outputs": [
    {
     "name": "stdout",
     "output_type": "stream",
     "text": [
      "t.test(c(0.5189873417721519, 0.46835443037974683, 0.5780590717299579, 0.5316455696202531), c(0.5358649789029536, 0.5569620253164557, 0.5654008438818565, 0.5189873417721519), paired=TRUE, alternative='two.sided')\n"
     ]
    }
   ],
   "source": [
    "make_r_t_test_string(a[\"Test_Twitter\"], b[\"Test_Twitter\"], \"two.sided\")"
   ]
  },
  {
   "cell_type": "raw",
   "metadata": {},
   "source": [
    "t.test(c(0.5189873417721519, 0.46835443037974683, 0.5780590717299579, 0.5316455696202531), c(0.5358649789029536, 0.5569620253164557, 0.5654008438818565, 0.5189873417721519), paired=TRUE, alternative='two.sided')\n",
    "\n",
    "        Paired t-test\n",
    "\n",
    "data:  c(0.518987341772152, 0.468354430379747, 0.578059071729958, 0.531645569620253) and c(0.535864978902954, 0.556962025316456, 0.565400843881857, 0.518987341772152)\n",
    "t = -0.83887, df = 3, p-value = 0.4631\n",
    "alternative hypothesis: true difference in means is not equal to 0\n",
    "95 percent confidence interval:\n",
    " -0.09607682  0.05599243\n",
    "sample estimates:\n",
    "mean of the differences \n",
    "            -0.02004219 "
   ]
  },
  {
   "cell_type": "markdown",
   "metadata": {},
   "source": [
    "## Test Facebook Results"
   ]
  },
  {
   "cell_type": "markdown",
   "metadata": {},
   "source": [
    "### f1-score"
   ]
  },
  {
   "cell_type": "markdown",
   "metadata": {},
   "source": [
    "None of the tests for differences between STM features were statistically significant"
   ]
  },
  {
   "cell_type": "code",
   "execution_count": 144,
   "metadata": {},
   "outputs": [
    {
     "data": {
      "text/html": [
       "<div>\n",
       "<style scoped>\n",
       "    .dataframe tbody tr th:only-of-type {\n",
       "        vertical-align: middle;\n",
       "    }\n",
       "\n",
       "    .dataframe tbody tr th {\n",
       "        vertical-align: top;\n",
       "    }\n",
       "\n",
       "    .dataframe thead th {\n",
       "        text-align: right;\n",
       "    }\n",
       "</style>\n",
       "<table border=\"1\" class=\"dataframe\">\n",
       "  <thead>\n",
       "    <tr style=\"text-align: right;\">\n",
       "      <th></th>\n",
       "      <th>STM</th>\n",
       "      <th>K</th>\n",
       "      <th>Metric</th>\n",
       "      <th>Train</th>\n",
       "      <th>Test_Facebook</th>\n",
       "      <th>Test_Twitter</th>\n",
       "    </tr>\n",
       "  </thead>\n",
       "  <tbody>\n",
       "    <tr>\n",
       "      <th>1</th>\n",
       "      <td>with_domain</td>\n",
       "      <td>10</td>\n",
       "      <td>f1</td>\n",
       "      <td>0.802817</td>\n",
       "      <td>0.451977</td>\n",
       "      <td>0.310559</td>\n",
       "    </tr>\n",
       "    <tr>\n",
       "      <th>3</th>\n",
       "      <td>with_domain</td>\n",
       "      <td>25</td>\n",
       "      <td>f1</td>\n",
       "      <td>0.872818</td>\n",
       "      <td>0.363636</td>\n",
       "      <td>0.312500</td>\n",
       "    </tr>\n",
       "    <tr>\n",
       "      <th>5</th>\n",
       "      <td>with_domain</td>\n",
       "      <td>50</td>\n",
       "      <td>f1</td>\n",
       "      <td>0.990338</td>\n",
       "      <td>0.465909</td>\n",
       "      <td>0.429319</td>\n",
       "    </tr>\n",
       "    <tr>\n",
       "      <th>7</th>\n",
       "      <td>with_domain</td>\n",
       "      <td>100</td>\n",
       "      <td>f1</td>\n",
       "      <td>0.944310</td>\n",
       "      <td>0.385965</td>\n",
       "      <td>0.437158</td>\n",
       "    </tr>\n",
       "  </tbody>\n",
       "</table>\n",
       "</div>"
      ],
      "text/plain": [
       "           STM    K Metric     Train  Test_Facebook  Test_Twitter\n",
       "1  with_domain   10     f1  0.802817       0.451977      0.310559\n",
       "3  with_domain   25     f1  0.872818       0.363636      0.312500\n",
       "5  with_domain   50     f1  0.990338       0.465909      0.429319\n",
       "7  with_domain  100     f1  0.944310       0.385965      0.437158"
      ]
     },
     "execution_count": 144,
     "metadata": {},
     "output_type": "execute_result"
    }
   ],
   "source": [
    "a = df_fb_user_plt.query(\"STM=='with_domain' & Metric=='f1'\")\n",
    "a"
   ]
  },
  {
   "cell_type": "code",
   "execution_count": 145,
   "metadata": {},
   "outputs": [
    {
     "data": {
      "text/html": [
       "<div>\n",
       "<style scoped>\n",
       "    .dataframe tbody tr th:only-of-type {\n",
       "        vertical-align: middle;\n",
       "    }\n",
       "\n",
       "    .dataframe tbody tr th {\n",
       "        vertical-align: top;\n",
       "    }\n",
       "\n",
       "    .dataframe thead th {\n",
       "        text-align: right;\n",
       "    }\n",
       "</style>\n",
       "<table border=\"1\" class=\"dataframe\">\n",
       "  <thead>\n",
       "    <tr style=\"text-align: right;\">\n",
       "      <th></th>\n",
       "      <th>STM</th>\n",
       "      <th>K</th>\n",
       "      <th>Metric</th>\n",
       "      <th>Train</th>\n",
       "      <th>Test_Facebook</th>\n",
       "      <th>Test_Twitter</th>\n",
       "    </tr>\n",
       "  </thead>\n",
       "  <tbody>\n",
       "    <tr>\n",
       "      <th>9</th>\n",
       "      <td>without_domain</td>\n",
       "      <td>10</td>\n",
       "      <td>f1</td>\n",
       "      <td>0.794667</td>\n",
       "      <td>0.409938</td>\n",
       "      <td>0.278146</td>\n",
       "    </tr>\n",
       "    <tr>\n",
       "      <th>11</th>\n",
       "      <td>without_domain</td>\n",
       "      <td>25</td>\n",
       "      <td>f1</td>\n",
       "      <td>0.780105</td>\n",
       "      <td>0.350649</td>\n",
       "      <td>0.420455</td>\n",
       "    </tr>\n",
       "    <tr>\n",
       "      <th>13</th>\n",
       "      <td>without_domain</td>\n",
       "      <td>50</td>\n",
       "      <td>f1</td>\n",
       "      <td>0.909953</td>\n",
       "      <td>0.385542</td>\n",
       "      <td>0.223776</td>\n",
       "    </tr>\n",
       "    <tr>\n",
       "      <th>15</th>\n",
       "      <td>without_domain</td>\n",
       "      <td>100</td>\n",
       "      <td>f1</td>\n",
       "      <td>0.894349</td>\n",
       "      <td>0.488372</td>\n",
       "      <td>0.331210</td>\n",
       "    </tr>\n",
       "  </tbody>\n",
       "</table>\n",
       "</div>"
      ],
      "text/plain": [
       "               STM    K Metric     Train  Test_Facebook  Test_Twitter\n",
       "9   without_domain   10     f1  0.794667       0.409938      0.278146\n",
       "11  without_domain   25     f1  0.780105       0.350649      0.420455\n",
       "13  without_domain   50     f1  0.909953       0.385542      0.223776\n",
       "15  without_domain  100     f1  0.894349       0.488372      0.331210"
      ]
     },
     "execution_count": 145,
     "metadata": {},
     "output_type": "execute_result"
    }
   ],
   "source": [
    "b = df_fb_user_plt.query(\"STM=='without_domain' & Metric=='f1'\")\n",
    "b"
   ]
  },
  {
   "cell_type": "code",
   "execution_count": 146,
   "metadata": {},
   "outputs": [
    {
     "name": "stdout",
     "output_type": "stream",
     "text": [
      "t.test(c(0.8028169014084506, 0.8728179551122194, 0.9903381642512077, 0.9443099273607748), c(0.7946666666666665, 0.7801047120418848, 0.909952606635071, 0.8943488943488944), paired=TRUE, alternative='two.sided')\n"
     ]
    }
   ],
   "source": [
    "make_r_t_test_string(a[\"Train\"], b[\"Train\"], \"two.sided\")"
   ]
  },
  {
   "cell_type": "raw",
   "metadata": {},
   "source": [
    "t.test(c(0.8028169014084506, 0.8728179551122194, 0.9903381642512077, 0.9443099273607748), c(0.7946666666666665, 0.7801047120418848, 0.909952606635071, 0.8943488943488944), paired=TRUE, alternative='two.sided')\n",
    "\n",
    "        Paired t-test\n",
    "\n",
    "data:  c(0.802816901408451, 0.872817955112219, 0.990338164251208, 0.944309927360775) and c(0.794666666666667, 0.780104712041885, 0.909952606635071, 0.894348894348894)\n",
    "t = 3.0694, df = 3, p-value = 0.05459\n",
    "alternative hypothesis: true difference in means is not equal to 0\n",
    "95 percent confidence interval:\n",
    " -0.002128325  0.117733359\n",
    "sample estimates:\n",
    "mean of the differences \n",
    "             0.05780252 "
   ]
  },
  {
   "cell_type": "code",
   "execution_count": 147,
   "metadata": {},
   "outputs": [
    {
     "name": "stdout",
     "output_type": "stream",
     "text": [
      "t.test(c(0.45197740112994345, 0.36363636363636365, 0.4659090909090909, 0.3859649122807018), c(0.4099378881987578, 0.35064935064935066, 0.3855421686746988, 0.4883720930232558), paired=TRUE, alternative='two.sided')\n"
     ]
    }
   ],
   "source": [
    "make_r_t_test_string(a[\"Test_Facebook\"], b[\"Test_Facebook\"], \"two.sided\")"
   ]
  },
  {
   "cell_type": "raw",
   "metadata": {},
   "source": [
    "t.test(c(0.45197740112994345, 0.36363636363636365, 0.4659090909090909, 0.3859649122807018), c(0.4099378881987578, 0.35064935064935066, 0.3855421686746988, 0.4883720930232558), paired=TRUE, alternative='two.sided')\n",
    "\n",
    "        Paired t-test\n",
    "\n",
    "data:  c(0.451977401129943, 0.363636363636364, 0.465909090909091, 0.385964912280702) and c(0.409937888198758, 0.350649350649351, 0.385542168674699, 0.488372093023256)\n",
    "t = 0.20941, df = 3, p-value = 0.8475\n",
    "alternative hypothesis: true difference in means is not equal to 0\n",
    "95 percent confidence interval:\n",
    " -0.1170803  0.1335734\n",
    "sample estimates:\n",
    "mean of the differences \n",
    "            0.008246567 "
   ]
  },
  {
   "cell_type": "code",
   "execution_count": 148,
   "metadata": {},
   "outputs": [
    {
     "name": "stdout",
     "output_type": "stream",
     "text": [
      "t.test(c(0.3105590062111801, 0.3125, 0.42931937172774864, 0.43715846994535523), c(0.27814569536423844, 0.42045454545454547, 0.2237762237762238, 0.33121019108280253), paired=TRUE, alternative='greater')\n"
     ]
    }
   ],
   "source": [
    "make_r_t_test_string(a[\"Test_Twitter\"], b[\"Test_Twitter\"], \"greater\")2"
   ]
  },
  {
   "cell_type": "raw",
   "metadata": {},
   "source": [
    "t.test(c(0.3105590062111801, 0.3125, 0.42931937172774864, 0.43715846994535523), c(0.27814569536423844, 0.42045454545454547, 0.2237762237762238, 0.33121019108280253), paired=TRUE, alternative='greater')\n",
    "\n",
    "        Paired t-test\n",
    "\n",
    "data:  c(0.31055900621118, 0.3125, 0.429319371727749, 0.437158469945355) and c(0.278145695364238, 0.420454545454545, 0.223776223776224, 0.331210191082803)\n",
    "t = 0.89386, df = 3, p-value = 0.2186\n",
    "alternative hypothesis: true difference in means is greater than 0\n",
    "95 percent confidence interval:\n",
    " -0.09631617         Inf\n",
    "sample estimates:\n",
    "mean of the differences \n",
    "             0.05898755"
   ]
  },
  {
   "cell_type": "markdown",
   "metadata": {},
   "source": [
    "### accuracy"
   ]
  },
  {
   "cell_type": "markdown",
   "metadata": {},
   "source": [
    "None of the tests for differences between STM features were statistically significant"
   ]
  },
  {
   "cell_type": "code",
   "execution_count": 165,
   "metadata": {},
   "outputs": [
    {
     "data": {
      "text/html": [
       "<div>\n",
       "<style scoped>\n",
       "    .dataframe tbody tr th:only-of-type {\n",
       "        vertical-align: middle;\n",
       "    }\n",
       "\n",
       "    .dataframe tbody tr th {\n",
       "        vertical-align: top;\n",
       "    }\n",
       "\n",
       "    .dataframe thead th {\n",
       "        text-align: right;\n",
       "    }\n",
       "</style>\n",
       "<table border=\"1\" class=\"dataframe\">\n",
       "  <thead>\n",
       "    <tr style=\"text-align: right;\">\n",
       "      <th></th>\n",
       "      <th>STM</th>\n",
       "      <th>K</th>\n",
       "      <th>Metric</th>\n",
       "      <th>Train</th>\n",
       "      <th>Test_Facebook</th>\n",
       "      <th>Test_Twitter</th>\n",
       "    </tr>\n",
       "  </thead>\n",
       "  <tbody>\n",
       "    <tr>\n",
       "      <th>0</th>\n",
       "      <td>with_domain</td>\n",
       "      <td>10</td>\n",
       "      <td>accuracy</td>\n",
       "      <td>0.822034</td>\n",
       "      <td>0.502564</td>\n",
       "      <td>0.531646</td>\n",
       "    </tr>\n",
       "    <tr>\n",
       "      <th>2</th>\n",
       "      <td>with_domain</td>\n",
       "      <td>25</td>\n",
       "      <td>accuracy</td>\n",
       "      <td>0.891949</td>\n",
       "      <td>0.461538</td>\n",
       "      <td>0.535865</td>\n",
       "    </tr>\n",
       "    <tr>\n",
       "      <th>4</th>\n",
       "      <td>with_domain</td>\n",
       "      <td>50</td>\n",
       "      <td>accuracy</td>\n",
       "      <td>0.991525</td>\n",
       "      <td>0.517949</td>\n",
       "      <td>0.540084</td>\n",
       "    </tr>\n",
       "    <tr>\n",
       "      <th>6</th>\n",
       "      <td>with_domain</td>\n",
       "      <td>100</td>\n",
       "      <td>accuracy</td>\n",
       "      <td>0.951271</td>\n",
       "      <td>0.461538</td>\n",
       "      <td>0.565401</td>\n",
       "    </tr>\n",
       "  </tbody>\n",
       "</table>\n",
       "</div>"
      ],
      "text/plain": [
       "           STM    K    Metric     Train  Test_Facebook  Test_Twitter\n",
       "0  with_domain   10  accuracy  0.822034       0.502564      0.531646\n",
       "2  with_domain   25  accuracy  0.891949       0.461538      0.535865\n",
       "4  with_domain   50  accuracy  0.991525       0.517949      0.540084\n",
       "6  with_domain  100  accuracy  0.951271       0.461538      0.565401"
      ]
     },
     "execution_count": 165,
     "metadata": {},
     "output_type": "execute_result"
    }
   ],
   "source": [
    "a = df_fb_user_plt.query(\"STM=='with_domain' & Metric=='accuracy'\")\n",
    "a"
   ]
  },
  {
   "cell_type": "code",
   "execution_count": 166,
   "metadata": {},
   "outputs": [
    {
     "data": {
      "text/html": [
       "<div>\n",
       "<style scoped>\n",
       "    .dataframe tbody tr th:only-of-type {\n",
       "        vertical-align: middle;\n",
       "    }\n",
       "\n",
       "    .dataframe tbody tr th {\n",
       "        vertical-align: top;\n",
       "    }\n",
       "\n",
       "    .dataframe thead th {\n",
       "        text-align: right;\n",
       "    }\n",
       "</style>\n",
       "<table border=\"1\" class=\"dataframe\">\n",
       "  <thead>\n",
       "    <tr style=\"text-align: right;\">\n",
       "      <th></th>\n",
       "      <th>STM</th>\n",
       "      <th>K</th>\n",
       "      <th>Metric</th>\n",
       "      <th>Train</th>\n",
       "      <th>Test_Facebook</th>\n",
       "      <th>Test_Twitter</th>\n",
       "    </tr>\n",
       "  </thead>\n",
       "  <tbody>\n",
       "    <tr>\n",
       "      <th>8</th>\n",
       "      <td>without_domain</td>\n",
       "      <td>10</td>\n",
       "      <td>accuracy</td>\n",
       "      <td>0.836864</td>\n",
       "      <td>0.512821</td>\n",
       "      <td>0.540084</td>\n",
       "    </tr>\n",
       "    <tr>\n",
       "      <th>10</th>\n",
       "      <td>without_domain</td>\n",
       "      <td>25</td>\n",
       "      <td>accuracy</td>\n",
       "      <td>0.822034</td>\n",
       "      <td>0.487179</td>\n",
       "      <td>0.569620</td>\n",
       "    </tr>\n",
       "    <tr>\n",
       "      <th>12</th>\n",
       "      <td>without_domain</td>\n",
       "      <td>50</td>\n",
       "      <td>accuracy</td>\n",
       "      <td>0.919492</td>\n",
       "      <td>0.476923</td>\n",
       "      <td>0.531646</td>\n",
       "    </tr>\n",
       "    <tr>\n",
       "      <th>14</th>\n",
       "      <td>without_domain</td>\n",
       "      <td>100</td>\n",
       "      <td>accuracy</td>\n",
       "      <td>0.908898</td>\n",
       "      <td>0.548718</td>\n",
       "      <td>0.556962</td>\n",
       "    </tr>\n",
       "  </tbody>\n",
       "</table>\n",
       "</div>"
      ],
      "text/plain": [
       "               STM    K    Metric     Train  Test_Facebook  Test_Twitter\n",
       "8   without_domain   10  accuracy  0.836864       0.512821      0.540084\n",
       "10  without_domain   25  accuracy  0.822034       0.487179      0.569620\n",
       "12  without_domain   50  accuracy  0.919492       0.476923      0.531646\n",
       "14  without_domain  100  accuracy  0.908898       0.548718      0.556962"
      ]
     },
     "execution_count": 166,
     "metadata": {},
     "output_type": "execute_result"
    }
   ],
   "source": [
    "b = df_fb_user_plt.query(\"STM=='without_domain' & Metric=='accuracy'\")\n",
    "b"
   ]
  },
  {
   "cell_type": "code",
   "execution_count": 167,
   "metadata": {},
   "outputs": [
    {
     "name": "stdout",
     "output_type": "stream",
     "text": [
      "t.test(c(0.8220338983050848, 0.8919491525423728, 0.9915254237288136, 0.951271186440678), c(0.836864406779661, 0.8220338983050848, 0.9194915254237288, 0.9088983050847458), paired=TRUE, alternative='two.sided')\n"
     ]
    }
   ],
   "source": [
    "make_r_t_test_string(a[\"Train\"], b[\"Train\"], \"two.sided\")"
   ]
  },
  {
   "cell_type": "raw",
   "metadata": {},
   "source": [
    "t.test(c(0.8220338983050848, 0.8919491525423728, 0.9915254237288136, 0.951271186440678), c(0.836864406779661, 0.8220338983050848, 0.9194915254237288, 0.9088983050847458), paired=TRUE, alternative='two.sided')\n",
    "\n",
    "        Paired t-test\n",
    "\n",
    "data:  c(0.822033898305085, 0.891949152542373, 0.991525423728814, 0.951271186440678) and c(0.836864406779661, 0.822033898305085, 0.919491525423729, 0.908898305084746)\n",
    "t = 2.0947, df = 3, p-value = 0.1272\n",
    "alternative hypothesis: true difference in means is not equal to 0\n",
    "95 percent confidence interval:\n",
    " -0.02200507  0.10675083\n",
    "sample estimates:\n",
    "mean of the differences \n",
    "             0.04237288 "
   ]
  },
  {
   "cell_type": "code",
   "execution_count": 168,
   "metadata": {},
   "outputs": [
    {
     "name": "stdout",
     "output_type": "stream",
     "text": [
      "t.test(c(0.5025641025641026, 0.46153846153846156, 0.517948717948718, 0.46153846153846156), c(0.5128205128205128, 0.48717948717948717, 0.47692307692307695, 0.5487179487179488), paired=TRUE, alternative='two.sided')\n"
     ]
    }
   ],
   "source": [
    "make_r_t_test_string(a[\"Test_Facebook\"], b[\"Test_Facebook\"], \"two.sided\")"
   ]
  },
  {
   "cell_type": "raw",
   "metadata": {},
   "source": [
    "t.test(c(0.5025641025641026, 0.46153846153846156, 0.517948717948718, 0.46153846153846156), c(0.5128205128205128, 0.48717948717948717, 0.47692307692307695, 0.5487179487179488), paired=TRUE, alternative='two.sided')\n",
    "\n",
    "        Paired t-test\n",
    "\n",
    "data:  c(0.502564102564103, 0.461538461538462, 0.517948717948718, 0.461538461538462) and c(0.512820512820513, 0.487179487179487, 0.476923076923077, 0.548717948717949)\n",
    "t = -0.77703, df = 3, p-value = 0.4938\n",
    "alternative hypothesis: true difference in means is not equal to 0\n",
    "95 percent confidence interval:\n",
    " -0.10452638  0.06350074\n",
    "sample estimates:\n",
    "mean of the differences \n",
    "            -0.02051282 "
   ]
  },
  {
   "cell_type": "code",
   "execution_count": 169,
   "metadata": {},
   "outputs": [
    {
     "name": "stdout",
     "output_type": "stream",
     "text": [
      "t.test(c(0.5316455696202531, 0.5358649789029536, 0.540084388185654, 0.5654008438818565), c(0.540084388185654, 0.569620253164557, 0.5316455696202531, 0.5569620253164557), paired=TRUE, alternative='greater')\n"
     ]
    }
   ],
   "source": [
    "make_r_t_test_string(a[\"Test_Twitter\"], b[\"Test_Twitter\"], \"greater\")"
   ]
  },
  {
   "cell_type": "raw",
   "metadata": {},
   "source": [
    "t.test(c(0.5316455696202531, 0.5358649789029536, 0.540084388185654, 0.5654008438818565), c(0.540084388185654, 0.569620253164557, 0.5316455696202531, 0.5569620253164557), paired=TRUE, alternative='greater')\n",
    "\n",
    "        Paired t-test\n",
    "\n",
    "data:  c(0.531645569620253, 0.535864978902954, 0.540084388185654, 0.565400843881857) and c(0.540084388185654, 0.569620253164557, 0.531645569620253, 0.556962025316456)\n",
    "t = -0.63481, df = 3, p-value = 0.7147\n",
    "alternative hypothesis: true difference in means is greater than 0\n",
    "95 percent confidence interval:\n",
    " -0.02979232         Inf\n",
    "sample estimates:\n",
    "mean of the differences \n",
    "           -0.006329114"
   ]
  },
  {
   "cell_type": "markdown",
   "metadata": {},
   "source": [
    "## Test general user experiment results"
   ]
  },
  {
   "cell_type": "markdown",
   "metadata": {},
   "source": [
    "### f1-score"
   ]
  },
  {
   "cell_type": "markdown",
   "metadata": {},
   "source": [
    "No statistically significant differences between the two sets of features of f1-score for either the Train or Test results"
   ]
  },
  {
   "cell_type": "code",
   "execution_count": 171,
   "metadata": {},
   "outputs": [
    {
     "data": {
      "text/html": [
       "<div>\n",
       "<style scoped>\n",
       "    .dataframe tbody tr th:only-of-type {\n",
       "        vertical-align: middle;\n",
       "    }\n",
       "\n",
       "    .dataframe tbody tr th {\n",
       "        vertical-align: top;\n",
       "    }\n",
       "\n",
       "    .dataframe thead th {\n",
       "        text-align: right;\n",
       "    }\n",
       "</style>\n",
       "<table border=\"1\" class=\"dataframe\">\n",
       "  <thead>\n",
       "    <tr style=\"text-align: right;\">\n",
       "      <th></th>\n",
       "      <th>STM</th>\n",
       "      <th>K</th>\n",
       "      <th>Metric</th>\n",
       "      <th>Train</th>\n",
       "      <th>Test</th>\n",
       "    </tr>\n",
       "  </thead>\n",
       "  <tbody>\n",
       "    <tr>\n",
       "      <th>1</th>\n",
       "      <td>with_domain</td>\n",
       "      <td>10</td>\n",
       "      <td>f1</td>\n",
       "      <td>0.718447</td>\n",
       "      <td>0.514563</td>\n",
       "    </tr>\n",
       "    <tr>\n",
       "      <th>3</th>\n",
       "      <td>with_domain</td>\n",
       "      <td>25</td>\n",
       "      <td>f1</td>\n",
       "      <td>0.900609</td>\n",
       "      <td>0.463054</td>\n",
       "    </tr>\n",
       "    <tr>\n",
       "      <th>5</th>\n",
       "      <td>with_domain</td>\n",
       "      <td>50</td>\n",
       "      <td>f1</td>\n",
       "      <td>0.945674</td>\n",
       "      <td>0.492754</td>\n",
       "    </tr>\n",
       "    <tr>\n",
       "      <th>7</th>\n",
       "      <td>with_domain</td>\n",
       "      <td>100</td>\n",
       "      <td>f1</td>\n",
       "      <td>0.993939</td>\n",
       "      <td>0.502242</td>\n",
       "    </tr>\n",
       "  </tbody>\n",
       "</table>\n",
       "</div>"
      ],
      "text/plain": [
       "           STM    K Metric     Train      Test\n",
       "1  with_domain   10     f1  0.718447  0.514563\n",
       "3  with_domain   25     f1  0.900609  0.463054\n",
       "5  with_domain   50     f1  0.945674  0.492754\n",
       "7  with_domain  100     f1  0.993939  0.502242"
      ]
     },
     "execution_count": 171,
     "metadata": {},
     "output_type": "execute_result"
    }
   ],
   "source": [
    "a = df_user_plt.query(\"STM=='with_domain' & Metric=='f1'\")\n",
    "a"
   ]
  },
  {
   "cell_type": "code",
   "execution_count": 172,
   "metadata": {},
   "outputs": [
    {
     "data": {
      "text/html": [
       "<div>\n",
       "<style scoped>\n",
       "    .dataframe tbody tr th:only-of-type {\n",
       "        vertical-align: middle;\n",
       "    }\n",
       "\n",
       "    .dataframe tbody tr th {\n",
       "        vertical-align: top;\n",
       "    }\n",
       "\n",
       "    .dataframe thead th {\n",
       "        text-align: right;\n",
       "    }\n",
       "</style>\n",
       "<table border=\"1\" class=\"dataframe\">\n",
       "  <thead>\n",
       "    <tr style=\"text-align: right;\">\n",
       "      <th></th>\n",
       "      <th>STM</th>\n",
       "      <th>K</th>\n",
       "      <th>Metric</th>\n",
       "      <th>Train</th>\n",
       "      <th>Test</th>\n",
       "    </tr>\n",
       "  </thead>\n",
       "  <tbody>\n",
       "    <tr>\n",
       "      <th>9</th>\n",
       "      <td>without_domain</td>\n",
       "      <td>10</td>\n",
       "      <td>f1</td>\n",
       "      <td>0.728421</td>\n",
       "      <td>0.464646</td>\n",
       "    </tr>\n",
       "    <tr>\n",
       "      <th>11</th>\n",
       "      <td>without_domain</td>\n",
       "      <td>25</td>\n",
       "      <td>f1</td>\n",
       "      <td>0.896000</td>\n",
       "      <td>0.511628</td>\n",
       "    </tr>\n",
       "    <tr>\n",
       "      <th>13</th>\n",
       "      <td>without_domain</td>\n",
       "      <td>50</td>\n",
       "      <td>f1</td>\n",
       "      <td>0.739669</td>\n",
       "      <td>0.457711</td>\n",
       "    </tr>\n",
       "    <tr>\n",
       "      <th>15</th>\n",
       "      <td>without_domain</td>\n",
       "      <td>100</td>\n",
       "      <td>f1</td>\n",
       "      <td>0.981964</td>\n",
       "      <td>0.533937</td>\n",
       "    </tr>\n",
       "  </tbody>\n",
       "</table>\n",
       "</div>"
      ],
      "text/plain": [
       "               STM    K Metric     Train      Test\n",
       "9   without_domain   10     f1  0.728421  0.464646\n",
       "11  without_domain   25     f1  0.896000  0.511628\n",
       "13  without_domain   50     f1  0.739669  0.457711\n",
       "15  without_domain  100     f1  0.981964  0.533937"
      ]
     },
     "execution_count": 172,
     "metadata": {},
     "output_type": "execute_result"
    }
   ],
   "source": [
    "b = df_user_plt.query(\"STM=='without_domain' & Metric=='f1'\")\n",
    "b"
   ]
  },
  {
   "cell_type": "code",
   "execution_count": 173,
   "metadata": {},
   "outputs": [
    {
     "name": "stdout",
     "output_type": "stream",
     "text": [
      "t.test(c(0.7184466019417476, 0.9006085192697768, 0.9456740442655936, 0.9939393939393938), c(0.728421052631579, 0.8959999999999999, 0.7396694214876034, 0.9819639278557115), paired=TRUE, alternative='two.sided')\n"
     ]
    }
   ],
   "source": [
    "make_r_t_test_string(a[\"Train\"], b[\"Train\"], \"two.sided\")"
   ]
  },
  {
   "cell_type": "raw",
   "metadata": {},
   "source": [
    "t.test(c(0.7184466019417476, 0.9006085192697768, 0.9456740442655936, 0.9939393939393938), c(0.728421052631579, 0.8959999999999999, 0.7396694214876034, 0.9819639278557115), paired=TRUE, alternative='two.sided')\n",
    "\n",
    "        Paired t-test\n",
    "\n",
    "data:  c(0.718446601941748, 0.900608519269777, 0.945674044265594, 0.993939393939394) and c(0.728421052631579, 0.896, 0.739669421487603, 0.981963927855712)\n",
    "t = 1.0391, df = 3, p-value = 0.3752\n",
    "alternative hypothesis: true difference in means is not equal to 0\n",
    "95 percent confidence interval:\n",
    " -0.1096415  0.2159486\n",
    "sample estimates:\n",
    "mean of the differences \n",
    "             0.05315354 "
   ]
  },
  {
   "cell_type": "code",
   "execution_count": 174,
   "metadata": {},
   "outputs": [
    {
     "name": "stdout",
     "output_type": "stream",
     "text": [
      "t.test(c(0.5145631067961165, 0.4630541871921182, 0.4927536231884058, 0.5022421524663678), c(0.46464646464646464, 0.5116279069767441, 0.4577114427860696, 0.5339366515837105), paired=TRUE, alternative='two.sided')\n"
     ]
    }
   ],
   "source": [
    "make_r_t_test_string(a[\"Test\"], b[\"Test\"], \"two.sided\")"
   ]
  },
  {
   "cell_type": "raw",
   "metadata": {},
   "source": [
    "t.test(c(0.5145631067961165, 0.4630541871921182, 0.4927536231884058, 0.5022421524663678), c(0.46464646464646464, 0.5116279069767441, 0.4577114427860696, 0.5339366515837105), paired=TRUE, alternative='two.sided')\n",
    "\n",
    "        Paired t-test\n",
    "\n",
    "data:  c(0.514563106796116, 0.463054187192118, 0.492753623188406, 0.502242152466368) and c(0.464646464646465, 0.511627906976744, 0.45771144278607, 0.533936651583711)\n",
    "t = 0.048284, df = 3, p-value = 0.9645\n",
    "alternative hypothesis: true difference in means is not equal to 0\n",
    "95 percent confidence interval:\n",
    " -0.07611818  0.07846348\n",
    "sample estimates:\n",
    "mean of the differences \n",
    "            0.001172651 "
   ]
  },
  {
   "cell_type": "markdown",
   "metadata": {},
   "source": [
    "### accuracy"
   ]
  },
  {
   "cell_type": "markdown",
   "metadata": {},
   "source": [
    "No statistically significant results"
   ]
  },
  {
   "cell_type": "code",
   "execution_count": 175,
   "metadata": {},
   "outputs": [
    {
     "data": {
      "text/html": [
       "<div>\n",
       "<style scoped>\n",
       "    .dataframe tbody tr th:only-of-type {\n",
       "        vertical-align: middle;\n",
       "    }\n",
       "\n",
       "    .dataframe tbody tr th {\n",
       "        vertical-align: top;\n",
       "    }\n",
       "\n",
       "    .dataframe thead th {\n",
       "        text-align: right;\n",
       "    }\n",
       "</style>\n",
       "<table border=\"1\" class=\"dataframe\">\n",
       "  <thead>\n",
       "    <tr style=\"text-align: right;\">\n",
       "      <th></th>\n",
       "      <th>STM</th>\n",
       "      <th>K</th>\n",
       "      <th>Metric</th>\n",
       "      <th>Train</th>\n",
       "      <th>Test</th>\n",
       "    </tr>\n",
       "  </thead>\n",
       "  <tbody>\n",
       "    <tr>\n",
       "      <th>0</th>\n",
       "      <td>with_domain</td>\n",
       "      <td>10</td>\n",
       "      <td>accuracy</td>\n",
       "      <td>0.737794</td>\n",
       "      <td>0.578059</td>\n",
       "    </tr>\n",
       "    <tr>\n",
       "      <th>2</th>\n",
       "      <td>with_domain</td>\n",
       "      <td>25</td>\n",
       "      <td>accuracy</td>\n",
       "      <td>0.911392</td>\n",
       "      <td>0.540084</td>\n",
       "    </tr>\n",
       "    <tr>\n",
       "      <th>4</th>\n",
       "      <td>with_domain</td>\n",
       "      <td>50</td>\n",
       "      <td>accuracy</td>\n",
       "      <td>0.951175</td>\n",
       "      <td>0.556962</td>\n",
       "    </tr>\n",
       "    <tr>\n",
       "      <th>6</th>\n",
       "      <td>with_domain</td>\n",
       "      <td>100</td>\n",
       "      <td>accuracy</td>\n",
       "      <td>0.994575</td>\n",
       "      <td>0.531646</td>\n",
       "    </tr>\n",
       "  </tbody>\n",
       "</table>\n",
       "</div>"
      ],
      "text/plain": [
       "           STM    K    Metric     Train      Test\n",
       "0  with_domain   10  accuracy  0.737794  0.578059\n",
       "2  with_domain   25  accuracy  0.911392  0.540084\n",
       "4  with_domain   50  accuracy  0.951175  0.556962\n",
       "6  with_domain  100  accuracy  0.994575  0.531646"
      ]
     },
     "execution_count": 175,
     "metadata": {},
     "output_type": "execute_result"
    }
   ],
   "source": [
    "a = df_user_plt.query(\"STM=='with_domain' & Metric=='accuracy'\")\n",
    "a"
   ]
  },
  {
   "cell_type": "code",
   "execution_count": 176,
   "metadata": {},
   "outputs": [
    {
     "data": {
      "text/html": [
       "<div>\n",
       "<style scoped>\n",
       "    .dataframe tbody tr th:only-of-type {\n",
       "        vertical-align: middle;\n",
       "    }\n",
       "\n",
       "    .dataframe tbody tr th {\n",
       "        vertical-align: top;\n",
       "    }\n",
       "\n",
       "    .dataframe thead th {\n",
       "        text-align: right;\n",
       "    }\n",
       "</style>\n",
       "<table border=\"1\" class=\"dataframe\">\n",
       "  <thead>\n",
       "    <tr style=\"text-align: right;\">\n",
       "      <th></th>\n",
       "      <th>STM</th>\n",
       "      <th>K</th>\n",
       "      <th>Metric</th>\n",
       "      <th>Train</th>\n",
       "      <th>Test</th>\n",
       "    </tr>\n",
       "  </thead>\n",
       "  <tbody>\n",
       "    <tr>\n",
       "      <th>8</th>\n",
       "      <td>without_domain</td>\n",
       "      <td>10</td>\n",
       "      <td>accuracy</td>\n",
       "      <td>0.766727</td>\n",
       "      <td>0.552743</td>\n",
       "    </tr>\n",
       "    <tr>\n",
       "      <th>10</th>\n",
       "      <td>without_domain</td>\n",
       "      <td>25</td>\n",
       "      <td>accuracy</td>\n",
       "      <td>0.905967</td>\n",
       "      <td>0.556962</td>\n",
       "    </tr>\n",
       "    <tr>\n",
       "      <th>12</th>\n",
       "      <td>without_domain</td>\n",
       "      <td>50</td>\n",
       "      <td>accuracy</td>\n",
       "      <td>0.772152</td>\n",
       "      <td>0.540084</td>\n",
       "    </tr>\n",
       "    <tr>\n",
       "      <th>14</th>\n",
       "      <td>without_domain</td>\n",
       "      <td>100</td>\n",
       "      <td>accuracy</td>\n",
       "      <td>0.983725</td>\n",
       "      <td>0.565401</td>\n",
       "    </tr>\n",
       "  </tbody>\n",
       "</table>\n",
       "</div>"
      ],
      "text/plain": [
       "               STM    K    Metric     Train      Test\n",
       "8   without_domain   10  accuracy  0.766727  0.552743\n",
       "10  without_domain   25  accuracy  0.905967  0.556962\n",
       "12  without_domain   50  accuracy  0.772152  0.540084\n",
       "14  without_domain  100  accuracy  0.983725  0.565401"
      ]
     },
     "execution_count": 176,
     "metadata": {},
     "output_type": "execute_result"
    }
   ],
   "source": [
    "b = df_user_plt.query(\"STM=='without_domain' & Metric=='accuracy'\")\n",
    "b"
   ]
  },
  {
   "cell_type": "code",
   "execution_count": 178,
   "metadata": {},
   "outputs": [
    {
     "name": "stdout",
     "output_type": "stream",
     "text": [
      "t.test(c(0.7377938517179023, 0.9113924050632911, 0.9511754068716094, 0.9945750452079566), c(0.7667269439421338, 0.9059674502712477, 0.7721518987341772, 0.9837251356238698), paired=TRUE, alternative='two.sided')\n"
     ]
    }
   ],
   "source": [
    "make_r_t_test_string(a[\"Train\"], b[\"Train\"], \"two.sided\")"
   ]
  },
  {
   "cell_type": "raw",
   "metadata": {},
   "source": [
    "t.test(c(0.7377938517179023, 0.9113924050632911, 0.9511754068716094, 0.9945750452079566), c(0.7667269439421338, 0.9059674502712477, 0.7721518987341772, 0.9837251356238698), paired=TRUE, alternative='two.sided')\n",
    "\n",
    "        Paired t-test\n",
    "\n",
    "data:  c(0.737793851717902, 0.911392405063291, 0.951175406871609, 0.994575045207957) and c(0.766726943942134, 0.905967450271248, 0.772151898734177, 0.98372513562387)\n",
    "t = 0.89157, df = 3, p-value = 0.4383\n",
    "alternative hypothesis: true difference in means is not equal to 0\n",
    "95 percent confidence interval:\n",
    " -0.1068689  0.1900515\n",
    "sample estimates:\n",
    "mean of the differences \n",
    "             0.04159132 "
   ]
  },
  {
   "cell_type": "code",
   "execution_count": 177,
   "metadata": {},
   "outputs": [
    {
     "name": "stdout",
     "output_type": "stream",
     "text": [
      "t.test(c(0.5780590717299579, 0.540084388185654, 0.5569620253164557, 0.5316455696202531), c(0.5527426160337553, 0.5569620253164557, 0.540084388185654, 0.5654008438818565), paired=TRUE, alternative='two.sided')\n"
     ]
    }
   ],
   "source": [
    "make_r_t_test_string(a[\"Test\"], b[\"Test\"], \"two.sided\")"
   ]
  },
  {
   "cell_type": "raw",
   "metadata": {},
   "source": [
    "t.test(c(0.5780590717299579, 0.540084388185654, 0.5569620253164557, 0.5316455696202531), c(0.5527426160337553, 0.5569620253164557, 0.540084388185654, 0.5654008438818565), paired=TRUE, alternative='two.sided')\n",
    "\n",
    "        Paired t-test\n",
    "\n",
    "data:  c(0.578059071729958, 0.540084388185654, 0.556962025316456, 0.531645569620253) and c(0.552742616033755, 0.556962025316456, 0.540084388185654, 0.565400843881857)\n",
    "t = -0.15133, df = 3, p-value = 0.8893\n",
    "alternative hypothesis: true difference in means is not equal to 0\n",
    "95 percent confidence interval:\n",
    " -0.04647647  0.04225706\n",
    "sample estimates:\n",
    "mean of the differences \n",
    "           -0.002109705 "
   ]
  },
  {
   "cell_type": "code",
   "execution_count": null,
   "metadata": {},
   "outputs": [],
   "source": []
  }
 ],
 "metadata": {
  "kernelspec": {
   "display_name": "Python [conda env:pystm-models] *",
   "language": "python",
   "name": "conda-env-pystm-models-py"
  },
  "language_info": {
   "codemirror_mode": {
    "name": "ipython",
    "version": 3
   },
   "file_extension": ".py",
   "mimetype": "text/x-python",
   "name": "python",
   "nbconvert_exporter": "python",
   "pygments_lexer": "ipython3",
   "version": "3.7.7"
  }
 },
 "nbformat": 4,
 "nbformat_minor": 4
}
